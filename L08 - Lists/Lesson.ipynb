{
 "cells": [
  {
   "cell_type": "markdown",
   "id": "1b95146a",
   "metadata": {},
   "source": [
    "# L08 - Lists\n",
    "Lists are essentially more functional versions of tuples. The increased functionality comes from the fact that tuples are mutable (i.e. you can make changes to them). "
   ]
  },
  {
   "cell_type": "code",
   "execution_count": null,
   "id": "b9f8231b",
   "metadata": {},
   "outputs": [],
   "source": [
    "quiz_scores = [98, 89, 87, 80, 76, 92]\n",
    "subjects = ['Science', 'History', 'Meth', 'English']"
   ]
  },
  {
   "cell_type": "markdown",
   "id": "7090023a",
   "metadata": {},
   "source": [
    "Lists are created using square brackets [ ], and like tuples, their values are separated by commas and can store any mix of types including other lists. "
   ]
  },
  {
   "cell_type": "markdown",
   "id": "86e237bd",
   "metadata": {},
   "source": [
    "There are many uses for lists\n",
    "\n",
    "    Gathering and storing data\n",
    "    Perform the same operation on a group of data\n",
    "    Sort data\n",
    "    Store data that changes with time\n",
    "    A container where the length is dynamic (i.e. can add or remove values)\n",
    "    "
   ]
  },
  {
   "cell_type": "markdown",
   "id": "9652baab",
   "metadata": {},
   "source": [
    "Getting values from lists works the same way as tuples, using indexing. If we want to see what we got on our second quiz"
   ]
  },
  {
   "cell_type": "code",
   "execution_count": null,
   "id": "1557a0ce",
   "metadata": {},
   "outputs": [],
   "source": [
    "quiz_scores[1]"
   ]
  },
  {
   "cell_type": "markdown",
   "id": "45aecc66",
   "metadata": {},
   "source": [
    "Let's look at the first big difference between lists and tuples. Changing values in the list. As you can see, a typo was made in the subjects list above. Let's look at how we would change that. "
   ]
  },
  {
   "cell_type": "code",
   "execution_count": null,
   "id": "ad2d8972",
   "metadata": {},
   "outputs": [],
   "source": [
    "# want to change third value, so index is 2\n",
    "subjects[2] = 'Math'\n",
    "print(subjects)"
   ]
  },
  {
   "cell_type": "markdown",
   "id": "d3c16392",
   "metadata": {},
   "source": [
    "You can use the assignment operator to change list values. Just be sure that the value you want to change goes on the left side of the assignment operator. Otherwise you will get an error."
   ]
  },
  {
   "cell_type": "markdown",
   "id": "bb51d150",
   "metadata": {},
   "source": [
    "Let's look at some other uses for lists. Let's calculate our average on our quiz scores. We could do this a silly inefficient way like so"
   ]
  },
  {
   "cell_type": "code",
   "execution_count": null,
   "id": "08078410",
   "metadata": {},
   "outputs": [],
   "source": [
    "total = quiz_scores[0] + quiz_scores[1] + quiz_scores[2] + quiz_scores[3] + quiz_scores[4] + quiz_scores[5]\n",
    "average = total / 6\n",
    "print(\"Quiz average: {:.0f}%\".format(average))"
   ]
  },
  {
   "cell_type": "markdown",
   "id": "78c3a44f",
   "metadata": {},
   "source": [
    "Hopefully you can see that this is dumb, so let's do it the smart way this time."
   ]
  },
  {
   "cell_type": "code",
   "execution_count": null,
   "id": "70e2869d",
   "metadata": {},
   "outputs": [],
   "source": [
    "average = sum(quiz_scores) / len(quiz_scores)\n",
    "print(\"Quiz average: {:.0f}%\".format(average))"
   ]
  },
  {
   "cell_type": "markdown",
   "id": "394bd756",
   "metadata": {},
   "source": [
    "The sum() function will automatically return the sum of all the values in the list. And you are familiar with len() already that returns the length of the list. \n",
    "# Removing From Lists\n",
    "Now what's great about lists is that you can make changes. Say your professor is going to drop your lowest quiz grade. So let's take a look at how we would calculate our average after that."
   ]
  },
  {
   "cell_type": "code",
   "execution_count": null,
   "id": "eea33be6",
   "metadata": {},
   "outputs": [],
   "source": [
    "print(\"Old quiz scores:\",quiz_scores)\n",
    "quiz_scores.remove(min(quiz_scores))\n",
    "print(\"New quiz scores:\", quiz_scores)\n",
    "average = sum(quiz_scores) / len(quiz_scores)\n",
    "print(\"Quiz average after lowest dropped: {:.0f}%\".format(average))"
   ]
  },
  {
   "cell_type": "markdown",
   "id": "fd8330a5",
   "metadata": {},
   "source": [
    "list.remove(item) will remove the first instance of item from the list. So if there are multiple values that match item, then it will remove item with the lowest index. Now, if you are interested in removing items from a list based on their index, you can use the pop() method. \n",
    "\n",
    "Let's get rid of English because it's everyone's least favorite subject."
   ]
  },
  {
   "cell_type": "code",
   "execution_count": null,
   "id": "de34c051",
   "metadata": {},
   "outputs": [],
   "source": [
    "icky_subject = subjects.pop()\n",
    "print(icky_subject, \"is a an icky subject.\")\n",
    "print(\"These subjects are okay:\", subjects)\n",
    "boring_subject = subjects.pop(1)\n",
    "print(boring_subject, \"is a boring subject.\")\n",
    "print(\"These subjects are the best:\", subjects)"
   ]
  },
  {
   "cell_type": "markdown",
   "id": "597fef9e",
   "metadata": {},
   "source": [
    "list.pop() will, by default, remove the last item in the list. You can, however, specify an index that you would like to remove. And notice, that when you remove that index, the value that gets removed is returned by the method as you can see with the icky_subject and boring_subject variables. \n",
    "# Adding to Lists\n",
    "We've seen how to get rid of items from a list, but what if we want to add items. There are two ways to do that in principle. The first is through the append(item) method. This method simply adds whatever item you put as an argument to the end of a list."
   ]
  },
  {
   "cell_type": "code",
   "execution_count": null,
   "id": "b85740d5",
   "metadata": {},
   "outputs": [],
   "source": [
    "# You can start lists being completely empty\n",
    "l = []\n",
    "l.append(\"Ham Sandwich\")\n",
    "l.append(\"Burger\")\n",
    "l.append(\"Quesadilla\")\n",
    "print(l)"
   ]
  },
  {
   "cell_type": "markdown",
   "id": "a9956a52",
   "metadata": {},
   "source": [
    "But let's say you don't exactly want that item to go to the end of the list. That's what the insert() method is used for. Insert works by taking taking the index you want to place the item before, and the item as arguments. "
   ]
  },
  {
   "cell_type": "code",
   "execution_count": null,
   "id": "d6fdaefc",
   "metadata": {},
   "outputs": [],
   "source": [
    "l.insert(0, 'Hot Dog')\n",
    "l.insert(2, 'Soup')\n",
    "print(l)"
   ]
  },
  {
   "cell_type": "markdown",
   "id": "745dc13b",
   "metadata": {},
   "source": [
    "# List Sorting\n",
    "List sorting is a very useful tool. There are two different ways to go about it depending on what you want to do. If your only goal is to get the sorted list, and you do not care about the original order, then you can modify the list using the sort() method."
   ]
  },
  {
   "cell_type": "code",
   "execution_count": null,
   "id": "179a555b",
   "metadata": {},
   "outputs": [],
   "source": [
    "quiz_scores = [98, 89, 87, 80, 76, 92]\n",
    "print(quiz_scores)\n",
    "quiz_scores.sort()\n",
    "print(quiz_scores)"
   ]
  },
  {
   "cell_type": "markdown",
   "id": "e00779cc",
   "metadata": {},
   "source": [
    "But if you want to retain the original order of the list, then you cannot use the sort() method because that will destroy the original order. Instead, use the built-in sorted() function. "
   ]
  },
  {
   "cell_type": "code",
   "execution_count": null,
   "id": "7b7790ab",
   "metadata": {},
   "outputs": [],
   "source": [
    "quiz_scores = [98, 89, 87, 80, 76, 92]\n",
    "new_scores = sorted(quiz_scores)\n",
    "print(quiz_scores)\n",
    "print(new_scores)"
   ]
  },
  {
   "cell_type": "markdown",
   "id": "b4a3a11b",
   "metadata": {},
   "source": [
    "You can see after the sorting occured, the original list remains untouched, and the new list has all the same values but sorted. The values are sorted from least to greatest. If you want to sort from greatest to least, you can reverse the sort direction like so."
   ]
  },
  {
   "cell_type": "code",
   "execution_count": null,
   "id": "448ea924",
   "metadata": {},
   "outputs": [],
   "source": [
    "new_scores = sorted(quiz_scores, reverse=True)\n",
    "print(new_scores)"
   ]
  },
  {
   "cell_type": "markdown",
   "id": "cd730a42",
   "metadata": {},
   "source": [
    "You can even sort by your own custom sorting keys. Can you figure out how these values got sorted?"
   ]
  },
  {
   "cell_type": "code",
   "execution_count": null,
   "id": "54b75db7",
   "metadata": {},
   "outputs": [],
   "source": [
    "new_scores = sorted(quiz_scores, key=lambda x: x % 5)\n",
    "print(new_scores)"
   ]
  },
  {
   "cell_type": "markdown",
   "id": "2e1b4881",
   "metadata": {},
   "source": [
    "# Nested Lists\n",
    "Just like tuples, you can put lists inside of lists. This is a common way to introduce 2-Dimensionality into code. For example, if you were creating a battleship game and wanted to store the locations of your ships, you could do so like this with 1s being the location of a ship. "
   ]
  },
  {
   "cell_type": "code",
   "execution_count": null,
   "id": "44dd2a8b",
   "metadata": {},
   "outputs": [],
   "source": [
    "ship_locs = [[1, 1, 0, 0, 0, 0, 0, 1, 0, 0], # outer list has 10 elements, these are the rows\n",
    "            [0, 0, 0, 0, 0, 0, 0, 1, 0, 0],  # each element is a list of 10, these are the cols\n",
    "            [0, 0, 0, 0, 0, 0, 0, 1, 0, 0],  # it's weird bc it appears flipped in this view\n",
    "            [0, 0, 0, 1, 1, 1, 0, 1, 0, 0],\n",
    "            [0, 0, 0, 0, 0, 0, 0, 1, 0, 0],\n",
    "            [0, 0, 0, 0, 0, 0, 0, 0, 1, 0],\n",
    "            [0, 0, 0, 0, 0, 0, 0, 0, 1, 0],\n",
    "            [0, 0, 0, 0, 0, 0, 0, 0, 1, 0],\n",
    "            [0, 1, 1, 1, 1, 0, 0, 0, 0, 0],\n",
    "            [0, 0, 0, 0, 0, 0, 0, 0, 0, 0],]\n",
    "\n",
    "print(\"Ship at coordinate (1, 1):\", ship_locs[1-1][1-1]) # notice coordinates and indexes differ by 1\n",
    "print(\"No ship at coordinate (2, 1):\", ship_locs[2-1][1-1])"
   ]
  },
  {
   "cell_type": "markdown",
   "id": "b0ba86cd",
   "metadata": {},
   "source": [
    "Now you can write a funciton to test to see if a shot hits using coordinates."
   ]
  },
  {
   "cell_type": "code",
   "execution_count": null,
   "id": "7d65d116",
   "metadata": {},
   "outputs": [],
   "source": [
    "def is_hit(ships: list[list[int]], target: tuple[int]): \n",
    "    # the colons and types are annotations. They are more for your\n",
    "    # use if you find them helpful to remember what types your \n",
    "    # parameters should be, but Python ignores these\n",
    "    x, y = target # target holds x and y coords for strike\n",
    "    x -= 1 # board is numbers 1-10 but python will see it as 0-9\n",
    "    y -= 1\n",
    "    hit = ships[x][y] == 1\n",
    "    if hit:\n",
    "        return \"Hit!\"\n",
    "    return \"No Hit!\"\n",
    "\n",
    "print(\"Strike at (1, 1):\", is_hit(ship_locs, (1, 1)))\n",
    "print(\"Strike at (2, 1):\", is_hit(ship_locs, (2, 1)))"
   ]
  }
 ],
 "metadata": {
  "kernelspec": {
   "display_name": "Python 3 (ipykernel)",
   "language": "python",
   "name": "python3"
  },
  "language_info": {
   "codemirror_mode": {
    "name": "ipython",
    "version": 3
   },
   "file_extension": ".py",
   "mimetype": "text/x-python",
   "name": "python",
   "nbconvert_exporter": "python",
   "pygments_lexer": "ipython3",
   "version": "3.9.13"
  }
 },
 "nbformat": 4,
 "nbformat_minor": 5
}
