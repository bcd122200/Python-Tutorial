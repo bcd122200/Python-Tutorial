{
 "cells": [
  {
   "cell_type": "markdown",
   "id": "13b5b880",
   "metadata": {},
   "source": [
    "# Exercises\n",
    "Start with the list of values below then do the following:\n",
    "\n",
    "    Read a user input integer, print it, and add it to the end of the list.\n",
    "    Read another input integer, print it, and make it the third int in the list.\n",
    "    Print on the same line the third and last values in the list\n",
    "    Print the range of values in the list\n",
    "    Print the average of the values in the list\n",
    "    Print the median value\n",
    "    "
   ]
  },
  {
   "cell_type": "code",
   "execution_count": null,
   "id": "d8176dde",
   "metadata": {},
   "outputs": [],
   "source": [
    "values = [14, 10, 8, 19, 6, 13]"
   ]
  },
  {
   "cell_type": "markdown",
   "id": "4ab8ddaf",
   "metadata": {},
   "source": [
    "Pacman gave up fighting ghosts and now he's dedicated his life to searching for gold, but he's still stuck in a maze. You need to help him find the gold by telling him to move right, left, up, or down. The starting position looks like this\n",
    "\n",
    "    *************\n",
    "    * P     X X *\n",
    "    * X X   X X *\n",
    "    * X X     X *\n",
    "    * G X X   X *\n",
    "    *         X *\n",
    "    *************\n",
    "    \n",
    "Most of the code has been provided for you. All you need to do is fill in logic required for the directional movements. For example, if pacman wants to move left, there are two conditions that must be checked. Pacman cannot run into a wall, and he cannot leave the maze. The maze boundaries are not actually a part of the board, and the walls are 'X' characters.\n",
    "\n",
    "Pacman's location is stored in a variable pac. pac[0] holds pacman's vertical position, and pac[1] holds his horizontal position. So if pac == (2, 3), then pacman is in the 3rd row and the 4th column."
   ]
  },
  {
   "cell_type": "code",
   "execution_count": null,
   "id": "24e53ef9",
   "metadata": {},
   "outputs": [],
   "source": [
    "board = [['P', ' ', ' ', 'X', 'X'],\n",
    "        ['X', 'X', ' ', 'X', 'X'],\n",
    "        ['X', 'X', ' ', ' ', 'X'],\n",
    "        ['G', 'X', 'X', ' ', 'X'],\n",
    "        [' ', ' ', ' ', ' ', 'X']]\n",
    "\n",
    "def print_board(board: list[list[str]]):\n",
    "    print('*' * (2*len(board) + 3))\n",
    "    for r in board:\n",
    "        print('* '+' '.join(r), end=\" *\\n\")\n",
    "    print('*' * (2*len(board) + 3))\n",
    "    \n",
    "def move(board: list[list[str]], direction: str):\n",
    "    # make sure direction is valid\n",
    "    if direction.lower() not in ['left', 'right', 'up', 'down']:\n",
    "        return print_board(board)\n",
    "    # find pacman\n",
    "    for i, r in enumerate(board):\n",
    "        if 'P' in r:\n",
    "            pac = (i, r.index('P'))\n",
    "            break\n",
    "    # clear where pacman was\n",
    "    board[pac[0]][pac[1]] = ' '\n",
    "    \n",
    "    # update desired coordinate if possible\n",
    "    if direction == 'left' and \"\"\"fill me out\"\"\":\n",
    "        pac = (pac[0], pac[1] - 1)\n",
    "    elif direction == 'right' and \"\"\"fill me out\"\"\":\n",
    "        pac = (pac[0], pac[1] + 1)\n",
    "    elif direction == 'up' \"\"\"fill me out\"\"\":\n",
    "        pac = (pac[0] - 1, pac[1])\n",
    "    elif direction == 'down' \"\"\"fill me out\"\"\":\n",
    "        pac = (pac[0] + 1, pac[1])\n",
    "    \n",
    "    # check for goal\n",
    "    if board[pac[0]][pac[1]] == 'G':\n",
    "        board[pac[0]][pac[1]] = 'P'\n",
    "        print_board(board)\n",
    "        return True\n",
    "    \n",
    "    # update position\n",
    "    board[pac[0]][pac[1]] = 'P'\n",
    "    print_board(board)\n",
    "    return False\n",
    "    \n",
    "print_board(board)\n",
    "found = False\n",
    "while not found:\n",
    "    found = move(board, input(\"Pick a direction ---> \"))\n",
    "print(\"Pacman found the gold!\")"
   ]
  }
 ],
 "metadata": {
  "kernelspec": {
   "display_name": "Python 3 (ipykernel)",
   "language": "python",
   "name": "python3"
  },
  "language_info": {
   "codemirror_mode": {
    "name": "ipython",
    "version": 3
   },
   "file_extension": ".py",
   "mimetype": "text/x-python",
   "name": "python",
   "nbconvert_exporter": "python",
   "pygments_lexer": "ipython3",
   "version": "3.9.13"
  }
 },
 "nbformat": 4,
 "nbformat_minor": 5
}
