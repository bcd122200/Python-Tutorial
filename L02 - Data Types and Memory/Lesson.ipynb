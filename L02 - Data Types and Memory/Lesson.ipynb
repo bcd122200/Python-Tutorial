{
 "cells": [
  {
   "cell_type": "markdown",
   "id": "021eed39",
   "metadata": {},
   "source": [
    "# L02 - Data Types and Memory"
   ]
  },
  {
   "cell_type": "markdown",
   "id": "ee1e9ab9",
   "metadata": {},
   "source": [
    "# Python Data Types that you'll learn\n",
    "\n",
    "    - int\n",
    "    - float\n",
    "    - str\n",
    "    - tuple\n",
    "    - list\n",
    "    - range\n",
    "    - dict\n",
    "    - set\n",
    "    - bool\n",
    "    - NoneType"
   ]
  },
  {
   "cell_type": "markdown",
   "id": "55b62479",
   "metadata": {},
   "source": [
    "# Python Data Types that you'll learn in this lesson\n",
    "\n",
    "    - int\n",
    "    - float"
   ]
  },
  {
   "cell_type": "markdown",
   "id": "7ccd75e8",
   "metadata": {},
   "source": [
    "Types are representations. Depending on what information you want to represent, you will use a particular type. You can always query what something's type is using the built in command 'type'\n",
    "# int\n",
    "The int data type is used to represent integers. This type is very useful for simple counting tasks, calculations, and especially for indexing (for another time)"
   ]
  },
  {
   "cell_type": "code",
   "execution_count": null,
   "id": "aad6a5a4",
   "metadata": {},
   "outputs": [],
   "source": [
    "type(1)"
   ]
  },
  {
   "cell_type": "code",
   "execution_count": null,
   "id": "aeb1b20d",
   "metadata": {},
   "outputs": [],
   "source": [
    "type(-24)"
   ]
  },
  {
   "cell_type": "markdown",
   "id": "c52ca317",
   "metadata": {},
   "source": [
    "# float\n",
    "The float data type is used to represent rational numbers. This type is used for complex calculations that integers cannot handle. As soon as the decimal point is involved, the data created will be a float and no longer an int, even if there are just zeros after the decimal point"
   ]
  },
  {
   "cell_type": "code",
   "execution_count": null,
   "id": "d726f5fd",
   "metadata": {},
   "outputs": [],
   "source": [
    "type(42.412)"
   ]
  },
  {
   "cell_type": "code",
   "execution_count": null,
   "id": "cce9ad5e",
   "metadata": {},
   "outputs": [],
   "source": [
    "type(-0.0)"
   ]
  },
  {
   "cell_type": "markdown",
   "id": "6bfd4b98",
   "metadata": {},
   "source": [
    "# Operators\n",
    "Operators are one way to manipulate data types.\n",
    "\n",
    "    '+' - addition\n",
    "    '-' - subtraction\n",
    "    '*' - multiplication\n",
    "    '/' - division\n",
    "    '**' - exponentiation\n",
    "    \n",
    "These operators obviously work with ints and floats, but you'll see that they also work for other data types like strings and lists."
   ]
  },
  {
   "cell_type": "code",
   "execution_count": null,
   "id": "923ca483",
   "metadata": {},
   "outputs": [],
   "source": [
    "24 + 84"
   ]
  },
  {
   "cell_type": "code",
   "execution_count": null,
   "id": "dc8f4b3d",
   "metadata": {},
   "outputs": [],
   "source": [
    "8 - 91"
   ]
  },
  {
   "cell_type": "code",
   "execution_count": null,
   "id": "d0cd6861",
   "metadata": {},
   "outputs": [],
   "source": [
    "8 * -4"
   ]
  },
  {
   "cell_type": "code",
   "execution_count": null,
   "id": "f3ec27a0",
   "metadata": {},
   "outputs": [],
   "source": [
    "2**3"
   ]
  },
  {
   "cell_type": "code",
   "execution_count": null,
   "id": "472d96ef",
   "metadata": {},
   "outputs": [],
   "source": [
    "32 / 16"
   ]
  },
  {
   "cell_type": "markdown",
   "id": "0cc87d8e",
   "metadata": {},
   "source": [
    "Note that when adding, subtracting, and multiplying ints, you get ints in return, but when dividing you get a float. And in the case where you mix the two types, you will always get an float in return"
   ]
  },
  {
   "cell_type": "code",
   "execution_count": null,
   "id": "88925d94",
   "metadata": {},
   "outputs": [],
   "source": [
    "2 + 8.0"
   ]
  },
  {
   "cell_type": "code",
   "execution_count": null,
   "id": "8cddc593",
   "metadata": {},
   "outputs": [],
   "source": [
    "73 * 1.2"
   ]
  },
  {
   "cell_type": "code",
   "execution_count": null,
   "id": "b2b1d749",
   "metadata": {},
   "outputs": [],
   "source": [
    "2 / 7"
   ]
  },
  {
   "cell_type": "code",
   "execution_count": null,
   "id": "0b5905dd",
   "metadata": {},
   "outputs": [],
   "source": [
    "3**-2"
   ]
  },
  {
   "cell_type": "markdown",
   "id": "8358d093",
   "metadata": {},
   "source": [
    "# Whole Numbers\n",
    "Sometimes you want to force an answer to be in an integer form. You can do this with integer division using\n",
    "\n",
    "    '//' integer division operator (always rounds down)\n",
    "    '%' modulus operator (remainder after division)"
   ]
  },
  {
   "cell_type": "code",
   "execution_count": null,
   "id": "aca5a916",
   "metadata": {},
   "outputs": [],
   "source": [
    "print(10 // 3)\n",
    "print(10 % 3)"
   ]
  },
  {
   "cell_type": "code",
   "execution_count": null,
   "id": "088a7332",
   "metadata": {},
   "outputs": [],
   "source": [
    "print(11 // 3)\n",
    "print(11 % 3)"
   ]
  },
  {
   "cell_type": "code",
   "execution_count": null,
   "id": "3a47190e",
   "metadata": {},
   "outputs": [],
   "source": [
    "print(12 // 3)\n",
    "print(12 % 3)"
   ]
  },
  {
   "cell_type": "markdown",
   "id": "d2285bc3",
   "metadata": {},
   "source": [
    "# Precedence\n",
    "When computing, there must be an order of operations just like normal math."
   ]
  },
  {
   "cell_type": "code",
   "execution_count": null,
   "id": "d9ceebf7",
   "metadata": {},
   "outputs": [],
   "source": [
    "-40 - 32 * 5 / 9\n",
    "# is not the same as\n",
    "(-40 - 32) * 5 / 9"
   ]
  },
  {
   "cell_type": "markdown",
   "id": "bfa76ece",
   "metadata": {},
   "source": [
    "From highest priority to lowest we get:\n",
    "\n",
    "    ( ) -- parentheses\n",
    "    ** -- exponentiation ordered from right to left\n",
    "    - -- negation\n",
    "    * / // % -- ordered from left to right\n",
    "    + - -- ordered form left to right"
   ]
  },
  {
   "cell_type": "code",
   "execution_count": null,
   "id": "e055c2f1",
   "metadata": {},
   "outputs": [],
   "source": [
    "# What is this quantity?\n",
    "2**3**2"
   ]
  },
  {
   "cell_type": "code",
   "execution_count": null,
   "id": "7fc15337",
   "metadata": {},
   "outputs": [],
   "source": [
    "# Is it different from this one?\n",
    "(2**3)**2"
   ]
  },
  {
   "cell_type": "code",
   "execution_count": null,
   "id": "d58ab292",
   "metadata": {},
   "outputs": [],
   "source": [
    "# What about this one?\n",
    "-2**3**2"
   ]
  },
  {
   "cell_type": "markdown",
   "id": "68a991bb",
   "metadata": {},
   "source": [
    "# Variables\n",
    "Variables are used as memory devices. Let's use variables to calculate some interesting quantities about a cylinder."
   ]
  },
  {
   "cell_type": "code",
   "execution_count": null,
   "id": "09f6c0f8",
   "metadata": {},
   "outputs": [],
   "source": [
    "pi = 3.14\n",
    "radius = 3\n",
    "height = 5\n",
    "base_area = pi * radius ** 2\n",
    "volume = base_area * height\n",
    "surface_area = 2 * base_area + 2 * pi * radius * height\n",
    "print(\"Cylinder volume is\", volume, \"and the surface area is\", surface_area)"
   ]
  },
  {
   "cell_type": "markdown",
   "id": "b5fe968d",
   "metadata": {},
   "source": [
    "The equals sign, \"=\", is called the assignment operator. It is used to assign data to variable names. The assignment always goes from right to left. In the example above, we are assigning the float value 3.14 to the variable name pi. It doesn't work the otherway around."
   ]
  },
  {
   "cell_type": "code",
   "execution_count": null,
   "id": "59c29a6c",
   "metadata": {},
   "outputs": [],
   "source": [
    "3.14 = pi"
   ]
  },
  {
   "cell_type": "markdown",
   "id": "516d666f",
   "metadata": {},
   "source": [
    "# Print\n",
    "Print is a built in function that combines strings together and displays them to the screen. In the example above, we gave it 4 values, 2 strings and 2 floats. It converted the floats to strings and concantenated them all together to be printed to the screen. We'll see more on print later"
   ]
  },
  {
   "cell_type": "markdown",
   "id": "fb502498",
   "metadata": {},
   "source": [
    "# Naming Conventions\n",
    "You can name variables just about however you want, except for a few cases. \n",
    "\n",
    "    You can start any variable name with a letter (capital or lower case) or underscore.\n",
    "    Following characters may be letters, undescores, or numbers.\n",
    "    Case sensitive\n",
    "    must not be a keyword\n",
    "    \n",
    "Keywords are special words that python recognizes to perform certain tasks. They often are colored differently than normal text. You can't assign variables to keywords because then you would lose their functionality. You have already seen examples of some, but here are some popular ones you will become very familiar with:\n",
    "\n",
    "    for\n",
    "    if\n",
    "    elif\n",
    "    else\n",
    "    in\n",
    "    is\n",
    "    and\n",
    "    or\n",
    "    def\n",
    "    import\n",
    "    try\n",
    "    except\n",
    "    break\n",
    "    class\n",
    "    lambda\n",
    "    \n",
    "and many more...\n",
    "\n",
    "It is also worth noting that Python has many built in functions that you would not want to use as variables names because then you lose those functions' capabilities. Some examples of these are\n",
    "\n",
    "    print\n",
    "    abs\n",
    "    list\n",
    "    dict\n",
    "    range\n",
    "    type\n",
    "    max\n",
    "    min\n",
    "    round\n",
    "    \n",
    "and many more...\n",
    "\n",
    "Finally, you may want to name variables using more than one word. Putting multiple words together canbehardtoread, so there are a couple standard practices to help you\n",
    "\n",
    "    Camel Case: CamalCaseInvolvesCapitalizingTheFirstLetterOfEveryWord or everyWordAfterTheFirst\n",
    "    Underscores: This_one_is_self_explanator"
   ]
  },
  {
   "cell_type": "markdown",
   "id": "4e96e299",
   "metadata": {},
   "source": [
    "Variable assigment will always be the last operation to happen, so you can include complicated expressions in your variable assignments"
   ]
  },
  {
   "cell_type": "code",
   "execution_count": null,
   "id": "30666dc3",
   "metadata": {},
   "outputs": [],
   "source": [
    "circumference = 2 * pi * radius"
   ]
  },
  {
   "cell_type": "markdown",
   "id": "f17b6842",
   "metadata": {},
   "source": [
    "The value of 2 * pi * radius will be fully calculated before the 'circumference' variable is assigned (i.e. circumference will not be given the value of 2 unless pi * radius = 1)"
   ]
  },
  {
   "cell_type": "markdown",
   "id": "7f41354c",
   "metadata": {},
   "source": [
    "# Exercise \n",
    "Create 2 invalid names and 4 valid names using the characters \"8\", \"b\", \"_\""
   ]
  },
  {
   "cell_type": "code",
   "execution_count": null,
   "id": "d3573255",
   "metadata": {},
   "outputs": [],
   "source": []
  },
  {
   "cell_type": "markdown",
   "id": "91a1efd6",
   "metadata": {},
   "source": [
    "# Mixed Operators\n",
    "Some times you want to update the value of a variable based on the starting value of the variable. For example"
   ]
  },
  {
   "cell_type": "code",
   "execution_count": null,
   "id": "fb6d2bd4",
   "metadata": {},
   "outputs": [],
   "source": [
    "number = 5\n",
    "number = number + 1\n",
    "print(number)"
   ]
  },
  {
   "cell_type": "markdown",
   "id": "917d6f48",
   "metadata": {},
   "source": [
    "This is very common in python, so Python has mixed operators to shorten this for us by combining the assignment operator with other operators.\n",
    "\n",
    "    +=\n",
    "    -=\n",
    "    *=\n",
    "    /="
   ]
  },
  {
   "cell_type": "code",
   "execution_count": null,
   "id": "b6aab737",
   "metadata": {},
   "outputs": [],
   "source": [
    "number = 5\n",
    "number += 1\n",
    "print(number)"
   ]
  }
 ],
 "metadata": {
  "kernelspec": {
   "display_name": "Python 3 (ipykernel)",
   "language": "python",
   "name": "python3"
  },
  "language_info": {
   "codemirror_mode": {
    "name": "ipython",
    "version": 3
   },
   "file_extension": ".py",
   "mimetype": "text/x-python",
   "name": "python",
   "nbconvert_exporter": "python",
   "pygments_lexer": "ipython3",
   "version": "3.9.13"
  }
 },
 "nbformat": 4,
 "nbformat_minor": 5
}
