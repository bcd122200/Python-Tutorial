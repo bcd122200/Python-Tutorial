{
 "cells": [
  {
   "cell_type": "markdown",
   "id": "27d43e96",
   "metadata": {},
   "source": [
    "# Exercises"
   ]
  },
  {
   "cell_type": "markdown",
   "id": "5f8e5e51",
   "metadata": {},
   "source": [
    "Assuming you start with $100 and earn 5 percent interest each year, how much will you have at the end of one year, two years and three years? Write Python expressions to calculate these, using variables as appropriate. "
   ]
  },
  {
   "cell_type": "code",
   "execution_count": null,
   "id": "b2b27bde",
   "metadata": {},
   "outputs": [],
   "source": []
  },
  {
   "cell_type": "markdown",
   "id": "298f0b51",
   "metadata": {},
   "source": [
    "Write a single line of Python code that converts the temperature 64 from Celsius to Fahrenheit and prints the value. The output should just be the number that your code produces. Your code must include the use of an expression involving multiplication and a print function call."
   ]
  },
  {
   "cell_type": "code",
   "execution_count": null,
   "id": "d0ca5391",
   "metadata": {},
   "outputs": [],
   "source": []
  }
 ],
 "metadata": {
  "kernelspec": {
   "display_name": "Python 3 (ipykernel)",
   "language": "python",
   "name": "python3"
  },
  "language_info": {
   "codemirror_mode": {
    "name": "ipython",
    "version": 3
   },
   "file_extension": ".py",
   "mimetype": "text/x-python",
   "name": "python",
   "nbconvert_exporter": "python",
   "pygments_lexer": "ipython3",
   "version": "3.9.13"
  }
 },
 "nbformat": 4,
 "nbformat_minor": 5
}
