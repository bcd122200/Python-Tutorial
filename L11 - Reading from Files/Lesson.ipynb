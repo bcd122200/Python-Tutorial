{
 "cells": [
  {
   "cell_type": "markdown",
   "id": "632ec0ae",
   "metadata": {},
   "source": [
    "# L11 - Reading from Files\n",
    "Parsing files is often a task that involves string manipulation, so let's go over some common string methods used.\n",
    "# strip(), lstrip(), rstrip()\n",
    "If you recall that strip will remove certain characters (empty space by default) from both ends of a string. If you only want to remove things from the left or right sides, then you can use lstrip() or rstrip(), respectively."
   ]
  },
  {
   "cell_type": "code",
   "execution_count": null,
   "id": "924e27e1",
   "metadata": {},
   "outputs": [],
   "source": [
    "s = 'ooga booga ooga booga ooga booga ooga'\n",
    "print(s.strip('ooga'))\n",
    "print(s.strip('ooga').strip())\n",
    "print(s.lstrip('ooga'))\n",
    "print(s.rstrip('ooga'))"
   ]
  },
  {
   "cell_type": "markdown",
   "id": "48366dcd",
   "metadata": {},
   "source": [
    "# split()\n",
    "split will split a string at the chosen delimeter (empty space by default)"
   ]
  },
  {
   "cell_type": "code",
   "execution_count": null,
   "id": "ca7d6a15",
   "metadata": {},
   "outputs": [],
   "source": [
    "at_space = s.split()\n",
    "at_ooga = s.split('ooga')\n",
    "at_booga = s.split('booga')\n",
    "print(at_space)\n",
    "print(at_ooga)\n",
    "print(at_booga)"
   ]
  },
  {
   "cell_type": "markdown",
   "id": "ca622710",
   "metadata": {},
   "source": [
    "# find() and in\n",
    "The find method will return the index of the first location of an input string or -1 if the string input string is not in the string the method is being called on. The keyword 'in' can be used to determine if certain substrings are in a string (or if values are in a list, tuple or other container)"
   ]
  },
  {
   "cell_type": "code",
   "execution_count": null,
   "id": "e7949bb3",
   "metadata": {},
   "outputs": [],
   "source": [
    "print(s.find('o'))\n",
    "print(s.find('o', 2))\n",
    "print(s.find('c'))\n",
    "print('o' in s)\n",
    "print('c' in s)"
   ]
  },
  {
   "cell_type": "markdown",
   "id": "a5d0de3e",
   "metadata": {},
   "source": [
    "# Reading files\n",
    "Unsurprisingly, we can open files with the built-in function open()"
   ]
  },
  {
   "cell_type": "code",
   "execution_count": null,
   "id": "8be87350",
   "metadata": {},
   "outputs": [],
   "source": [
    "f = open('scores.txt')"
   ]
  },
  {
   "cell_type": "markdown",
   "id": "e3cc6206",
   "metadata": {},
   "source": [
    "or"
   ]
  },
  {
   "cell_type": "code",
   "execution_count": null,
   "id": "d17b74a3",
   "metadata": {},
   "outputs": [],
   "source": [
    "f = open('scores.txt', 'r')"
   ]
  },
  {
   "cell_type": "markdown",
   "id": "5d678685",
   "metadata": {},
   "source": [
    "What's the difference? None. The 'r' let's python know that you are opening this files to read from it, and this is the default configuration for open(), so you do not need to include the 'r' if you are reading from a file. \n",
    "\n",
    "The variable f now points to our text file, so we can use that to access its contents. One method is readline(). Try running the code below a couple times and notice what happens."
   ]
  },
  {
   "cell_type": "code",
   "execution_count": null,
   "id": "8f3dcb6d",
   "metadata": {},
   "outputs": [],
   "source": [
    "line = f.readline()\n",
    "print(line)"
   ]
  },
  {
   "cell_type": "markdown",
   "id": "2e6769c7",
   "metadata": {},
   "source": [
    "readline() will read one line of the text file at a time. If you want all the contents spit out into one string, then you can use the read() method."
   ]
  },
  {
   "cell_type": "code",
   "execution_count": null,
   "id": "9bf25952",
   "metadata": {},
   "outputs": [],
   "source": [
    "f = open('scores.txt')\n",
    "s = f.read()\n",
    "print(s)"
   ]
  },
  {
   "cell_type": "markdown",
   "id": "2f7b5746",
   "metadata": {},
   "source": [
    "The choice is yours whether you'd prefer to parse one line at a time or parse through the whole file all at once. Note that when you've reached the end of the file and try to use either readline() or read() you will get an empty string in return. \n",
    "\n",
    "Of course you're not going to want to manually use the readline() method to get through a massive file, however. So you can use this in junction with a for loop."
   ]
  },
  {
   "cell_type": "code",
   "execution_count": null,
   "id": "adfc8a1a",
   "metadata": {},
   "outputs": [],
   "source": [
    "f = open('scores.txt')\n",
    "for line in f:\n",
    "    print(line)"
   ]
  },
  {
   "cell_type": "markdown",
   "id": "f65172e7",
   "metadata": {},
   "source": [
    "Notice there are now extra spaces between numbers. This is because each line in the text file has a '\\n' at the end where the text moves to the next line. And print by default adds a '\\n' to the end of the print statement, so each score has a '\\n\\n' after it.\n",
    "\n",
    "You can condense this statement even further if you would like getting rid of the first line."
   ]
  },
  {
   "cell_type": "code",
   "execution_count": null,
   "id": "633cc2a8",
   "metadata": {},
   "outputs": [],
   "source": [
    "for line in open('scores.txt'):\n",
    "    print(line.strip())"
   ]
  },
  {
   "cell_type": "markdown",
   "id": "f11b05c5",
   "metadata": {},
   "source": [
    "Now with the strip() method we got rid of those extra spaces. \n",
    "\n",
    "If you want to read a file multiple times, you will need to close it to open it back up again. "
   ]
  },
  {
   "cell_type": "code",
   "execution_count": null,
   "id": "360737d0",
   "metadata": {},
   "outputs": [],
   "source": [
    "f = open('scores.txt')\n",
    "print(f.readline())\n",
    "f.close()\n",
    "f = open('scores.txt')\n",
    "print(f.readline())"
   ]
  },
  {
   "cell_type": "markdown",
   "id": "e49cbb06",
   "metadata": {},
   "source": [
    "The following code will compute the average of the scores. Just input the name of the file."
   ]
  },
  {
   "cell_type": "code",
   "execution_count": null,
   "id": "99b8f196",
   "metadata": {},
   "outputs": [],
   "source": [
    "filename = input(\"File name ---> \").strip() # remove any extra spaces the user may include\n",
    "\n",
    "total = 0\n",
    "num = 0\n",
    "for line in open(filename):\n",
    "    total += int(line)\n",
    "    num += 1\n",
    "\n",
    "print(\"Average score: {:.1f}\".format(total/num))"
   ]
  },
  {
   "cell_type": "markdown",
   "id": "604d497e",
   "metadata": {},
   "source": [
    "# Writing to files\n",
    "Sometimes you may want to store the data you create in a file. You can do this with the same open() function"
   ]
  },
  {
   "cell_type": "code",
   "execution_count": null,
   "id": "f9aaed67",
   "metadata": {},
   "outputs": [],
   "source": [
    "f_out = open('out.txt', 'w')"
   ]
  },
  {
   "cell_type": "markdown",
   "id": "f1e0cf7c",
   "metadata": {},
   "source": [
    "This time we do need to include the second argument. The 'w' let's the open function know that you want to write to a file. A word of caution: 'w' will erase the contents of the output file if that file already exists. If you want to add to the end of an existing file, you can use 'a', the append mode."
   ]
  },
  {
   "cell_type": "code",
   "execution_count": null,
   "id": "2e36d5b7",
   "metadata": {},
   "outputs": [],
   "source": [
    "f_out = open('out.txt', 'a')"
   ]
  },
  {
   "cell_type": "markdown",
   "id": "12590ace",
   "metadata": {},
   "source": [
    "To actually write to the contents of the out file, you use the write() method where it takes a string as its input argument."
   ]
  },
  {
   "cell_type": "code",
   "execution_count": null,
   "id": "4e96c04e",
   "metadata": {},
   "outputs": [],
   "source": [
    "f_out.write(\"Hello World!\\n\")"
   ]
  },
  {
   "cell_type": "markdown",
   "id": "bb2d6665",
   "metadata": {},
   "source": [
    "Note that unlike print(), there are no characters like '\\n' added on to the end of the string by default. The other big difference is that it cannot handle non-string variables. If you want to write a int or float value to a file, you must convert it to a string first with the str() function. \n",
    "\n",
    "To actually get the contents you've written to your file to save, you must close your writing file."
   ]
  },
  {
   "cell_type": "code",
   "execution_count": null,
   "id": "2bdacd2d",
   "metadata": {},
   "outputs": [],
   "source": [
    "f_out.close()"
   ]
  },
  {
   "cell_type": "markdown",
   "id": "c4d4f52b",
   "metadata": {},
   "source": [
    "Remembering to close your file is annoying, so Python has a structure that will automatically do it for you."
   ]
  },
  {
   "cell_type": "code",
   "execution_count": null,
   "id": "f8bbc9e2",
   "metadata": {},
   "outputs": [],
   "source": [
    "with open('out.txt', 'w') as f_out:\n",
    "    f_out.write(\"You smell\")"
   ]
  },
  {
   "cell_type": "markdown",
   "id": "b43ebba0",
   "metadata": {},
   "source": [
    "After you leave the scope of the with block, the file will automatically be closed for you.\n",
    "# Parsing formatted files\n",
    "Often, files you want to parse will have a standard form to make parsing through them easier. We'll look at an example of parsing a grocery list text file that includes 'Grocery List' on line one as a title for the list."
   ]
  },
  {
   "cell_type": "code",
   "execution_count": null,
   "id": "393685da",
   "metadata": {},
   "outputs": [],
   "source": [
    "f = open('grocery.txt')\n",
    "title = f.readline().strip()\n",
    "items = []\n",
    "quantities = []\n",
    "for line in f:\n",
    "    parts = line.split(',')\n",
    "    items.append(parts[0].strip())\n",
    "    quantities.append(int(parts[1].strip()))\n",
    "\n",
    "print(title)\n",
    "for item, quantity in zip(items, quantities):\n",
    "    print(\"Need {} in quanitity {}\".format(item, quantity))"
   ]
  },
  {
   "cell_type": "markdown",
   "id": "bbe8cb7f",
   "metadata": {},
   "source": [
    "Knowing how to parse through text is a very powerful tool because it can be applied to many different areas. Like working with csv files or even parsing data from internet webpages."
   ]
  }
 ],
 "metadata": {
  "kernelspec": {
   "display_name": "Python 3 (ipykernel)",
   "language": "python",
   "name": "python3"
  },
  "language_info": {
   "codemirror_mode": {
    "name": "ipython",
    "version": 3
   },
   "file_extension": ".py",
   "mimetype": "text/x-python",
   "name": "python",
   "nbconvert_exporter": "python",
   "pygments_lexer": "ipython3",
   "version": "3.9.13"
  }
 },
 "nbformat": 4,
 "nbformat_minor": 5
}
