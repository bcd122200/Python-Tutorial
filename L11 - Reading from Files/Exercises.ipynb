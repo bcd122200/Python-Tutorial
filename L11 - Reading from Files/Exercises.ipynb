{
 "cells": [
  {
   "cell_type": "markdown",
   "id": "d25833df",
   "metadata": {},
   "source": [
    "# Exercises\n",
    "The text file 'months.txt' contains all the months in the calendar year. Your job is to create a file called 'months_sorted.txt' that contains all 12 months but in alphabetical order."
   ]
  },
  {
   "cell_type": "code",
   "execution_count": null,
   "id": "4f900cd6",
   "metadata": {},
   "outputs": [],
   "source": []
  },
  {
   "cell_type": "markdown",
   "id": "dd77fe0e",
   "metadata": {},
   "source": [
    "The file 'report.txt' is the report card of a student. You should print their information in a neat format, print their average course score, which course they did the best in, and which course they did the worst in."
   ]
  },
  {
   "cell_type": "code",
   "execution_count": null,
   "id": "374196bb",
   "metadata": {},
   "outputs": [],
   "source": []
  }
 ],
 "metadata": {
  "kernelspec": {
   "display_name": "Python 3 (ipykernel)",
   "language": "python",
   "name": "python3"
  },
  "language_info": {
   "codemirror_mode": {
    "name": "ipython",
    "version": 3
   },
   "file_extension": ".py",
   "mimetype": "text/x-python",
   "name": "python",
   "nbconvert_exporter": "python",
   "pygments_lexer": "ipython3",
   "version": "3.9.13"
  }
 },
 "nbformat": 4,
 "nbformat_minor": 5
}
