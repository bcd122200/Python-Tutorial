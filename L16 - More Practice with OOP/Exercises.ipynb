{
 "cells": [
  {
   "cell_type": "markdown",
   "id": "f4fd27e0",
   "metadata": {},
   "source": [
    "# Exercises\n",
    "Write a method called scale that takes a floating point input argument and multiplies the x and y coordinates of Point2D by that floating point value. Note this should not return a new Point2D object, but modify the existing one.\n",
    "\n",
    "Write a method called dominates that takes another Point2D object as an input argument and returns true if the Point2D object that the method was called on dominates the input Point2D object. Dominates in this sense means the absolute value of the x coordinate is greater than the other one and the absolute value of the y coordinate is greater than the other one"
   ]
  },
  {
   "cell_type": "code",
   "execution_count": null,
   "id": "2b0e7b7c",
   "metadata": {},
   "outputs": [],
   "source": [
    "class Point2D(object):\n",
    "    def __init__(self, x0=0, y0=0):\n",
    "        self.x = x0\n",
    "        self.y = y0\n",
    "        \n",
    "    def __add__(self, o):\n",
    "        return Point2D(self.x + o.x, self.y + o.y)\n",
    "    \n",
    "    def __sub__(self, o):\n",
    "        return Point2D(self.x - o.x, self.y - o.y)\n",
    "    \n",
    "    def __eq__(self, o):\n",
    "        return self.magnitude() == o.magnitude()\n",
    "    \n",
    "    def __neg__(self):\n",
    "        return Point2D(-self.x, -self.y)\n",
    "    \n",
    "    def __str__(self):\n",
    "        return \"({:.1f},{:.1f})\".format(self.x, self.y)\n",
    "        \n",
    "    def magnitude(self):\n",
    "        return pow(self.x**2 + self.y**2, 1/2)\n",
    "    \n",
    "    def dist(self, o):\n",
    "        return pow((self.x - o.x)**2 + (self.y - o.y)**2, 1/2)\n",
    "    \n",
    "    \n",
    "p1 = Point2D(4.3, -3.2)\n",
    "p2 = Point2D(-5.2, 4.9)\n",
    "print(\"{} dominates {}:\".format(p1, p2), p1.dominates(p2))\n",
    "p1.scale(2.3)\n",
    "print(\"{} dominates {}:\".format(p1, p2), p1.dominates(p2))"
   ]
  },
  {
   "cell_type": "markdown",
   "id": "5317aa82",
   "metadata": {},
   "source": [
    "Write a class called Triangle that is defined by 3 Point2D objects. The ______init__ function should take 3 input arguments: the three points. \n",
    "\n",
    "There should be an area method that calculates the area of the triangle based on the coordinates of the 3 points:\n",
    "\n",
    "    abs(Ax(By-Cy) + Bx(Cy-Ay) + Cx(Ay-By)) / 2\n",
    "    \n",
    "There should be a center method that returns a Point2D object located at the centroid of the triangle\n",
    "    \n",
    "Lastly, there should be a method an inside method that takes a Point2D object as input and returns True if the point is inside the triangle and false otherwise."
   ]
  },
  {
   "cell_type": "code",
   "execution_count": null,
   "id": "430f0363",
   "metadata": {},
   "outputs": [],
   "source": [
    "class Triangle(object):\n",
    "    \n",
    "    \n",
    "\n",
    "    \n",
    "t = Triangle(Point2D(), Point2D(0, 5), Point2D(5, 0))\n",
    "print(t.inside(Point2D(1, 1)))\n",
    "print(t.center())"
   ]
  },
  {
   "cell_type": "code",
   "execution_count": null,
   "id": "4293342f",
   "metadata": {},
   "outputs": [],
   "source": []
  }
 ],
 "metadata": {
  "kernelspec": {
   "display_name": "Python 3 (ipykernel)",
   "language": "python",
   "name": "python3"
  },
  "language_info": {
   "codemirror_mode": {
    "name": "ipython",
    "version": 3
   },
   "file_extension": ".py",
   "mimetype": "text/x-python",
   "name": "python",
   "nbconvert_exporter": "python",
   "pygments_lexer": "ipython3",
   "version": "3.9.13"
  }
 },
 "nbformat": 4,
 "nbformat_minor": 5
}
