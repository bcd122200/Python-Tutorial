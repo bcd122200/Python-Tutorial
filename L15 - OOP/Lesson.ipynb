{
 "cells": [
  {
   "cell_type": "markdown",
   "id": "546b7751",
   "metadata": {},
   "source": [
    "# L15 - OOP\n",
    "Object Oriented Programming (OOP) is yet another level of abstraction. Let's start with a motivating example. Let's say you wanted to keep track of several (x, y) coordinates. How would you do that, currently? \n",
    "\n",
    "With tuples?"
   ]
  },
  {
   "cell_type": "code",
   "execution_count": null,
   "id": "b643c0b7",
   "metadata": {},
   "outputs": [],
   "source": [
    "p1 = (1.0, 4.2)\n",
    "p2 = (3.2, -5.2)\n",
    "points = [p1, p2]"
   ]
  },
  {
   "cell_type": "markdown",
   "id": "522bfc09",
   "metadata": {},
   "source": [
    "Now what if I wanted to ask you a bunch of information about these points. Like where the midpoint is, what's the distance between them, which point has a larger magnitute. You would need to write functions to help you compute these. Okay that's fine, but now I want to move p1 3.0 units to the right. You'd have to remake the tuple of coordinates every time.\n",
    "\n",
    "Sure you could use lists, but then you run the risk of accidentally altering coordinates and introducing bugs into your code. Plus storing a list of points makes indexing a nightmare potentially. So what's the solution here?\n",
    "\n",
    "We can create our own object called a Point2D or whatever you want to call it, that acts as a point!"
   ]
  },
  {
   "cell_type": "code",
   "execution_count": null,
   "id": "e4fac8d5",
   "metadata": {},
   "outputs": [],
   "source": [
    "class Point2D(object):\n",
    "    pass"
   ]
  },
  {
   "cell_type": "markdown",
   "id": "52618035",
   "metadata": {},
   "source": [
    "The pass keyword let's us not worry about the actually implementation of the class just yet. Just letting Python know that it's there, and we might do something with it. The objects we create really only have value once we give them attributes. Attributes are object variables that are specific to an instantiation of an object. For example,"
   ]
  },
  {
   "cell_type": "code",
   "execution_count": null,
   "id": "22aaa6d1",
   "metadata": {},
   "outputs": [],
   "source": [
    "p1 = Point2D() # This creates an instance of the Point2D class\n",
    "p2 = Point2D() # This creates another independent instance of the Point2D class"
   ]
  },
  {
   "cell_type": "markdown",
   "id": "ac428fc4",
   "metadata": {},
   "source": [
    "We can now give each instantiation their own personal variables, or attributes. "
   ]
  },
  {
   "cell_type": "code",
   "execution_count": null,
   "id": "12d34feb",
   "metadata": {},
   "outputs": [],
   "source": [
    "p1.x = 1.0\n",
    "p1.y = 4.2\n",
    "p2.x = 3.2\n",
    "p2.y = -5.2\n",
    "print(p1.x, p1.y)\n",
    "print(p2.x, p2.y)"
   ]
  },
  {
   "cell_type": "markdown",
   "id": "c0c78c48",
   "metadata": {},
   "source": [
    "A couple things to note. You can tell if something is an attribute by if it uses the dot syntax with no function call operators (i.e. no parentheses). Secondly, we can use the same name for an attribute across several different instances of the class, and they retain their independent values because they are associated with a particular instance. \n",
    "\n",
    "This is great, but kind of annoying to assign attributes like this. You could easily forget to define an attribute or make a mistake in what you named the attribute if you have to do it every time. \n",
    "# Initialization\n",
    "You could create the x and y attributes like this"
   ]
  },
  {
   "cell_type": "code",
   "execution_count": null,
   "id": "d861c325",
   "metadata": {},
   "outputs": [],
   "source": [
    "class Point2D(object):\n",
    "    x = 0\n",
    "    y = 0\n",
    "    \n",
    "p = Point2D()\n",
    "print(p.x, p.y)\n",
    "p.x, p.y = (2, 9)\n",
    "print(p.x, p.y)"
   ]
  },
  {
   "cell_type": "markdown",
   "id": "038db2ec",
   "metadata": {},
   "source": [
    "Using this technique, you are guaranteed that every Point2D object has x and y attributes since we put the initialization inside the class definition. But we still need to externally define the values if we do not want the default value. This is prone to the same potential bugs as before. \n",
    "\n",
    "The solution is to use an initializer function. It works like this"
   ]
  },
  {
   "cell_type": "code",
   "execution_count": null,
   "id": "633a347d",
   "metadata": {},
   "outputs": [],
   "source": [
    "class Point2D(object):\n",
    "    def __init__(self, x0, y0):\n",
    "        self.x = x0\n",
    "        self.y = y0\n",
    "        \n",
    "p = Point2D(2.4, 8.1)\n",
    "print(p.x, p.y)"
   ]
  },
  {
   "cell_type": "markdown",
   "id": "626cc657",
   "metadata": {},
   "source": [
    "Woah, lot going on there. What's ______init__ and self? ______init__ is a special function that gets called every time a new instance of Point2D is created (i.e. It gets called by default on line 6). It takes at least 1 parameter, self (we'll come back to that), but in this case it takes 3. x0 and y0 are parameters that are used to assign the input arguments to the objects x and y attributes as seen on lines 3 & 4. So when line 6 is executed, the ______init__ function is called, x0 becomes 2.4, y0 becomes 8.1, and the object we call variable p gets two attributes: x given the value of 2.4 and y given the value of 8.1. We can tell that ______init__ is a special function by the two underscores on either side of the name. We will see some other special functions later and learn more about them. \n",
    "\n",
    "So what is self? self is the keyword that Python uses that allows objects to refer to themselves. Put yourself in the shoes of our Point2D object p. When you are created, some all-knowing user gives you the values 2.4 and 8.1 and says, \"Hey there little fella, these should be your x and y values. Don't forget them!\" In order for you to remember them, you have to explicitly say that they are yours. So on line 3 you say, that x value is __*my*__ x value. And on line 4 you say, that y value is __*my*__ y value. Without the keyword self, the Point2D object p has no way of claiming the x and y values for himself."
   ]
  },
  {
   "cell_type": "code",
   "execution_count": null,
   "id": "f31ebcb9",
   "metadata": {},
   "outputs": [],
   "source": [
    "class Point2D(object):\n",
    "    def __init__(self, x0=0, y0=0):\n",
    "        self.x = x0\n",
    "        self.y = y0\n",
    "        \n",
    "p = Point2D()\n",
    "print(p.x, p.y)"
   ]
  },
  {
   "cell_type": "markdown",
   "id": "a5fa2f29",
   "metadata": {},
   "source": [
    "The ______init__ method is often the first method defined when you are creating your own class. It like any other function or method can take default values as well.\n",
    "\n",
    "# Methods\n",
    "In just about every other lesson, you have heard the term method. Use this method. Use that method. But what is a method. Simply put, it is a function that specifically operates on an object. They too use the dot syntax and have the function call operators at the end.\n",
    "\n",
    "    list.sort()\n",
    "    dict.keys()\n",
    "    string.format()\n",
    "    \n",
    "These are all examples of methods that you have seen so far. So let's look at writing our own methods."
   ]
  },
  {
   "cell_type": "code",
   "execution_count": null,
   "id": "68f11db1",
   "metadata": {},
   "outputs": [],
   "source": [
    "class Point2D(object):\n",
    "    def __init__(self, x0, y0):\n",
    "        self.x = x0\n",
    "        self.y = y0\n",
    "        \n",
    "    def magnitude(self):\n",
    "        return pow(self.x**2 + self.y**2, 1/2)\n",
    "    \n",
    "    def dist(self, o):\n",
    "        return pow((self.x - o.x)**2 + (self.y - o.y)**2, 1/2)"
   ]
  },
  {
   "cell_type": "markdown",
   "id": "1a924597",
   "metadata": {},
   "source": [
    "Note they are defined similarly to regular functions with a couple subtle differences. They are defined within the scope of class (i.e. one indent further than the class definition). Also, there's self again! The self is there to support the dot syntax. Let's examine the following lines of code to call the magnitude method:"
   ]
  },
  {
   "cell_type": "code",
   "execution_count": null,
   "id": "1f3b79dc",
   "metadata": {},
   "outputs": [],
   "source": [
    "p = Point2D(3, 4)\n",
    "m = p.magnitude()\n",
    "print(m)"
   ]
  },
  {
   "cell_type": "markdown",
   "id": "09f11dac",
   "metadata": {},
   "source": [
    "We have one parameter in the method definition (self), but it appears that we don't have any input arguments. In actuality, Python inteprets the code something like this:"
   ]
  },
  {
   "cell_type": "code",
   "execution_count": null,
   "id": "bea12d02",
   "metadata": {},
   "outputs": [],
   "source": [
    "p = Point2D(3, 4)\n",
    "m = Point2D.magnitude(p)\n",
    "print(m)"
   ]
  },
  {
   "cell_type": "markdown",
   "id": "54ad766e",
   "metadata": {},
   "source": [
    "The first argument is the actual Point2D objects itself. While this syntax makes it very clear what exactly is happening, we often use the dot syntax for simplicity: p.magnitude(). The self parameter makes sure that all the operations in the method that use attributes are the attributes of the p object and not some other object. "
   ]
  },
  {
   "cell_type": "code",
   "execution_count": null,
   "id": "1732ac01",
   "metadata": {},
   "outputs": [],
   "source": [
    "p1 = Point2D(3, 4)\n",
    "p2 = Point2D(9, 12)\n",
    "print(p1.magnitude())"
   ]
  },
  {
   "cell_type": "markdown",
   "id": "6908d10e",
   "metadata": {},
   "source": [
    "So all object methods have at least one parameter as we saw with the ______init__ method. And just like the ______init__ method, we can have other parameters to allow for input arguments. Like the dist method. This method computes the distance between the object and some other Point2D object. That's why in the formula you see the object's own x coordinates are being used with the parameter's x coordinates. Same with the y coordinates. "
   ]
  },
  {
   "cell_type": "code",
   "execution_count": null,
   "id": "ede198e1",
   "metadata": {},
   "outputs": [],
   "source": [
    "print(p1.dist(p2))\n",
    "print(Point2D.dist(p1, p2))"
   ]
  },
  {
   "cell_type": "markdown",
   "id": "4b453dbf",
   "metadata": {},
   "source": [
    "# Other Special Functions\n",
    "Remember the ______init__ method had a special use as an initializor or constructor? Let's look at some other special functions. Let's use a motivating example. Adding things together is really useful. We do it with string and ints and floats, even lists. But how does Python know what to do with each type."
   ]
  },
  {
   "cell_type": "code",
   "execution_count": null,
   "id": "a5887745",
   "metadata": {},
   "outputs": [],
   "source": [
    "print(1 + 2)\n",
    "print(\"Hello \" + \"World!\")\n",
    "print([1,2] + [3,4])"
   ]
  },
  {
   "cell_type": "markdown",
   "id": "95976295",
   "metadata": {},
   "source": [
    "Why is there different behavior for adding ints and lists? This is because the addition operator is defined uniquely for each type of object. So if you create your own object and try to use operators, you will run into some issues."
   ]
  },
  {
   "cell_type": "code",
   "execution_count": null,
   "id": "c42c8fb4",
   "metadata": {},
   "outputs": [],
   "source": [
    "p1 + p2"
   ]
  },
  {
   "cell_type": "markdown",
   "id": "7feed346",
   "metadata": {},
   "source": [
    "Python has no idea what it means to add two Point2D objects because you created the objects. How is it supposed to know? Well that's simple, you tell it."
   ]
  },
  {
   "cell_type": "code",
   "execution_count": null,
   "id": "e0fff04d",
   "metadata": {},
   "outputs": [],
   "source": [
    "class Point2D(object):\n",
    "    def __init__(self, x0, y0):\n",
    "        self.x = x0\n",
    "        self.y = y0\n",
    "        \n",
    "    def __add__(self, o):\n",
    "        return Point2D(self.x + o.x, self.y + o.y)\n",
    "        \n",
    "    def magnitude(self):\n",
    "        return pow(self.x**2 + self.y**2, 1/2)\n",
    "    \n",
    "    def dist(self, o):\n",
    "        return pow((self.x - o.x)**2 + (self.y - o.y)**2, 1/2)"
   ]
  },
  {
   "cell_type": "markdown",
   "id": "96eafa66",
   "metadata": {},
   "source": [
    "Notice the new function we wrote also has two underscores on either side of the 'add'. This lets python know that we mean to define the addition operation between two Point2D objects."
   ]
  },
  {
   "cell_type": "code",
   "execution_count": null,
   "id": "bf253260",
   "metadata": {},
   "outputs": [],
   "source": [
    "p1 = Point2D(3, 8)\n",
    "p2 = Point2D(5, -2)\n",
    "p3 = p1 + p2\n",
    "print(p3.x, p3.y)"
   ]
  },
  {
   "cell_type": "markdown",
   "id": "6728ad30",
   "metadata": {},
   "source": [
    "The reason this works may become more obvious with these other formulations of adding two Point2D objects together."
   ]
  },
  {
   "cell_type": "code",
   "execution_count": null,
   "id": "262048c5",
   "metadata": {},
   "outputs": [],
   "source": [
    "p3 = Point2D.__add__(p1, p2)\n",
    "print(p3.x, p3.y)\n",
    "# or using the tradition dat syntax for methods\n",
    "p3 = p1.__add__(p2)\n",
    "print(p3.x, p3.y)"
   ]
  },
  {
   "cell_type": "markdown",
   "id": "92716e08",
   "metadata": {},
   "source": [
    "There are lots of these special methods that you can define for your custom classes that allow them to work with certain operators. Pretty much any type of iteraction you could think of with Python objects you can define for your own objects. Here are some of the more commonly used special methods:\n",
    "\n",
    "    __sub__ defines the subtraction operator -\n",
    "    __eq__ defines the equal to operator ==\n",
    "    __ne__ defines the not equal to operator !=\n",
    "    __lt__, __le__, __gt__, __ge__ are the <, <=, >, >= operators, respectively\n",
    "    __str__ defines the string representation for the object str(Point2D)\n",
    "    __mul__ defines multiplication operator *\n",
    "    __truediv__ defines division operator / \n",
    "    __pow__ defines the exponetial operator **\n",
    "    __neg__ defines the negation operator - (as in -2 or -4.2)\n",
    "# Practice \n",
    "Implement methods such that you can subtract two points, to tell if two points are equal, and to invert a point (point (4,-2) becomes (-4,2)), and to print a coordinate representation of the point."
   ]
  },
  {
   "cell_type": "code",
   "execution_count": null,
   "id": "f9530764",
   "metadata": {},
   "outputs": [],
   "source": [
    "class Point2D(object):\n",
    "    def __init__(self, x0, y0):\n",
    "        self.x = x0\n",
    "        self.y = y0\n",
    "        \n",
    "    def __add__(self, o):\n",
    "        return Point2D(self.x + o.x, self.y + o.y)\n",
    "        \n",
    "    def magnitude(self):\n",
    "        return pow(self.x**2 + self.y**2, 1/2)\n",
    "    \n",
    "    def dist(self, o):\n",
    "        return pow((self.x - o.x)**2 + (self.y - o.y)**2, 1/2)\n",
    "    \n",
    "p1 = Point2D(4.2, -2.8)\n",
    "p2 = Point2D(-1.3, 8.1)\n",
    "p3 = p2 - p1\n",
    "print(p1 == p3)\n",
    "p4 = -p2\n",
    "print(p1, p2, p3, p4)"
   ]
  },
  {
   "cell_type": "code",
   "execution_count": null,
   "id": "8b88ef6c",
   "metadata": {},
   "outputs": [],
   "source": [
    "# alternatively\n",
    "p3 = Point2D.__sub__(p2, p1)\n",
    "print(p1.__eq__(p2))\n",
    "p4 = p2.__neg__()\n",
    "s1, s2, s3, s4 = str(p1), p2.__str__(), str(p3), Point2D.__str__(p4)\n",
    "print(s1, s2, s3, s4)"
   ]
  },
  {
   "cell_type": "markdown",
   "id": "ee49348f",
   "metadata": {},
   "source": [
    "# Conventions\n",
    "Class names get capitalized.\n",
    "\n",
    "Define attributes in the ______init__ method.\n",
    "\n",
    "Program organization:\n",
    "\n",
    "    Description of the program\n",
    "    Imports\n",
    "    Class definitions\n",
    "    Funciton definitions\n",
    "    main body\n",
    "    \n",
    "This last convention is not particular to jupyter notebooks because of the way it's organized, but when you write a python program in a .py file, it is convention that you use a guard on the main body of your program.\n",
    "\n",
    "    Description of the program\n",
    "    Imports\n",
    "    Class definitions\n",
    "    Funciton definitions\n",
    "    \n",
    "    if __name__ == \"__main__\":\n",
    "        execute main body\n",
    "        \n",
    "The purpose of this is so that you can still preserve the file to be used as a module. When a file is run directly, the file is given the name \"______main__\". So running the file you want will execute the main body of code. Let's say you write some really useful functions and you want to use them in another file. When the file gets imported, it's name is no longer \"______main__\", so the main body doesn't get executed. It will only import the function and class definitions. This is useful because you can test functions and classes in a seperate file from your main code that you run and you don't need to create any copies of definitions or comment out test code."
   ]
  }
 ],
 "metadata": {
  "kernelspec": {
   "display_name": "Python 3 (ipykernel)",
   "language": "python",
   "name": "python3"
  },
  "language_info": {
   "codemirror_mode": {
    "name": "ipython",
    "version": 3
   },
   "file_extension": ".py",
   "mimetype": "text/x-python",
   "name": "python",
   "nbconvert_exporter": "python",
   "pygments_lexer": "ipython3",
   "version": "3.9.13"
  }
 },
 "nbformat": 4,
 "nbformat_minor": 5
}
