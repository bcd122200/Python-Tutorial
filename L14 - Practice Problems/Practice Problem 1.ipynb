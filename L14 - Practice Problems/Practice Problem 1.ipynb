{
 "cells": [
  {
   "cell_type": "markdown",
   "id": "d8c107ff",
   "metadata": {},
   "source": [
    "# Practice Problem 1\n",
    "Your job is to make a spell checker. You are provided a dictionary of words in the words_10pt.txt file, and an input of words to test in the input_words.txt file. Your output reflect what is present in the output file, problem1_output.txt. The spell checker should check if the word is spelled correctly or if there are possible mispellings by dropping one letter from the word, swapping two letters in the word, or replacing a letter with a new letter from the alphabet. The program should keep track of all mispellings and/or if the word is spelled correctly, output each tested word with the type of mispellings and all words found with that type of mispelling. Your output should be sent to an output text file and not printed to the screen. I would recommend implementing the functions below to arrive at a solution. Note that you should give the functions parameters to use. "
   ]
  },
  {
   "cell_type": "code",
   "execution_count": null,
   "id": "2945a059",
   "metadata": {},
   "outputs": [],
   "source": [
    "def create_set():\n",
    "    \"\"\"\n",
    "    create_set takes in an open file and returns a container of the entries in \n",
    "    the file. Should the container be a list or a set?\n",
    "    \"\"\"\n",
    "    pass\n",
    "\n",
    "def found():\n",
    "    \"\"\"\n",
    "    found takes a set of dictionary words and a specific word and returns True \n",
    "    and the matched word if there is a match\n",
    "    \"\"\"\n",
    "    pass\n",
    "\n",
    "def drop():\n",
    "    \"\"\"\n",
    "    drop takes a set of dictionary words and a specific words and returns True \n",
    "    if there is a match after dropping a letter. If there are mutliple it \n",
    "    should return all matches found\n",
    "    \"\"\"\n",
    "    pass\n",
    "\n",
    "def swap():\n",
    "    \"\"\"\n",
    "    swap takes a set of dictionary words and a specific word and returns True \n",
    "    if there is a match after swapping to consecutive letters. If there are \n",
    "    mutliple it should return all matches found\n",
    "    \"\"\"\n",
    "    pass\n",
    "\n",
    "def replace():\n",
    "    \"\"\"\n",
    "    replace takes a set of dictionary words and a specific word and returns \n",
    "    True if there is a match after replacing each letter with every single \n",
    "    letter in the alphabet. If there are multiple then it should return\n",
    "    all matches\n",
    "    \"\"\"\n",
    "    pass\n",
    "\n",
    "def test_word():\n",
    "    \"\"\"\n",
    "    test_word takes a set of dictionary words, a specific word, and a \n",
    "    dictionary storing tested words and thier matches found and tests \n",
    "    to see if any of the previous functions return true. If so, it has\n",
    "    no return value but should update the dictionary to include the \n",
    "    word being tested and all the matches found\n",
    "    \"\"\"\n",
    "    pass\n",
    "\n",
    "def print_grid():\n",
    "    \"\"\"\n",
    "    print_grid takes the dictionary of tested words and their matches and\n",
    "    outputs to an output file each word with each type of match found and\n",
    "    all the words found in that match\n",
    "    \"\"\"\n",
    "    pass\n",
    "\n",
    "\"\"\"Main part of code goes here\"\"\"\n",
    "\n"
   ]
  }
 ],
 "metadata": {
  "kernelspec": {
   "display_name": "Python 3 (ipykernel)",
   "language": "python",
   "name": "python3"
  },
  "language_info": {
   "codemirror_mode": {
    "name": "ipython",
    "version": 3
   },
   "file_extension": ".py",
   "mimetype": "text/x-python",
   "name": "python",
   "nbconvert_exporter": "python",
   "pygments_lexer": "ipython3",
   "version": "3.9.13"
  }
 },
 "nbformat": 4,
 "nbformat_minor": 5
}
