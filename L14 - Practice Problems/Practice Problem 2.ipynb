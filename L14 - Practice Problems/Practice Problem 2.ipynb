{
 "cells": [
  {
   "cell_type": "markdown",
   "id": "218c7ee0",
   "metadata": {},
   "source": [
    "We're going to practice writing some numerical methods for root finding. But before we get into that, we're gonna cover some more Python topics.\n",
    "# Default Arguments\n",
    "You may have noticed that you do not always need to specify all the input arguments to functions. This is because functions can have default values."
   ]
  },
  {
   "cell_type": "code",
   "execution_count": null,
   "id": "2a07dd19",
   "metadata": {},
   "outputs": [],
   "source": [
    "def add(a=1, b=2):\n",
    "    return a + b\n",
    "\n",
    "print(add(3, 7))\n",
    "print(add(8))\n",
    "print(add(b=9))\n",
    "print(add(a=0, b=10))\n",
    "print(add())\n",
    "print(add(b=20, a=-10))"
   ]
  },
  {
   "cell_type": "markdown",
   "id": "c137b7aa",
   "metadata": {},
   "source": [
    "The first function call we specify both arguments, so a=3 and b=7 and we get 10. The second function call, when we just input an 8 for an argument, we get 10 still. This is because the default arguments will fill in left to right order. Specifying one argument sets the a parameter, and the b parameter takes its default value of 2. If we want to specify the b argument and leave the a as it's default, then we can do so like in the third call by specifying which value we are setting. Of course we can do this will all the arguments like in the fourth call.We also don't need to specify any of them if they all have default values. Lastly, you can even switch around the places of arguments with default values."
   ]
  },
  {
   "cell_type": "code",
   "execution_count": null,
   "id": "91584caa",
   "metadata": {},
   "outputs": [],
   "source": [
    "def subtract(a, b=0):\n",
    "    return a - b\n",
    "\n",
    "print(subtract(15, 5))\n",
    "print(subtract(10))\n",
    "print(subtract(13, b=3))\n",
    "print(subtract(a=16, b=6))\n",
    "print(subtract(b=4, a=14))"
   ]
  },
  {
   "cell_type": "markdown",
   "id": "e51024db",
   "metadata": {},
   "source": [
    "Arguments that have no default value are called positional arguments, and arguments with default values are called keyword arguments. Notice that a has to get specified every single time. If you do not use the keyword to define it (a=int), then it has to come first. The only restriction here is that positional arguments must come before keyword arguments. I.e. this are not allowed:\n",
    "\n",
    "    subtract(b=5, 15)\n",
    "    \n",
    "# Try and Except Blocks\n",
    "Try and except are best explained through an example. Say you wanted to calculated reciprocals for values from -3 to +3. You may run into a slight issue."
   ]
  },
  {
   "cell_type": "code",
   "execution_count": null,
   "id": "81af7709",
   "metadata": {},
   "outputs": [],
   "source": [
    "for i in range(-3, 4):\n",
    "    print(1 / i)"
   ]
  },
  {
   "cell_type": "markdown",
   "id": "a3855728",
   "metadata": {},
   "source": [
    "Now in this example, you could easily get around this by using an if block and continue. "
   ]
  },
  {
   "cell_type": "code",
   "execution_count": null,
   "id": "37d0f369",
   "metadata": {},
   "outputs": [],
   "source": [
    "for i in range(-3, 4):\n",
    "    if i == 0:\n",
    "        continue\n",
    "    print(1 / i)"
   ]
  },
  {
   "cell_type": "markdown",
   "id": "86304663",
   "metadata": {},
   "source": [
    "But say you weren't quite sure when you would be dividing by zero or getting some other type of error. It wouldn't be so easy to use an if block to get around this. So, we use try and except blocks."
   ]
  },
  {
   "cell_type": "code",
   "execution_count": null,
   "id": "373eea8c",
   "metadata": {},
   "outputs": [],
   "source": [
    "for i in range(-3, 4):\n",
    "    try:\n",
    "        print(\"1 / {} =\".format(i), 1 / i)\n",
    "    except:\n",
    "        print(\"1 / {} = Not Defined\".format(i))"
   ]
  },
  {
   "cell_type": "markdown",
   "id": "c950c40e",
   "metadata": {},
   "source": [
    "You can simply put bits of code that may throw errors in a try block. If the code can be executed properly, then no worries, business as usual. But in the occasion that it does not work, the code will not error out, but rather execute the except block where you can put your exception. You can have multiple except blocks for different types of errors, and even an else block for when everything worked properly."
   ]
  },
  {
   "cell_type": "code",
   "execution_count": null,
   "id": "bbb4f370",
   "metadata": {},
   "outputs": [],
   "source": [
    "values = [-3, -2, -1, 0, 1, 'Hello World!', 2, 3]\n",
    "for i in values:\n",
    "    try:\n",
    "        z = 1 / i\n",
    "    except ZeroDivisionError:\n",
    "        z = None\n",
    "        print(\"1 / {} =\".format(i), z)\n",
    "    except TypeError:\n",
    "        print(\"{} is not a valid type for division\".format(type(i)))\n",
    "    else:\n",
    "        print(\"1 / {} =\".format(i), z)"
   ]
  },
  {
   "cell_type": "markdown",
   "id": "aaf8e640",
   "metadata": {},
   "source": [
    "# Complex Numbers\n",
    "Complex Numbers are easy to work with in python when you use the cmath module."
   ]
  },
  {
   "cell_type": "code",
   "execution_count": null,
   "id": "3e487c88",
   "metadata": {},
   "outputs": [],
   "source": [
    "import cmath\n",
    "\n",
    "x = complex(2, 3)\n",
    "y = 4 + 7j\n",
    "\n",
    "print(x)\n",
    "print(y)\n",
    "print(y.real)\n",
    "print(y.imag)"
   ]
  },
  {
   "cell_type": "markdown",
   "id": "de573578",
   "metadata": {},
   "source": [
    "The complex numbers come with attributes. The real attribute is the real component of the complex number, and the complex attribute is the complex component of the complex number. We will learn more about attributes in the next lesson. We can use copmlex numbers just as other numbers in Python."
   ]
  },
  {
   "cell_type": "code",
   "execution_count": null,
   "id": "37981708",
   "metadata": {},
   "outputs": [],
   "source": [
    "print(add(2+9j, 3))\n",
    "print(add(2+9j, 1j))\n",
    "print(add(2+9j, 3+1j))"
   ]
  },
  {
   "cell_type": "markdown",
   "id": "1a09606c",
   "metadata": {},
   "source": [
    "# Practice Problem 2\n",
    "We're going to look at two different methods for root finding: bisection and Newton's. \n",
    "# Bisection Method\n",
    "The bisection method of root finding requires a function and a lower and upper bounds on the zero location. It works off the principle that if you have x values that are below and above a zero, then the product of their y values will be negative. Consider y=x. If your lower and upper bounds are -1 and 2. The product of their y values -1 * 2 = -2 is negative. This means that between the two values you cross the x-axis at a zero. The bisection method bisects the lower and upper bounds repeatedly to reduce the size of the lower and upper bounds until some condition is met. There are three conditions used:\n",
    "\n",
    "    - max_iter is the upper limit of number of iterations to get closer to the zero\n",
    "    - xtol is the maximum difference between the upper and lower bounds define convergence\n",
    "    - ftol is the maximum value of the function evaluated at the middle of the upper/lower bound range to say that the\n",
    "    function value has converged to 0\n",
    "\n",
    "Use this pseudocode to implement your bisection function:\n",
    "\n",
    "    while not at max_iter and x_hi - x_lo is less than xtol and abs(f(x_mid)) < ftol\n",
    "        x_mid = (x_lo + x_hi) / 2\n",
    "        if f(x_lo) * f(x_mid) < 0\n",
    "            x_hi = x_mid\n",
    "        else if f(x_lo) * f(x_mid) > 0\n",
    "            x_lo = x_m\n",
    "        else\n",
    "            return x_m  # root found\n",
    "            break\n",
    "        n += 1\n",
    "    if not (x_hi - x_lo > xtol or abs(f(x_mid)) > ftol)\n",
    "        return x_mid\n",
    "    else\n",
    "        return \"Root not found\""
   ]
  },
  {
   "cell_type": "code",
   "execution_count": null,
   "id": "576319ce",
   "metadata": {},
   "outputs": [],
   "source": [
    "def func(x):\n",
    "    # function of x equal to 0\n",
    "    return x ** 2 - 2\n",
    "\n",
    "def bisection(func, x_lo, x_hi, xtol=1.0e-7, ftol=1.0e-12, max_iter=100):\n",
    "    pass\n",
    "\n",
    "print(bisection(func, 0, 10))"
   ]
  },
  {
   "cell_type": "markdown",
   "id": "d9e1898c",
   "metadata": {},
   "source": [
    "# Newton's Method\n",
    "Using upper bounds is kind of lame, what if you just had a single x value as a guess. Newton's method uses calculus give you the next best guess for where the zero could be. Let's look at the definition for the slope of a line:\n",
    "\n",
    "    dydx = (y1 - y0) / (x1 - x0)\n",
    "    \n",
    "Say we used the derivative at the location of our guess for the zero. And we know that at the zero location, the y value is zero, so y1=0.\n",
    "\n",
    "    dydx(x0) = (0 - y0) / (x1 - x0)\n",
    "    \n",
    "Do a little rearranging.\n",
    "\n",
    "    (x1 - x0) * dydx(x0) = y0\n",
    "    x1 - x0 = y0 / dydx(x0)\n",
    "    x1 = x0 + y0 / dydx(x0)\n",
    "    \n",
    "Look at that! We have our next guess for where the zero could be. So now we just do that a bunch of times until we meet our stopping criteria:\n",
    "\n",
    "    - iterations go beyond max_iter\n",
    "    - our new guess is different from our old guess by less than xtol\n",
    "    - the absolute value of our function evaluation at our guess is less than ftol at any point in time.\n",
    "    \n",
    "Here's your pseudocode for Newton's method:\n",
    "\n",
    "    while not at max_iter and x_diff is less than xtol and abs(f(x0)) < ftol\n",
    "        x1 = x0 + y0 / dydx(x0)\n",
    "        diff = x1 - x0\n",
    "        x0 = x1\n",
    "    return x0, n # answer and number of iterations\n",
    "    \n",
    "Take a good look at the pseudocode. Why did I talk to you about try and except blocks earlier? Hmm... I wonder. \n",
    "# Complex Step Derivative Approximation\n",
    "One of the other things I talked to you about was complex numbers. This was so that we could calculate a derivative approximation using the complex step method. Sometimes you may not even know the function you are trying to find a zero of, so how are you supposed to get the derivative of that function? \n",
    "\n",
    "The complex step method is a slight modification of the traditional definition of a derivative. The traditional looks like this:\n",
    "\n",
    "    dydx = (f(x+h) - f(x)) / h for some tiny h\n",
    "    \n",
    "We could simply implement this where we probe our function in the positive x direction just a little tiny bit, see how much it changed, and then divide by this. But as it turns out, the computer will actually struggle with using small h values using this method due to something called truncation error. When subtracting the two values, the computer will chop the result off at a certain point and we lose data. So we actually get really bad derivatives when we use small h values.\n",
    "\n",
    "Instead, what if we probed our function by a tiny amount, but in a different direction? What if we probed our function in the imaginary direction? That's exactly what the complex step derivative approximation does! It looks like this.\n",
    "\n",
    "    dydx = Imag(f(x + hi)) / h\n",
    "    \n",
    "This way, we only need one function evaluation and no subtraction. I.e. we don't get any truncation error. So we can use really small h values on the order of h=1.0e-30. Why this actually works probably requires some math beyond me, but just be grateful that it does. \n",
    "\n",
    "The point of all this, is that you will implement the complex step approximation in your code hehe. Good luck!"
   ]
  },
  {
   "cell_type": "code",
   "execution_count": null,
   "id": "521a904f",
   "metadata": {},
   "outputs": [],
   "source": [
    "def func(x):\n",
    "    return x**2 - 2\n",
    "\n",
    "def dydx(func, x, h=1.0e-30):\n",
    "    \n",
    "\n",
    "def newton(func, x0, xtol=1.0e-7, ftol=1.0e-12, max_iter=100):\n",
    "    \n",
    "\n",
    "print(newton(func, 0.1))"
   ]
  }
 ],
 "metadata": {
  "kernelspec": {
   "display_name": "Python 3 (ipykernel)",
   "language": "python",
   "name": "python3"
  },
  "language_info": {
   "codemirror_mode": {
    "name": "ipython",
    "version": 3
   },
   "file_extension": ".py",
   "mimetype": "text/x-python",
   "name": "python",
   "nbconvert_exporter": "python",
   "pygments_lexer": "ipython3",
   "version": "3.9.13"
  }
 },
 "nbformat": 4,
 "nbformat_minor": 5
}
