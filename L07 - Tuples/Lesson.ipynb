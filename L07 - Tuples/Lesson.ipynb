{
 "cells": [
  {
   "cell_type": "markdown",
   "id": "5a93ede3",
   "metadata": {},
   "source": [
    "# L07 - Tuples\n",
    "Tuples are a type that will introduce the idea of containers and indexing. Container types hold multiple values in one. They look like this."
   ]
  },
  {
   "cell_type": "code",
   "execution_count": null,
   "id": "e82cc65b",
   "metadata": {},
   "outputs": [],
   "source": [
    "x = (12, -3, 8)\n",
    "print(type(x))\n",
    "print(x)"
   ]
  },
  {
   "cell_type": "markdown",
   "id": "8077137b",
   "metadata": {},
   "source": [
    "If you want to access the information within a container, you do so with indexing. Python is a 0-indexed coding language, which means the first element in a tuple is the 0th element. In order to access elements within tuples, you use square brackets."
   ]
  },
  {
   "cell_type": "code",
   "execution_count": null,
   "id": "79598046",
   "metadata": {},
   "outputs": [],
   "source": [
    "print(x[0])\n",
    "print(x[1])\n",
    "print(x[2])"
   ]
  },
  {
   "cell_type": "markdown",
   "id": "6b208758",
   "metadata": {},
   "source": [
    "The use of indexing is ubiquitous in programming. You can even use it with strings to access certain characters in a string."
   ]
  },
  {
   "cell_type": "code",
   "execution_count": null,
   "id": "8102b905",
   "metadata": {},
   "outputs": [],
   "source": [
    "s = 'yeet'\n",
    "print(s[0])"
   ]
  },
  {
   "cell_type": "markdown",
   "id": "7675bbe3",
   "metadata": {},
   "source": [
    "If you can access particular values in tuples and strings, then you might think that you can change those values using the assignment operator like so\n",
    "\n",
    "    s = 'yeet'\n",
    "    s[0] = 'b'\n",
    "    print(s) ---> beet\n",
    "    \n",
    "However, this is not allowed since strings are immutable objects. This means that you cannot directly change the contents of the string by altering individual parts of the string. You can of course reassign the variable to a new string that is slightly altered, but you cannot do so with indexing as shown above.\n",
    "\n",
    "The same is true for tuples; they are immutable. You can access individual elements using indexing, but you cannot assign individual elements with indexing. This is handy because it assures that any tuple you create will not be altered by any indexing and therefore constant throughout the duration of the program (unless of course the variable name is reassigned)."
   ]
  },
  {
   "cell_type": "markdown",
   "id": "8e086b66",
   "metadata": {},
   "source": [
    "So what do we use tuples for? One of the most widely used applications is for multiple assignment."
   ]
  },
  {
   "cell_type": "code",
   "execution_count": null,
   "id": "47c2b84e",
   "metadata": {},
   "outputs": [],
   "source": [
    "x = 5, 1\n",
    "print(x)\n",
    "y, z = x\n",
    "print(y, z)"
   ]
  },
  {
   "cell_type": "code",
   "execution_count": null,
   "id": "5d46d829",
   "metadata": {},
   "outputs": [],
   "source": [
    "def circle_prop(radius):\n",
    "    from math import pi\n",
    "    area = pi * radius ** 2\n",
    "    circumference = 2 * pi * radius\n",
    "    return area, circumference\n",
    "\n",
    "r = 5\n",
    "a, c = circle_prop(r)\n",
    "print(\"The area and circumference of a circle with radius {} are {:.2f} and {:.2f}, respectively.\".format(r, a, c))"
   ]
  },
  {
   "cell_type": "markdown",
   "id": "f3c517f2",
   "metadata": {},
   "source": [
    "It can go the other way around as well meaning that tuples can be inputs to functions"
   ]
  },
  {
   "cell_type": "code",
   "execution_count": null,
   "id": "684245f6",
   "metadata": {},
   "outputs": [],
   "source": [
    "def digit_to_num(digits):\n",
    "    return 100*digits[0] + 10*digits[1] + 1*digits[2]\n",
    "\n",
    "digits = (4, 7, 9)\n",
    "print(digit_to_num(digits))"
   ]
  },
  {
   "cell_type": "markdown",
   "id": "938b6875",
   "metadata": {},
   "source": [
    "We will do a lot more with indexing in the next lesson, but as a preview, let's take a look at whta numbers are valid for indexing."
   ]
  },
  {
   "cell_type": "code",
   "execution_count": null,
   "id": "83457ea5",
   "metadata": {},
   "outputs": [],
   "source": [
    "x = (0, 1, 2, 3, 4, 5) # tuple with length 6\n",
    "print(len(x))"
   ]
  },
  {
   "cell_type": "markdown",
   "id": "f3ad5a73",
   "metadata": {},
   "source": [
    "We know how to get the sixth value from the tuple, indexing the 5th element like so"
   ]
  },
  {
   "cell_type": "code",
   "execution_count": null,
   "id": "4bc33d4e",
   "metadata": {},
   "outputs": [],
   "source": [
    "x[5]"
   ]
  },
  {
   "cell_type": "markdown",
   "id": "413262fa",
   "metadata": {},
   "source": [
    "But what happens when you want the sixth value and you index with 6"
   ]
  },
  {
   "cell_type": "code",
   "execution_count": null,
   "id": "297d3d5c",
   "metadata": {},
   "outputs": [],
   "source": [
    "x[6]"
   ]
  },
  {
   "cell_type": "markdown",
   "id": "c4419701",
   "metadata": {},
   "source": [
    "This is a common error that you will see as you program. It simply means that you tried to access a 7th element that does not exist, so Python gets upset. Remembering how long tuples and other containers are can be a pain though, so let's look at some other ways to get the last value."
   ]
  },
  {
   "cell_type": "code",
   "execution_count": null,
   "id": "1943a660",
   "metadata": {},
   "outputs": [],
   "source": [
    "n = len(x)\n",
    "x[n-1]"
   ]
  },
  {
   "cell_type": "markdown",
   "id": "76089ddb",
   "metadata": {},
   "source": [
    "You can include expressions as your indicies as long as they evaluate to an integer value. So, that's one way to get to the end of the tuple, but that's still annoying to have to get and save the length and subtract 1 off the length. If only you could just drop the length portion all together like this."
   ]
  },
  {
   "cell_type": "code",
   "execution_count": null,
   "id": "0c870ed3",
   "metadata": {},
   "outputs": [],
   "source": [
    "x[-1]"
   ]
  },
  {
   "cell_type": "markdown",
   "id": "015c6275",
   "metadata": {},
   "source": [
    "Wait a minute... that worked? Yes! In Python you can jump right to the end of a tuple or other ordered container by starting with the last value as the -1 index. Then you can move backward through the tuple by decreasing the index further."
   ]
  },
  {
   "cell_type": "code",
   "execution_count": null,
   "id": "820e9ef1",
   "metadata": {},
   "outputs": [],
   "source": [
    "x[-2]"
   ]
  },
  {
   "cell_type": "code",
   "execution_count": null,
   "id": "a7e7fbd6",
   "metadata": {},
   "outputs": [],
   "source": [
    "x[-6]"
   ]
  },
  {
   "cell_type": "code",
   "execution_count": null,
   "id": "6d8b7b97",
   "metadata": {},
   "outputs": [],
   "source": [
    "x[-7]"
   ]
  },
  {
   "cell_type": "markdown",
   "id": "979aa89b",
   "metadata": {},
   "source": [
    "Again, just don't go too far."
   ]
  },
  {
   "cell_type": "markdown",
   "id": "c3d80668",
   "metadata": {},
   "source": [
    "Another theme you will see in Python is nesting or the idea of creating layers in types. Tuples can store more than just ints. They can store any type inside of them, including themselves! You can also mix and match types too."
   ]
  },
  {
   "cell_type": "code",
   "execution_count": null,
   "id": "6d21acc7",
   "metadata": {},
   "outputs": [],
   "source": [
    "t0 = (1, 2, 3)\n",
    "t1 = ('abc', 'def', 'ghi')\n",
    "t2 = ((1, 'abc'), (2, 'def'), (3, 'ghi'))\n",
    "print(t0)\n",
    "print(t1)\n",
    "print(t2)"
   ]
  },
  {
   "cell_type": "markdown",
   "id": "9af1c1ac",
   "metadata": {},
   "source": [
    "So how do you access the values of the tuples inside of the tuple? The answer is just more indexing. For every additional layer in the data, you can simply add another index."
   ]
  },
  {
   "cell_type": "code",
   "execution_count": null,
   "id": "68db1e2b",
   "metadata": {},
   "outputs": [],
   "source": [
    "print(t2[0][0])\n",
    "print(t2[0][1])"
   ]
  },
  {
   "cell_type": "markdown",
   "id": "f9106258",
   "metadata": {},
   "source": [
    "Why does this work? Because Python evaluates the index calls from left to right. So the actual process looks something like this\n",
    "\n",
    "    t2[0][1]\n",
    "    (1, 'abc')[1]\n",
    "    'abc'\n",
    "    \n",
    "And since 'abc' is a string, which can be indexed, you can actually take it one index futher\n",
    "\n",
    "    t2[0][1][2]\n",
    "    (1, 'abc')[1][2]\n",
    "    'abc'[2]\n",
    "    'c'"
   ]
  },
  {
   "cell_type": "code",
   "execution_count": null,
   "id": "e607a43f",
   "metadata": {},
   "outputs": [],
   "source": [
    "t2[0][1][2]"
   ]
  }
 ],
 "metadata": {
  "kernelspec": {
   "display_name": "Python 3 (ipykernel)",
   "language": "python",
   "name": "python3"
  },
  "language_info": {
   "codemirror_mode": {
    "name": "ipython",
    "version": 3
   },
   "file_extension": ".py",
   "mimetype": "text/x-python",
   "name": "python",
   "nbconvert_exporter": "python",
   "pygments_lexer": "ipython3",
   "version": "3.9.13"
  }
 },
 "nbformat": 4,
 "nbformat_minor": 5
}
