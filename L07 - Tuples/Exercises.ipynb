{
 "cells": [
  {
   "cell_type": "markdown",
   "id": "87a759ff",
   "metadata": {},
   "source": [
    "# Exercises\n",
    "Note that the exercises here will likely be very annoying, but you'll learn a much easier and more gerneral way to do them after we learn loops\n",
    "\n",
    "Complete the function below which takes a tuple of 3 tuples each of size two and returns a single tuple that contains the sum of each index. For example,\n",
    "\n",
    "    triple = ((1,2), (0, 4), (-1, 8))\n",
    "    print(add_tuples(triple)) ---> (0, 14)"
   ]
  },
  {
   "cell_type": "code",
   "execution_count": null,
   "id": "1c45ef52",
   "metadata": {},
   "outputs": [],
   "source": [
    "def add_tuples(triple):\n",
    "    \n",
    "    \n",
    "    \n",
    "    return result\n",
    "\n",
    "triple = ((1,2), (0, 4), (-1, 8))\n",
    "print(add_tuples(triple))"
   ]
  },
  {
   "cell_type": "markdown",
   "id": "185d8289",
   "metadata": {},
   "source": [
    "You need to write a function that checks to see if a string of length 4 is a palindrome. For example\n",
    "\n",
    "    palindrome(\"yeet\") ---> False\n",
    "    palindrome(\"boob\") ---> True"
   ]
  },
  {
   "cell_type": "code",
   "execution_count": null,
   "id": "51b9a306",
   "metadata": {},
   "outputs": [],
   "source": [
    "def palindrome(word):\n",
    "    if len(word) != 4:\n",
    "        return False\n",
    "    # your code goes below here\n",
    "    \n",
    "    \n",
    "palindrome(input(\"Input a word ---> \"))"
   ]
  }
 ],
 "metadata": {
  "kernelspec": {
   "display_name": "Python 3 (ipykernel)",
   "language": "python",
   "name": "python3"
  },
  "language_info": {
   "codemirror_mode": {
    "name": "ipython",
    "version": 3
   },
   "file_extension": ".py",
   "mimetype": "text/x-python",
   "name": "python",
   "nbconvert_exporter": "python",
   "pygments_lexer": "ipython3",
   "version": "3.9.13"
  }
 },
 "nbformat": 4,
 "nbformat_minor": 5
}
