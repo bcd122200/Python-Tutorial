{
 "cells": [
  {
   "cell_type": "markdown",
   "id": "625f9be5",
   "metadata": {},
   "source": [
    "# L01 - Intro to Python"
   ]
  },
  {
   "cell_type": "markdown",
   "id": "7c118148",
   "metadata": {},
   "source": [
    "# Welcome to Jupyter Notebooks\n",
    "Juptyer Notebooks is an IDE that allows you too integrate descriptive text with Python code"
   ]
  },
  {
   "cell_type": "code",
   "execution_count": null,
   "id": "f59073b4",
   "metadata": {},
   "outputs": [],
   "source": [
    "print(\"Hello world!\")"
   ]
  },
  {
   "cell_type": "markdown",
   "id": "a70028e2",
   "metadata": {},
   "source": [
    "An IDE is an Integrated Development Environment and where you will likely code most of the python programs you wish to code. Other popular python IDEs are PyCharm, Spyder, VS Code"
   ]
  },
  {
   "cell_type": "markdown",
   "id": "10f876a2",
   "metadata": {},
   "source": [
    "Each chunk of code or text is called a cell. Here are some useful shortcuts to make using Jupyter Notebooks more streamlined:\n",
    "    \n",
    "    Run current cell: Ctrl+Enter\n",
    "    Run current cell and move to the next : Shift+Enter\n",
    "    Create new cell below current: Esc+B\n",
    "    Create new cell above current: Esc+A\n",
    "    Delete cell: Esc+D+D"
   ]
  },
  {
   "cell_type": "markdown",
   "id": "80b40da1",
   "metadata": {},
   "source": [
    "# Benefits of Python\n",
    "    Python's syntax is basically english, only difficulty is indentation\n",
    "    Python is an interpeted language, so you get feedback right away when you make syntax errors\n",
    "    Abstraction is easy in Python\n",
    "    Used everywhere in industry\n"
   ]
  },
  {
   "cell_type": "markdown",
   "id": "f847b34f",
   "metadata": {},
   "source": [
    "# Errors in Python\n",
    "\n",
    "# Syntax Errors - A mistake in the program text that will not allow it to run"
   ]
  },
  {
   "cell_type": "code",
   "execution_count": 1,
   "id": "42424bbd",
   "metadata": {},
   "outputs": [
    {
     "ename": "SyntaxError",
     "evalue": "unexpected EOF while parsing (3637072507.py, line 1)",
     "output_type": "error",
     "traceback": [
      "\u001b[1;36m  File \u001b[1;32m\"C:\\Users\\delanb2\\AppData\\Local\\Temp\\ipykernel_20652\\3637072507.py\"\u001b[1;36m, line \u001b[1;32m1\u001b[0m\n\u001b[1;33m    print(\"Hello World!\"\u001b[0m\n\u001b[1;37m                        ^\u001b[0m\n\u001b[1;31mSyntaxError\u001b[0m\u001b[1;31m:\u001b[0m unexpected EOF while parsing\n"
     ]
    }
   ],
   "source": [
    "print(\"Hello World!\""
   ]
  },
  {
   "cell_type": "markdown",
   "id": "841824a5",
   "metadata": {},
   "source": [
    "Unexpected EOF means unexpected \"End Of File\". Python is expecting to find a closing parenthesis to know what is supposed to go inside the print statement, but since there is no closing parenthesis, python unexpectedly reached the end of the file and reported that as an error"
   ]
  },
  {
   "cell_type": "code",
   "execution_count": 2,
   "id": "fce09853",
   "metadata": {},
   "outputs": [
    {
     "ename": "NameError",
     "evalue": "name 'Print' is not defined",
     "output_type": "error",
     "traceback": [
      "\u001b[1;31m---------------------------------------------------------------------------\u001b[0m",
      "\u001b[1;31mNameError\u001b[0m                                 Traceback (most recent call last)",
      "\u001b[1;32m~\\AppData\\Local\\Temp\\ipykernel_20652\\995647867.py\u001b[0m in \u001b[0;36m<module>\u001b[1;34m\u001b[0m\n\u001b[1;32m----> 1\u001b[1;33m \u001b[0mPrint\u001b[0m\u001b[1;33m(\u001b[0m\u001b[1;34m\"Hello World!\"\u001b[0m\u001b[1;33m)\u001b[0m\u001b[1;33m\u001b[0m\u001b[1;33m\u001b[0m\u001b[0m\n\u001b[0m",
      "\u001b[1;31mNameError\u001b[0m: name 'Print' is not defined"
     ]
    }
   ],
   "source": [
    "Print(\"Hello World!\")"
   ]
  },
  {
   "cell_type": "markdown",
   "id": "e4ef5e14",
   "metadata": {},
   "source": [
    "Python is case sensitive. Here, it tells you that the function you are trying to call 'Print' is not defined. That's because Python's built in function 'print' is spelled with a lowercase 'p'. So it does not recognize 'Print' with a capital 'P'."
   ]
  },
  {
   "cell_type": "markdown",
   "id": "992570c6",
   "metadata": {},
   "source": [
    "# Semantic Errors - Errors in the meaning of the program\n",
    "The program will run successfully, but you still get the wrong output"
   ]
  },
  {
   "cell_type": "code",
   "execution_count": null,
   "id": "a0d7c1b7",
   "metadata": {},
   "outputs": [],
   "source": [
    "# Write a program to print the odd numbers from 1 to 10\n",
    "for number in range(1, 11): # iterate through numbers 1-10\n",
    "    if number % 2 == 0: # check the remainder when dividing by 2\n",
    "        print(number) # print the number "
   ]
  },
  {
   "cell_type": "markdown",
   "id": "b40bf65e",
   "metadata": {},
   "source": [
    "The program run correctly, but you can see that this is not the desired output. This is a far more difficult type of error to troubleshoot as it requires you to analyze your code to find where you made your mistake."
   ]
  },
  {
   "cell_type": "markdown",
   "id": "af82d138",
   "metadata": {},
   "source": [
    "Can you find the mistake in the code above and correct it below?"
   ]
  },
  {
   "cell_type": "code",
   "execution_count": null,
   "id": "ab4e48d8",
   "metadata": {},
   "outputs": [],
   "source": [
    "# Write a program to print the odd numbers from 1 to 10\n",
    "for number in range(1, 11): # iterate through numbers 1-10\n",
    "    if number % 2 == 0: # check the remainder when dividing by 2\n",
    "        print(number) # print the number "
   ]
  }
 ],
 "metadata": {
  "kernelspec": {
   "display_name": "Python 3 (ipykernel)",
   "language": "python",
   "name": "python3"
  },
  "language_info": {
   "codemirror_mode": {
    "name": "ipython",
    "version": 3
   },
   "file_extension": ".py",
   "mimetype": "text/x-python",
   "name": "python",
   "nbconvert_exporter": "python",
   "pygments_lexer": "ipython3",
   "version": "3.9.13"
  }
 },
 "nbformat": 4,
 "nbformat_minor": 5
}
