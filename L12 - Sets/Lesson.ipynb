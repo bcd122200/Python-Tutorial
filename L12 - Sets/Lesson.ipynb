{
 "cells": [
  {
   "cell_type": "markdown",
   "id": "13bba734",
   "metadata": {},
   "source": [
    "# L12 - Sets\n",
    "Sets are our next type to explore. Simply put, sets are a collection of values in no particular order. The big difference between sets and lists is the lack of order. Let's take a look."
   ]
  },
  {
   "cell_type": "code",
   "execution_count": null,
   "id": "db32328f",
   "metadata": {},
   "outputs": [],
   "source": [
    "l = [1, 2, 3] # list\n",
    "s = {1, 2, 3} # set"
   ]
  },
  {
   "cell_type": "markdown",
   "id": "db99d652",
   "metadata": {},
   "source": [
    "Because sets are unordered, they do not support indexing."
   ]
  },
  {
   "cell_type": "code",
   "execution_count": null,
   "id": "e92591f5",
   "metadata": {},
   "outputs": [],
   "source": [
    "s[0]"
   ]
  },
  {
   "cell_type": "markdown",
   "id": "6217305e",
   "metadata": {},
   "source": [
    "Another big difference is that sets cannot contain repeat values."
   ]
  },
  {
   "cell_type": "code",
   "execution_count": null,
   "id": "648e1200",
   "metadata": {},
   "outputs": [],
   "source": [
    "l = [1,1,1,1,2,3,4]\n",
    "print(len(l))\n",
    "s = set(l) # function used to turn things into sets\n",
    "print(len(s))"
   ]
  },
  {
   "cell_type": "markdown",
   "id": "f2e93b6a",
   "metadata": {},
   "source": [
    "You can't get specific values out of them, and you can't store repeat values, so what's the point? Sets are stuuuupid fast. Imagine you have a tons of data to sort through and you're just looking for one name. If you were using a list, you would need to iterate through every single value to check if it's there. Sets underlying structure allows them to do this nearly instantly. Let's take a look."
   ]
  },
  {
   "cell_type": "code",
   "execution_count": null,
   "id": "6b64cc51",
   "metadata": {},
   "outputs": [],
   "source": [
    "f = open('imdb_data.txt', encoding = \"ISO-8859-1\")\n",
    "names_list = list(map(lambda x: x.split('|')[0].strip(), f.read().split('\\n')))\n",
    "\n",
    "print(\"First 10 names:\\n\",names_list[:10], sep='') # first ten names\n",
    "print(\"There are {:,} names in this text file\".format(len(names_list)))\n",
    "\n",
    "import time\n",
    "t0 = time.time()\n",
    "hanks_list = 'Hanks, Tom' in names_list\n",
    "t_list = time.time() - t0\n",
    "\n",
    "names_set = set(names_list)\n",
    "t0 = time.time_ns()\n",
    "hanks_set = 'Hanks, Tom' in names_set\n",
    "t_set = time.time_ns() - t0\n",
    "\n",
    "print(\"Found Tom Hanks in List: {} in {} seconds\".format(hanks_list, t_list))\n",
    "print(\"Found Tom Hanks in Set: {} in {} seconds\".format(hanks_set, t_set))"
   ]
  },
  {
   "cell_type": "markdown",
   "id": "4b2d1f05",
   "metadata": {},
   "source": [
    "This is just a list of over a quarter-million names and it takes 0.001 seconds to find Tom Hanks with a list, but it is nearly instant for a set. Maybe we got lucky with the location of Tom Hanks' name. What about if the name isn't in the list to begin with. Then we would need to look through the entire list."
   ]
  },
  {
   "cell_type": "code",
   "execution_count": null,
   "id": "9802b648",
   "metadata": {},
   "outputs": [],
   "source": [
    "f = open('imdb_data.txt', encoding = \"ISO-8859-1\")\n",
    "names_list = list(map(lambda x: x.split('|')[0].strip(), f.read().split('\\n')))\n",
    "\n",
    "print(\"First 10 names:\\n\",names_list[:10], sep='') # first ten names\n",
    "print(\"There are {:,} names in this text file\".format(len(names_list)))\n",
    "\n",
    "import time\n",
    "t0 = time.time()\n",
    "hanks_list = 'Name thats not in the list' in names_list\n",
    "t_list = time.time() - t0\n",
    "\n",
    "names_set = set(names_list)\n",
    "t0 = time.time_ns()\n",
    "hanks_set = 'Name thats not in the list' in names_set\n",
    "t_set = time.time_ns() - t0\n",
    "\n",
    "print(\"Found Tom Hanks in List: {} in {} seconds\".format(hanks_list, t_list))\n",
    "print(\"Found Tom Hanks in Set: {} in {} seconds\".format(hanks_set, t_set))"
   ]
  },
  {
   "cell_type": "markdown",
   "id": "3794f0af",
   "metadata": {},
   "source": [
    "It takes the list 4 times longer, but the set still instantly finds that the name is not in the set. It's not terribly important that you understand how this works since your not a CS nerd, but just know that it works. \n",
    "\n",
    "So what can we use sets for now that we know that they're stupid quick? Well first off, we saw a couple ways to make sets. You can use the curly brackets, {}, or you can turn other containers into sets with the funciton set().\n",
    "# Working with Sets\n",
    "We can use the add() method. "
   ]
  },
  {
   "cell_type": "code",
   "execution_count": null,
   "id": "f1993a14",
   "metadata": {},
   "outputs": [],
   "source": [
    "s = {1,4,7,3}\n",
    "s.add(9)\n",
    "s.add('Blueberry')\n",
    "print(9 in s)\n",
    "print('Blueberry' in s)"
   ]
  },
  {
   "cell_type": "markdown",
   "id": "56f75bc1",
   "metadata": {},
   "source": [
    "You can get rid of everything in a set with the clear method."
   ]
  },
  {
   "cell_type": "code",
   "execution_count": null,
   "id": "63860ddb",
   "metadata": {},
   "outputs": [],
   "source": [
    "s.clear()\n",
    "print(9 in s)\n",
    "print(1 in s)"
   ]
  },
  {
   "cell_type": "markdown",
   "id": "96b85c74",
   "metadata": {},
   "source": [
    "There are many set operations that you can do with other sets. We can take the difference of two sets."
   ]
  },
  {
   "cell_type": "code",
   "execution_count": null,
   "id": "377104ee",
   "metadata": {},
   "outputs": [],
   "source": [
    "s1 = set(range(1, 11)) # make sure you know what's in this set\n",
    "s2 = set(range(1, 11, 2)) # what about this one\n",
    "\n",
    "print(s1.difference(s2))\n",
    "print(s1 - s2) # multiple ways to do this"
   ]
  },
  {
   "cell_type": "markdown",
   "id": "47f2d003",
   "metadata": {},
   "source": [
    "We can find the intersection of two sets."
   ]
  },
  {
   "cell_type": "code",
   "execution_count": null,
   "id": "1707cb5e",
   "metadata": {},
   "outputs": [],
   "source": [
    "print(s1.intersection(s2))\n",
    "print(s1 & s2)"
   ]
  },
  {
   "cell_type": "markdown",
   "id": "b32ad349",
   "metadata": {},
   "source": [
    "You can creates a union of two sets contains all elements of the two sets."
   ]
  },
  {
   "cell_type": "code",
   "execution_count": null,
   "id": "78690f22",
   "metadata": {},
   "outputs": [],
   "source": [
    "print(s1.union({'a','b','c'}))\n",
    "print(s1 | {'a', 'b', 'c'})"
   ]
  },
  {
   "cell_type": "markdown",
   "id": "2237d960",
   "metadata": {},
   "source": [
    "You can check for sets being subsets of another. "
   ]
  },
  {
   "cell_type": "code",
   "execution_count": null,
   "id": "6bae11fb",
   "metadata": {},
   "outputs": [],
   "source": [
    "print(s2.issubset(s1))\n",
    "print(s2 <= s1)"
   ]
  },
  {
   "cell_type": "markdown",
   "id": "fbffab00",
   "metadata": {},
   "source": [
    "Similarly, you can check for supersets."
   ]
  },
  {
   "cell_type": "code",
   "execution_count": null,
   "id": "5f3b52d3",
   "metadata": {},
   "outputs": [],
   "source": [
    "print(s1.issuperset(s2))\n",
    "print(s1 >= s2)"
   ]
  },
  {
   "cell_type": "markdown",
   "id": "63826316",
   "metadata": {},
   "source": [
    "You can create a new list of elements that are in either s1 or s2 but not both"
   ]
  },
  {
   "cell_type": "code",
   "execution_count": null,
   "id": "b8e29080",
   "metadata": {},
   "outputs": [],
   "source": [
    "print(s1.symmetric_difference(s2))\n",
    "print(s1 ^ s2)"
   ]
  },
  {
   "cell_type": "markdown",
   "id": "d040c960",
   "metadata": {},
   "source": [
    "So far, we haven't really noticed the unordered nature of sets because we've been using sets that started in lexicographical order. But what if we combine two sets that have a mix of numbers in an order that is not sorted."
   ]
  },
  {
   "cell_type": "code",
   "execution_count": null,
   "id": "054dfbbe",
   "metadata": {},
   "outputs": [],
   "source": [
    "print({3, 5, 8} | {9, 0, 4})"
   ]
  },
  {
   "cell_type": "markdown",
   "id": "10c43e1c",
   "metadata": {},
   "source": [
    "The returned list appears to be sorted because that's a part of the way Python stores the data and what makes it so efficient.\n",
    "\n",
    "When comparing the efficieny of sets and lists we used the keyword 'in'. This keyword is used to tell if value a is in container b (e.g. a in b). This is the best way to get a boolean value for if a certain value is stored in a list or set. \n",
    "\n",
    "Since we can use the 'in' keyword with sets, we can still iterate through them even though they do not preserve order."
   ]
  },
  {
   "cell_type": "code",
   "execution_count": null,
   "id": "15d82129",
   "metadata": {},
   "outputs": [],
   "source": [
    "for value in {3, 5, 8} | {9, 0, 4}:\n",
    "    print(value)"
   ]
  }
 ],
 "metadata": {
  "kernelspec": {
   "display_name": "Python 3 (ipykernel)",
   "language": "python",
   "name": "python3"
  },
  "language_info": {
   "codemirror_mode": {
    "name": "ipython",
    "version": 3
   },
   "file_extension": ".py",
   "mimetype": "text/x-python",
   "name": "python",
   "nbconvert_exporter": "python",
   "pygments_lexer": "ipython3",
   "version": "3.9.13"
  }
 },
 "nbformat": 4,
 "nbformat_minor": 5
}
