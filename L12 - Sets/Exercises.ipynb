{
 "cells": [
  {
   "cell_type": "markdown",
   "id": "22c1f6c6",
   "metadata": {},
   "source": [
    "# Exercises\n",
    "Print the following:\n",
    "\n",
    "    The number of unique courses that Sam and Pat are taking. \n",
    "    The classes the students are taking together.\n",
    "    Print the classes that Sam is taking that Pat is not in."
   ]
  },
  {
   "cell_type": "code",
   "execution_count": null,
   "id": "ff8580e4",
   "metadata": {},
   "outputs": [],
   "source": [
    "sam_courses = {'Math', 'Physics', 'History', 'Spanish'}\n",
    "pat_courses = {'History', 'English', 'Math', 'Biology'}\n"
   ]
  },
  {
   "cell_type": "markdown",
   "id": "9c9c041c",
   "metadata": {},
   "source": [
    "Use the same imdb_data.txt file to tell me how many distinct last names, first names, movie titles, and movie years there are. The file is formatted so every line is as follows (name, title, year):\n",
    "\n",
    "     Kishiro, Yukito                       | Battle Angel                    |            2016\n",
    "     \n",
    "Remember to use the strip() method to get rid of white space and return characters."
   ]
  },
  {
   "cell_type": "code",
   "execution_count": null,
   "id": "3b9536ff",
   "metadata": {},
   "outputs": [],
   "source": [
    "f = open('imdb_data.txt', encoding = \"ISO-8859-1\")\n"
   ]
  }
 ],
 "metadata": {
  "kernelspec": {
   "display_name": "Python 3 (ipykernel)",
   "language": "python",
   "name": "python3"
  },
  "language_info": {
   "codemirror_mode": {
    "name": "ipython",
    "version": 3
   },
   "file_extension": ".py",
   "mimetype": "text/x-python",
   "name": "python",
   "nbconvert_exporter": "python",
   "pygments_lexer": "ipython3",
   "version": "3.9.13"
  }
 },
 "nbformat": 4,
 "nbformat_minor": 5
}
