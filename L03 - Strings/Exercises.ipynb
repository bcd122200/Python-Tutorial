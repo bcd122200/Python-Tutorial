{
 "cells": [
  {
   "cell_type": "markdown",
   "id": "f7cc1194",
   "metadata": {},
   "source": [
    "# Exercises\n",
    "Write a program that requests an integer from the user as an input and stores in the variable n. The program should then print n 1’s with 0’s inbetween. For example if the user input the value 4 then the output should be 1010101"
   ]
  },
  {
   "cell_type": "code",
   "execution_count": null,
   "id": "41835f35",
   "metadata": {},
   "outputs": [],
   "source": []
  },
  {
   "cell_type": "markdown",
   "id": "6c9ee773",
   "metadata": {},
   "source": [
    "Write a single line of code that prints 25 '*' characters followed by 25 '+' characters, with no space in between. It must, of course, use the print function. The two characters must appear in your code much less than 25 times - at most three each!"
   ]
  },
  {
   "cell_type": "code",
   "execution_count": null,
   "id": "ed70fc4e",
   "metadata": {},
   "outputs": [],
   "source": []
  },
  {
   "cell_type": "markdown",
   "id": "dde0bedb",
   "metadata": {},
   "source": [
    "Write a program that assigns the value 4 to the variable x, the value 2 to the variable y and then uses exactly three print function calls to generate the output below (four lines, with the second line blank). The print calls must use the variables x and y rather than the values 4 and 2."
   ]
  },
  {
   "cell_type": "code",
   "execution_count": 2,
   "id": "c1fafb49",
   "metadata": {},
   "outputs": [
    {
     "name": "stdout",
     "output_type": "stream",
     "text": [
      "4 2\n",
      "\n",
      "4,2\n",
      "42\n"
     ]
    }
   ],
   "source": [
    "print(\"\"\"4 2\n",
    "\n",
    "4,2\n",
    "42\"\"\")"
   ]
  },
  {
   "cell_type": "code",
   "execution_count": null,
   "id": "abfcf6b8",
   "metadata": {},
   "outputs": [],
   "source": []
  }
 ],
 "metadata": {
  "kernelspec": {
   "display_name": "Python 3 (ipykernel)",
   "language": "python",
   "name": "python3"
  },
  "language_info": {
   "codemirror_mode": {
    "name": "ipython",
    "version": 3
   },
   "file_extension": ".py",
   "mimetype": "text/x-python",
   "name": "python",
   "nbconvert_exporter": "python",
   "pygments_lexer": "ipython3",
   "version": "3.9.13"
  }
 },
 "nbformat": 4,
 "nbformat_minor": 5
}
