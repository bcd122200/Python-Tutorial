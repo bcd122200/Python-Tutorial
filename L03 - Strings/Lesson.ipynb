{
 "cells": [
  {
   "cell_type": "markdown",
   "id": "8f23145b",
   "metadata": {},
   "source": [
    "# L03 - Strings"
   ]
  },
  {
   "cell_type": "markdown",
   "id": "a843ad45",
   "metadata": {},
   "source": [
    "Definition - A collection of 0 or more characters denoted using quotes (single or double)"
   ]
  },
  {
   "cell_type": "code",
   "execution_count": null,
   "id": "4ca40071",
   "metadata": {},
   "outputs": [],
   "source": [
    "print(type('Elizabeth'))\n",
    "print(type(\"LoVerde\"))\n",
    "print(type('123'))\n",
    "print(type(\"\"))"
   ]
  },
  {
   "cell_type": "markdown",
   "id": "824e38c5",
   "metadata": {},
   "source": [
    "Like ints and floats, you can assign strings to variable names."
   ]
  },
  {
   "cell_type": "code",
   "execution_count": null,
   "id": "07f38b1a",
   "metadata": {},
   "outputs": [],
   "source": [
    "location = \"Durham, NC\"\n",
    "print(location)"
   ]
  },
  {
   "cell_type": "markdown",
   "id": "6a805516",
   "metadata": {},
   "source": [
    "You can take advantage of the fact that single and double quotes both denote strings to create strings that include quotes."
   ]
  },
  {
   "cell_type": "code",
   "execution_count": null,
   "id": "1c98749b",
   "metadata": {},
   "outputs": [],
   "source": [
    "text1 = 'Sam said, \"Hello World!\"'\n",
    "text2 = \"Sam was alone, so 'no one' heard him\"\n",
    "print(text1, text2)"
   ]
  },
  {
   "cell_type": "markdown",
   "id": "f4b4f915",
   "metadata": {},
   "source": [
    "You can also make multiline strings."
   ]
  },
  {
   "cell_type": "code",
   "execution_count": null,
   "id": "b14ac3cc",
   "metadata": {},
   "outputs": [],
   "source": [
    "multi = \"\"\"This string\n",
    "is a\n",
    "multiline\n",
    "string\"\"\"\n",
    "print(multi)"
   ]
  },
  {
   "cell_type": "markdown",
   "id": "c339e57d",
   "metadata": {},
   "source": [
    "You can also accomplish this using the escape character \"\\\""
   ]
  },
  {
   "cell_type": "code",
   "execution_count": null,
   "id": "9d67b5af",
   "metadata": {},
   "outputs": [],
   "source": [
    "multi = \"This string\\nis a\\nmultiline\\nstring\"\n",
    "print(multi)"
   ]
  },
  {
   "cell_type": "markdown",
   "id": "347433cf",
   "metadata": {},
   "source": [
    "# Escape Character\n",
    "The escape character let's Python know that whatever follows it has special meaning. In the example above, \"\\n\" indicates that you want the rest of the string to be displayed on a new line. Common uses of the escape character are\n",
    "\n",
    "    \\n - newline\n",
    "    \\t - tab indent\n",
    "    \\' - will print ' in the string rather than use ' to end the string\n",
    "    \\\" - will print \" in the string rather than use \" to end the string\n",
    "    \\\\ - will print \\ in the string\n",
    "    \n",
    "Look at these examples of totally legal strings"
   ]
  },
  {
   "cell_type": "code",
   "execution_count": null,
   "id": "7b8469b0",
   "metadata": {},
   "outputs": [],
   "source": [
    "print(\"t\\ttnn\\nn\\t\\tt\\t\\nnt\")"
   ]
  },
  {
   "cell_type": "code",
   "execution_count": null,
   "id": "8130801b",
   "metadata": {},
   "outputs": [],
   "source": [
    "print(\"Sam said, \\\"You can use the same quotation inside the string as what is marking the string!\\\"\")"
   ]
  },
  {
   "cell_type": "markdown",
   "id": "af1b10ac",
   "metadata": {},
   "source": [
    "# Operations with Strings\n",
    "Like mentioned last lesson, operators are not just used for math, but can be used with other data types like strings"
   ]
  },
  {
   "cell_type": "markdown",
   "id": "a29ffb93",
   "metadata": {},
   "source": [
    "# Concatenation\n",
    "This is the process of adding strings to one another. Look how these examples work."
   ]
  },
  {
   "cell_type": "code",
   "execution_count": null,
   "id": "a873da49",
   "metadata": {},
   "outputs": [],
   "source": [
    "s0 = \"Hello\"\n",
    "s1 = \"World!\"\n",
    "print(s0 + s1)"
   ]
  },
  {
   "cell_type": "markdown",
   "id": "008460b8",
   "metadata": {},
   "source": [
    "Remember to include spaces when necessary"
   ]
  },
  {
   "cell_type": "code",
   "execution_count": null,
   "id": "caea952f",
   "metadata": {},
   "outputs": [],
   "source": [
    "print(s0 + ' ' + s1)"
   ]
  },
  {
   "cell_type": "markdown",
   "id": "35aa3fec",
   "metadata": {},
   "source": [
    "# Replication\n",
    "You can use the * operator to generate replications of a string"
   ]
  },
  {
   "cell_type": "code",
   "execution_count": null,
   "id": "f16282ae",
   "metadata": {},
   "outputs": [],
   "source": [
    "'*' * 4"
   ]
  },
  {
   "cell_type": "code",
   "execution_count": null,
   "id": "ca868bb3",
   "metadata": {},
   "outputs": [],
   "source": [
    "5 * 'hi '"
   ]
  },
  {
   "cell_type": "markdown",
   "id": "cbabba08",
   "metadata": {},
   "source": [
    "While these operators work with strings, there are limits. Here are some illegal operations."
   ]
  },
  {
   "cell_type": "code",
   "execution_count": null,
   "id": "073b1a2d",
   "metadata": {},
   "outputs": [],
   "source": [
    "\"&\" * 1.5"
   ]
  },
  {
   "cell_type": "code",
   "execution_count": null,
   "id": "e3c81bfb",
   "metadata": {},
   "outputs": [],
   "source": [
    "\"Add 5\" + 5"
   ]
  },
  {
   "cell_type": "markdown",
   "id": "13bcfe26",
   "metadata": {},
   "source": [
    "# String Functions\n",
    "This part will introduce some more python built in functions that you can use with strings\n",
    "# len()\n",
    "len is a built in function that works with many data types, and it will tell you how long strings are."
   ]
  },
  {
   "cell_type": "code",
   "execution_count": null,
   "id": "3a14366e",
   "metadata": {},
   "outputs": [],
   "source": [
    "print(len(\"Hello World!\"))"
   ]
  },
  {
   "cell_type": "markdown",
   "id": "4641ac3e",
   "metadata": {},
   "source": [
    "Notice that len went inside the print function. The function calls will be executed from the inside out. Python will recognize the valid string \"Hello World!\" and pass it into the len function. The len function will return the length of the string, 12. This 12 is then taken as the input to the print function, so the result is 12 being printed to the screen. "
   ]
  },
  {
   "cell_type": "markdown",
   "id": "517683fd",
   "metadata": {},
   "source": [
    "# str()\n",
    "str is a function that is used to turn its input into a string. This can be used with almost any data type."
   ]
  },
  {
   "cell_type": "code",
   "execution_count": null,
   "id": "1de61a00",
   "metadata": {},
   "outputs": [],
   "source": [
    "str(1.4)"
   ]
  },
  {
   "cell_type": "code",
   "execution_count": null,
   "id": "aeda34da",
   "metadata": {},
   "outputs": [],
   "source": [
    "str(-2)"
   ]
  },
  {
   "cell_type": "code",
   "execution_count": null,
   "id": "127e1b10",
   "metadata": {},
   "outputs": [],
   "source": [
    "str(print)"
   ]
  },
  {
   "cell_type": "markdown",
   "id": "741a36e3",
   "metadata": {},
   "source": [
    "# int() and float()\n",
    "Of course you can go the otherway as well. You can convert strings that have ints and floats in them of the right form."
   ]
  },
  {
   "cell_type": "code",
   "execution_count": null,
   "id": "27b134f4",
   "metadata": {},
   "outputs": [],
   "source": [
    "int('12')"
   ]
  },
  {
   "cell_type": "code",
   "execution_count": null,
   "id": "b50c3594",
   "metadata": {},
   "outputs": [],
   "source": [
    "float('3.1415')"
   ]
  },
  {
   "cell_type": "markdown",
   "id": "1b4e309b",
   "metadata": {},
   "source": [
    "# More on Print\n",
    "Let's get to know print a little more intimately. You can call the built-in help function to get more information about other built-in functions. Let's see what it has to say about print"
   ]
  },
  {
   "cell_type": "code",
   "execution_count": null,
   "id": "7f0ece5b",
   "metadata": {},
   "outputs": [],
   "source": [
    "help(print)"
   ]
  },
  {
   "cell_type": "markdown",
   "id": "5b5180e0",
   "metadata": {},
   "source": [
    "You can see the output looks scary, but it is pretty easy to read once you know what you are looking for. It will give you a general description of what the function does, but then it will show you how to use the function with its keyword arguments.\n",
    "\n",
    "    print(value, ..., sep=' ', end='\\n', file=sys.stdout, flush=False)\n",
    "    \n",
    "We will look at keyword arguments more closely later, but for now, a couple things to note. The ellipsis after value denote that the print function can as many values to print as you would like to give it. Next, it notes that the sep keyword argument will define what string is used to separate values. Finally, the end keyword argument will be added to the very end of the output. Let's look at some examples to see how these work."
   ]
  },
  {
   "cell_type": "code",
   "execution_count": null,
   "id": "e321ee6a",
   "metadata": {},
   "outputs": [],
   "source": [
    "print('a','b','c','d','e')\n",
    "print('a','b','c','d','e', sep='') # separate with the empty string\n",
    "print('a','b','c','d','e', end=' f\\n') # add 'f' to the end and move to the next line\n",
    "print('a','b','c','d','e', sep='', end='f\\n')"
   ]
  },
  {
   "cell_type": "markdown",
   "id": "600be8ef",
   "metadata": {},
   "source": [
    "You don't necessarily need to have '\\n' in the end argument."
   ]
  },
  {
   "cell_type": "code",
   "execution_count": null,
   "id": "2ea2c599",
   "metadata": {},
   "outputs": [],
   "source": [
    "print(\"This looks like one sentence, \", end='')\n",
    "print(\"but it was made with two print statements.\")"
   ]
  },
  {
   "cell_type": "markdown",
   "id": "285ef59b",
   "metadata": {},
   "source": [
    "# Accepting user input with input()\n",
    "input will ask the user to type text that Python can then use. The returned value of the input function will always be a string, so keep that in mind if you are asking for integers or floats. You can also input a string into the input function to be displayed when collecting user input."
   ]
  },
  {
   "cell_type": "code",
   "execution_count": null,
   "id": "76125538",
   "metadata": {},
   "outputs": [],
   "source": [
    "name = input(\"What is your name? \")\n",
    "print(\"Hi, \" + name + \"!\")"
   ]
  },
  {
   "cell_type": "code",
   "execution_count": null,
   "id": "2875a496",
   "metadata": {},
   "outputs": [],
   "source": [
    "x = float(input(\"Enter a number ---> \"))\n",
    "print(\"The input number was\", x)"
   ]
  }
 ],
 "metadata": {
  "kernelspec": {
   "display_name": "Python 3 (ipykernel)",
   "language": "python",
   "name": "python3"
  },
  "language_info": {
   "codemirror_mode": {
    "name": "ipython",
    "version": 3
   },
   "file_extension": ".py",
   "mimetype": "text/x-python",
   "name": "python",
   "nbconvert_exporter": "python",
   "pygments_lexer": "ipython3",
   "version": "3.9.13"
  }
 },
 "nbformat": 4,
 "nbformat_minor": 5
}
