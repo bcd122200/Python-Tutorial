{
 "cells": [
  {
   "cell_type": "markdown",
   "id": "f36a3c0e",
   "metadata": {},
   "source": [
    "# Exercises\n",
    "Below is a list of floats.\n",
    "\n",
    "    Calculate the average\n",
    "    Tell me how many numbers are below the average\n",
    "    Calculate the standard devation \n",
    "    \n",
    "You're only allowed one loop"
   ]
  },
  {
   "cell_type": "code",
   "execution_count": null,
   "id": "4b6803ba",
   "metadata": {},
   "outputs": [],
   "source": [
    "l = [231.2, 252.5, 246.4, 298.2, 287.5, 285.1, 215.5, 268.4, 274.1, 219.8, 257.3]\n"
   ]
  },
  {
   "cell_type": "markdown",
   "id": "54a5e726",
   "metadata": {},
   "source": [
    "The average is too low, revise the values in the list so that each value is increased by the product of 5% and their list position. For example,\n",
    "\n",
    "    231.2 should be increased by 0 * 5%\n",
    "    252.5 should be increased by 1 * 5%\n",
    "    so on"
   ]
  },
  {
   "cell_type": "code",
   "execution_count": null,
   "id": "1512a20d",
   "metadata": {},
   "outputs": [],
   "source": []
  },
  {
   "cell_type": "markdown",
   "id": "9e172cf4",
   "metadata": {},
   "source": [
    "Write a function called is_increasing that returns True if the values in the list passed in are increasing and False otherwise."
   ]
  },
  {
   "cell_type": "code",
   "execution_count": null,
   "id": "bca6d0de",
   "metadata": {},
   "outputs": [],
   "source": []
  },
  {
   "cell_type": "markdown",
   "id": "f5b8c605",
   "metadata": {},
   "source": [
    "Come up with two different ways to create two new lists that are identical and only contain the even indexes of the original list."
   ]
  },
  {
   "cell_type": "code",
   "execution_count": null,
   "id": "d6d345fb",
   "metadata": {},
   "outputs": [],
   "source": []
  }
 ],
 "metadata": {
  "kernelspec": {
   "display_name": "Python 3 (ipykernel)",
   "language": "python",
   "name": "python3"
  },
  "language_info": {
   "codemirror_mode": {
    "name": "ipython",
    "version": 3
   },
   "file_extension": ".py",
   "mimetype": "text/x-python",
   "name": "python",
   "nbconvert_exporter": "python",
   "pygments_lexer": "ipython3",
   "version": "3.9.13"
  }
 },
 "nbformat": 4,
 "nbformat_minor": 5
}
