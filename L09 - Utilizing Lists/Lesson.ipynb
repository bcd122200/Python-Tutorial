{
 "cells": [
  {
   "cell_type": "markdown",
   "id": "7fa2183b",
   "metadata": {},
   "source": [
    "# L09 - Utilizing Lists\n",
    "We're going to explore lists a little more and see what really makes them so useful. But first, something you should know about lists. They are expensive. So your computer likes to cheat when storing their memory as much as it can. Sometimes the computer will take shortcuts that may surprise you and create bugs in your code. Look at this example. "
   ]
  },
  {
   "cell_type": "code",
   "execution_count": null,
   "id": "c21b2c43",
   "metadata": {},
   "outputs": [],
   "source": [
    "L1 = [1,2,3]\n",
    "L2 = L1\n",
    "L3 = L1.copy()\n",
    "L1.append(4)"
   ]
  },
  {
   "cell_type": "markdown",
   "id": "4e277a17",
   "metadata": {},
   "source": [
    "What would you expect each of these lists to look like after line 4 is run?"
   ]
  },
  {
   "cell_type": "code",
   "execution_count": null,
   "id": "807cddda",
   "metadata": {},
   "outputs": [],
   "source": [
    "print(L1)\n",
    "print(L2)\n",
    "print(L3)"
   ]
  },
  {
   "cell_type": "markdown",
   "id": "f6e1f3a4",
   "metadata": {},
   "source": [
    "Say whaaaaat?!?! This weird behavior is called list aliasing. It means that although the variables L1 and L2 have different names, they actually point to the same data in the computer's memory. So any changes you make to L1 will affect L2 and vice versa. Notice that nothing happens to L3, however; it maintains the original L1 list. That is because it was created using the copy() method. This method carves out new space in the computer's memory for the created list, so it is not an alias.\n",
    "\n",
    "Why is this useful? Why do you care? Well, you have to keep aliasing in mind when you are working with functions. For values like ints, floats, and bools, copies of those values are passed into functions because they are cheap. But when you pass a list into a function, an alias for that list is created since copying lists is expensive. Look at this example."
   ]
  },
  {
   "cell_type": "code",
   "execution_count": null,
   "id": "5e72f6e0",
   "metadata": {},
   "outputs": [],
   "source": [
    "def add(first, second):\n",
    "    first += second\n",
    "    return first"
   ]
  },
  {
   "cell_type": "markdown",
   "id": "ff12991e",
   "metadata": {},
   "source": [
    "In this function, we modify the value of the first parameter. But as you'll notice, this won't actually affect the value of the argument passed into the function since the parameter is a copy. "
   ]
  },
  {
   "cell_type": "code",
   "execution_count": null,
   "id": "5d01717b",
   "metadata": {},
   "outputs": [],
   "source": [
    "first = 10\n",
    "second = 20\n",
    "print(first, second)\n",
    "print(add(first, second))\n",
    "print(first, second)"
   ]
  },
  {
   "cell_type": "markdown",
   "id": "7743c455",
   "metadata": {},
   "source": [
    "See the global variable remains unchanged. Now, let's look at what happens with lists. This function will add the first value in the second list to the first value in the first list."
   ]
  },
  {
   "cell_type": "code",
   "execution_count": null,
   "id": "b765ac39",
   "metadata": {},
   "outputs": [],
   "source": [
    "def add_lists(L1, L2):\n",
    "    L1[0] += L2[0]\n",
    "    return L1\n",
    "\n",
    "L1 = [10]\n",
    "L2 = [20]\n",
    "print(L1, L2)\n",
    "print(add_lists(L1, L2))\n",
    "print(L1, L2)"
   ]
  },
  {
   "cell_type": "markdown",
   "id": "8197ede9",
   "metadata": {},
   "source": [
    "If copies of the lists are used in the function, we would expect a similar output to before with ints, but as you can see, the L1 list was altered even outside of the function. You need to keep this in mind because it can be useful if you want to make changes to lists in functions but a pain if you want to retain the original list values after the function call.\n",
    "\n",
    "All of the functions discussed in the previous lesson make changes to lists and you would see the effects of aliasing with them (sort, append, insert, pop, remove). Let's look at some of the functions that will create new lists."
   ]
  },
  {
   "cell_type": "markdown",
   "id": "c606acd7",
   "metadata": {},
   "source": [
    "You've seen how the copy() method works. Hopefully it is obvious now why that one creates a new list. You can concatenate lists together using the + operator similarly to how it works with strings."
   ]
  },
  {
   "cell_type": "code",
   "execution_count": null,
   "id": "57b5c16e",
   "metadata": {},
   "outputs": [],
   "source": [
    "print(L1 + L2)\n",
    "print(L2 + L1)\n",
    "print(L1, L2)"
   ]
  },
  {
   "cell_type": "markdown",
   "id": "1833cd5b",
   "metadata": {},
   "source": [
    "You can also replicate lists like you can with strings."
   ]
  },
  {
   "cell_type": "code",
   "execution_count": null,
   "id": "10ee3376",
   "metadata": {},
   "outputs": [],
   "source": [
    "print(L1 * 5)"
   ]
  },
  {
   "cell_type": "markdown",
   "id": "d7bea090",
   "metadata": {},
   "source": [
    "You can also turn things that were not a list into a list."
   ]
  },
  {
   "cell_type": "code",
   "execution_count": null,
   "id": "66729208",
   "metadata": {},
   "outputs": [],
   "source": [
    "list(\"Hello World!\")"
   ]
  },
  {
   "cell_type": "code",
   "execution_count": null,
   "id": "3bfc885e",
   "metadata": {},
   "outputs": [],
   "source": [
    "list((1, 2, 3, 4))"
   ]
  },
  {
   "cell_type": "markdown",
   "id": "86940d8b",
   "metadata": {},
   "source": [
    "Note that this only works with types that are iterable. We get a better understanding for what that means later, but the take away is that it will not work with things like ints or floats."
   ]
  },
  {
   "cell_type": "code",
   "execution_count": null,
   "id": "f2922f30",
   "metadata": {},
   "outputs": [],
   "source": [
    "list(12)"
   ]
  },
  {
   "cell_type": "markdown",
   "id": "5f7368aa",
   "metadata": {},
   "source": [
    "There's one more useful way you can make new lists.\n",
    "# Slicing\n",
    "Sometimes you may want to refer to more than just one list value at time. We do this with slicing. Here are some examples:"
   ]
  },
  {
   "cell_type": "code",
   "execution_count": null,
   "id": "c6a22890",
   "metadata": {},
   "outputs": [],
   "source": [
    "l = list(\"Hello World!\")\n",
    "print(l[2:5])\n",
    "print(l[6:])\n",
    "print(l[:-1])\n",
    "print(l[::])\n",
    "print(l[::2])"
   ]
  },
  {
   "cell_type": "markdown",
   "id": "9a553877",
   "metadata": {},
   "source": [
    "The colon is used inside the square brackets to indicate that you want a slice of values. The general formula for the slice looks like this:\n",
    "\n",
    "    list[start:end:step]\n",
    "    \n",
    "As you saw above, slicing syntax is very flexible. You don't need both colons, and you in fact don't need to put any values in at all--even if it's pointless to do so. If you don't specify a certain value, python will automatically fill the empty space with the default value. The syntax with the default values looks like this:\n",
    "\n",
    "    list[0:len(list):1]\n",
    "    \n",
    "The starting point is pretty self explanatory, but the ending point is a little trickier. You'll notice that the default value for the stopping point is the length of the list. That should ring some alarm bells, however, since the last index in a Python list is one less than the length of the list. So, what's going on here? The end value is actually one more than the last list item to be included in the slice. That's why in the example above l[:-1] includes the whole list but removes the '!' because -1 is the last element in the list. \n",
    "\n",
    "You may think, \"Well that's dumb just define end to be the last item that gets included in the slice.\" This convention is not exclusive to Python, but common in most programming languages. Once you get used to it, it's actually useful for checking how long your slice will be. Since Python is 0 indexed, when you subtract the starting point from the ending point, you get the exact length of the returned list. \n",
    "\n",
    "Lastly, you'll notice that step is an optional argument in the slice. The step defines the step length between values in the slice. If you want to include all the values between the start and stop, then you don't need to worry about step, but if you only want every other value, you could use a step value of 2 like the code above.\n",
    "\n",
    "I know I said lastly before but this is actually the last little bit about slicing. Remember that we could also index strings? Well we can slice those too."
   ]
  },
  {
   "cell_type": "code",
   "execution_count": null,
   "id": "bd909f19",
   "metadata": {},
   "outputs": [],
   "source": [
    "s = 'Hello World!'\n",
    "print(s[2:5])\n",
    "print(s[6:])\n",
    "print(s[:-1])\n",
    "print(s[::])\n",
    "print(s[::2])"
   ]
  },
  {
   "cell_type": "markdown",
   "id": "7bc65227",
   "metadata": {},
   "source": [
    "# For Loops\n",
    "\n",
    "For loops allow us to iterate through lists. Let's look at an example, and then we'll see how it works."
   ]
  },
  {
   "cell_type": "code",
   "execution_count": null,
   "id": "a10254aa",
   "metadata": {},
   "outputs": [],
   "source": [
    "scores = [98, 90, 67, 88, 72, 100]\n",
    "good_scores = []\n",
    "for score in scores:\n",
    "    if score >= 80:\n",
    "        print(score, \"is a good score!\")\n",
    "        good_scores.append(score)\n",
    "    else:\n",
    "        print(score, \"is just disappointing...\")\n",
    "\n",
    "print(\"All good scores:\", good_scores)"
   ]
  },
  {
   "cell_type": "markdown",
   "id": "3f4664f4",
   "metadata": {},
   "source": [
    "Let's look at all the components at play here:\n",
    "\n",
    "    for keyword signifies the start of a for loop\n",
    "    score is the loop variable. It takes on the value of each item in the list\n",
    "    in keyword sets up the relationship between the loop variable and the list\n",
    "    scores is the list through which we iterate\n",
    "    : signifies the start of the block of code that will be repeated for every iteration\n",
    "    The code that loops gets indented\n",
    "    The looped code is concluded by indentation returning to the level of the for statement\n",
    "    \n",
    "This is useful when you need to access all the values inside a list, but what if you want to make changes to those values? \n",
    "# Range()\n",
    "Range is a new type and it's an iterable. It's job is to return a sequence of numbers specified by the input arguments. Remeber we can turn iterables into lists? Let' see how that works with range. "
   ]
  },
  {
   "cell_type": "code",
   "execution_count": null,
   "id": "42ad0e8f",
   "metadata": {},
   "outputs": [],
   "source": [
    "print(list(range(10)))\n",
    "print(list(range(5,8)))\n",
    "print(list(range(0,10001,1000)))"
   ]
  },
  {
   "cell_type": "markdown",
   "id": "9d3b54ce",
   "metadata": {},
   "source": [
    "Do Those input arguments look familiar? They should because range works the same way as slicing, except now the start, end, and step values are input arguments separated by commas. \n",
    "\n",
    "    range(start, end, step)\n",
    "    \n",
    "There are some slight differences, however. If you only input one argument, that argument is the end value as in the first example. But when you input two arguments, it goes start and then end as in the second example. Lastly, to specify the step, you need all three arguments even if you want to start at 0 as in the last example. \n",
    "\n",
    "Why am I bringing this up now? Because we can use these with for loops to get indicies for our list values."
   ]
  },
  {
   "cell_type": "code",
   "execution_count": null,
   "id": "03d461f5",
   "metadata": {},
   "outputs": [],
   "source": [
    "subjects = ['math', 'physics', 'history', 'chemistry', 'english', 'biology']\n",
    "for i in range(len(subjects)):\n",
    "    subjects[i] = subjects[i].capitalize()\n",
    "    \n",
    "print(subjects)"
   ]
  },
  {
   "cell_type": "markdown",
   "id": "4d2c2d3b",
   "metadata": {},
   "source": [
    "How is this different?\n",
    "\n",
    "    i is now our looping variable (convention to use i but you could call it whatever you want)\n",
    "    We aren't providing a list to loop through, but a range of numbers\n",
    "    The end point of the range is the length of the list\n",
    "    \n",
    "For every iteration, i takes on a number value that we can then use for indexing. Notice in this example we index our list twice for different purposes. The first time to define the left side of the assignment operator (the motivation behind using range), and the second time to refer to the string in the list to be capitalized. We need the i to locate the index in the list for the assignment, but it would be nice to still have some variable that takes on the value of the list item with each iteration. That way we wouldn't need the second index and could use that variable in stead because indexing is annoying. \n",
    "\n",
    "Luckily, we can! We can do this with the built-in enumerate function. "
   ]
  },
  {
   "cell_type": "code",
   "execution_count": null,
   "id": "ed19b1b6",
   "metadata": {},
   "outputs": [],
   "source": [
    "subjects = ['math', 'physics', 'history', 'chemistry', 'english', 'biology']\n",
    "for i, subject in enumerate(subjects):\n",
    "    subjects[i] = subject.capitalize()\n",
    "    \n",
    "print(subjects)"
   ]
  },
  {
   "cell_type": "markdown",
   "id": "b2c185a7",
   "metadata": {},
   "source": [
    "Ta Daaaa!! This is not super necessary, but it can make your life easier. What did we change to make it happen?\n",
    "\n",
    "    We now have 2 looping variables separated by the comma in a particular order\n",
    "    i takes on the index of each item in the list\n",
    "    subject takes on the value of that item in the list\n",
    "    enumerate is our new function that defines what we loop through\n",
    "    subjects is our input argument to enumerate()\n",
    "    \n",
    "As an added bonus, you can even loop through multiple lists at the same time! We do this using the built-in function zip()."
   ]
  },
  {
   "cell_type": "code",
   "execution_count": null,
   "id": "71f1266c",
   "metadata": {},
   "outputs": [],
   "source": [
    "for subject, score in zip(subjects, scores):\n",
    "    print(\"I got a {1}% in {0}\".format(subject, score))"
   ]
  },
  {
   "cell_type": "markdown",
   "id": "694305d4",
   "metadata": {},
   "source": [
    "Using zip is very similar to the first loop we did with just the looping variable and the list. But now since we are zipping multiple lists, we need multiple variables. You can zip as many lists together as you want but you need to make a looping variable for each.\n",
    "\n",
    "Finally, if you want multiple lists and still need the looping variable, you can combine everything like this"
   ]
  },
  {
   "cell_type": "code",
   "execution_count": null,
   "id": "3f49a0d7",
   "metadata": {},
   "outputs": [],
   "source": [
    "for i, (subject, score) in enumerate(zip(subjects, scores)):\n",
    "    print(\"{}. {}: {}%\".format(i + 1, subject, score))"
   ]
  },
  {
   "cell_type": "markdown",
   "id": "bdea899e",
   "metadata": {},
   "source": [
    "The only important note here is that you need to group together your variables that hold the values since Python expects 2 variables for enumerate. But we can trick Python by grouping the looping variables together."
   ]
  }
 ],
 "metadata": {
  "kernelspec": {
   "display_name": "Python 3 (ipykernel)",
   "language": "python",
   "name": "python3"
  },
  "language_info": {
   "codemirror_mode": {
    "name": "ipython",
    "version": 3
   },
   "file_extension": ".py",
   "mimetype": "text/x-python",
   "name": "python",
   "nbconvert_exporter": "python",
   "pygments_lexer": "ipython3",
   "version": "3.9.13"
  }
 },
 "nbformat": 4,
 "nbformat_minor": 5
}
