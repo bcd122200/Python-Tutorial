{
 "cells": [
  {
   "cell_type": "markdown",
   "id": "82e85cce",
   "metadata": {},
   "source": [
    "# Exercises\n",
    "Write a program that takes input from a user and creates a hashtag out of it where every word is capitalized. For example,\n",
    "\"I hate mondays\" turns into \"#IHateMondays\""
   ]
  },
  {
   "cell_type": "code",
   "execution_count": null,
   "id": "a67a6fec",
   "metadata": {},
   "outputs": [],
   "source": []
  },
  {
   "cell_type": "markdown",
   "id": "e8c34f43",
   "metadata": {},
   "source": [
    "Using the law of sines, sin(A)/a = sin(B)/b = sin(C)/c, to find the longest edge of the triangle defined below, then find the area of a circle defined by the longest side of the triangle as its diameter. Display your answer in a neat manner."
   ]
  },
  {
   "cell_type": "code",
   "execution_count": null,
   "id": "06639adc",
   "metadata": {},
   "outputs": [],
   "source": [
    "\n",
    "\n",
    "a = 10 # m\n",
    "b = 7 # m\n",
    "A = 56 # deg\n",
    "\n"
   ]
  }
 ],
 "metadata": {
  "kernelspec": {
   "display_name": "Python 3 (ipykernel)",
   "language": "python",
   "name": "python3"
  },
  "language_info": {
   "codemirror_mode": {
    "name": "ipython",
    "version": 3
   },
   "file_extension": ".py",
   "mimetype": "text/x-python",
   "name": "python",
   "nbconvert_exporter": "python",
   "pygments_lexer": "ipython3",
   "version": "3.9.13"
  }
 },
 "nbformat": 4,
 "nbformat_minor": 5
}
