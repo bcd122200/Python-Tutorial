{
 "cells": [
  {
   "cell_type": "markdown",
   "id": "a29f5461",
   "metadata": {},
   "source": [
    "# L04 - Using Functions and Modules\n",
    "# Definition - Abstraction\n",
    "Using a high level tool without needing to understand how it works\n",
    "\n",
    "\n",
    "Great examples of abstraction are functions. We can learn how to use Python built-in functions without needing to know how they actually work. Let's take a look at some.\n",
    "# abs()\n",
    "abs is the absolute value function. This one is pretty self explanatory, you know what it will do, but you don't necessarily care how it works."
   ]
  },
  {
   "cell_type": "code",
   "execution_count": null,
   "id": "01e9cc9c",
   "metadata": {},
   "outputs": [],
   "source": [
    "abs(-2.42)"
   ]
  },
  {
   "cell_type": "markdown",
   "id": "5348d274",
   "metadata": {},
   "source": [
    "# pow()\n",
    "pow is the built-in exponentiation function. You can use this in place of the ** operator. This function takes two arguments, pow(a,b) and will raise a to the power of b."
   ]
  },
  {
   "cell_type": "code",
   "execution_count": null,
   "id": "821b4266",
   "metadata": {},
   "outputs": [],
   "source": [
    "pow(2,3)"
   ]
  },
  {
   "cell_type": "code",
   "execution_count": null,
   "id": "8ab5d982",
   "metadata": {},
   "outputs": [],
   "source": [
    "pow(64, 1/2)"
   ]
  },
  {
   "cell_type": "markdown",
   "id": "c74494b4",
   "metadata": {},
   "source": [
    "# round()\n",
    "round will help you with any rounding needs you may have. Floating points will often give you a large number of decimals, so this can help with that"
   ]
  },
  {
   "cell_type": "code",
   "execution_count": null,
   "id": "6b8fdbfd",
   "metadata": {},
   "outputs": [],
   "source": [
    "x = 10/7\n",
    "print(x)"
   ]
  },
  {
   "cell_type": "code",
   "execution_count": null,
   "id": "b8061c12",
   "metadata": {},
   "outputs": [],
   "source": [
    "print(round(x, 2))"
   ]
  },
  {
   "cell_type": "code",
   "execution_count": null,
   "id": "37f19fb1",
   "metadata": {},
   "outputs": [],
   "source": [
    "print(round(x, 0))"
   ]
  },
  {
   "cell_type": "markdown",
   "id": "96c802d2",
   "metadata": {},
   "source": [
    "# min() and max()\n",
    "min and max are useful built-in functions that return either the min or max of all the inputs. This will become particularly useful when we talk about lists later on"
   ]
  },
  {
   "cell_type": "code",
   "execution_count": null,
   "id": "a63a07c3",
   "metadata": {},
   "outputs": [],
   "source": [
    "max(1, -4, 18, 18.1)"
   ]
  },
  {
   "cell_type": "code",
   "execution_count": null,
   "id": "b56f1f9b",
   "metadata": {},
   "outputs": [],
   "source": [
    "min(-24, 12, -24.2, -23.8)"
   ]
  },
  {
   "cell_type": "markdown",
   "id": "895f5a2c",
   "metadata": {},
   "source": [
    "# Objects and Methods\n",
    "What is an object? Simply put, most things are a type of abstraction, and most things are objects. When you define a variable, that variable is an object. A string is an object, a float is an object, lists, sets, event function definitions are objects. Objects define data organization and structure. The point is, we don't need to know how objects are constructed or how they work on a minute level, we just need to know how to use the objects. \n",
    "\n",
    "When calculating the surface area and volume of cylinders in L02, you were using objects to make those calculations. Another way you can use objects is with methods. Sometimes objects have special methods that allow you to do useful things. Methods are simply functions defined specifically for a type of object. Let's look at strings for example."
   ]
  },
  {
   "cell_type": "code",
   "execution_count": null,
   "id": "1ccc780f",
   "metadata": {},
   "outputs": [],
   "source": [
    "s = \"Hello World!\""
   ]
  },
  {
   "cell_type": "markdown",
   "id": "668c6ccc",
   "metadata": {},
   "source": [
    "Here we have a string, \"Hello World!\". But say we wanted to find where the first instance of an 'o' was. We could use the find() method on the string."
   ]
  },
  {
   "cell_type": "code",
   "execution_count": null,
   "id": "cff3538e",
   "metadata": {},
   "outputs": [],
   "source": [
    "s.find('o')"
   ]
  },
  {
   "cell_type": "markdown",
   "id": "5bf98275",
   "metadata": {},
   "source": [
    "Notice the method find knows which string we wanted to find the 'o' in because it is being called on the variable s. If we wanted to find the next 'o', we could have find start looking at a particular index."
   ]
  },
  {
   "cell_type": "code",
   "execution_count": null,
   "id": "eba4875c",
   "metadata": {},
   "outputs": [],
   "source": [
    "s.find('o', 5)"
   ]
  },
  {
   "cell_type": "markdown",
   "id": "ca19ef15",
   "metadata": {},
   "source": [
    "The general format for using methods is as follows\n",
    "\n",
    "    object.method(arguments)\n",
    "    \n",
    "Where an argument is an input to any type of function"
   ]
  },
  {
   "cell_type": "markdown",
   "id": "40150196",
   "metadata": {},
   "source": [
    "If you want to learn about what other methods strings have, you can always ask help and it will give you the documentation on strings"
   ]
  },
  {
   "cell_type": "code",
   "execution_count": null,
   "id": "993b1613",
   "metadata": {},
   "outputs": [],
   "source": [
    "help(str)"
   ]
  },
  {
   "cell_type": "markdown",
   "id": "ec2bdab8",
   "metadata": {},
   "source": [
    "Let's look at some of the more common string methods that can help you format your outputs easier.\n",
    "\n",
    "    lower()\n",
    "    upper()\n",
    "    capitalize()\n",
    "    title()\n",
    "    find()\n",
    "    replace()\n",
    "    count()\n",
    "    strip()"
   ]
  },
  {
   "cell_type": "code",
   "execution_count": null,
   "id": "deabf944",
   "metadata": {},
   "outputs": [],
   "source": [
    "name = \"James Buchanan Duke   \"\n",
    "print(name.lower())\n",
    "name = name.upper()\n",
    "print(name)"
   ]
  },
  {
   "cell_type": "code",
   "execution_count": null,
   "id": "61abe870",
   "metadata": {},
   "outputs": [],
   "source": [
    "print(name.capitalize())\n",
    "name = name.title()\n",
    "print(name)"
   ]
  },
  {
   "cell_type": "code",
   "execution_count": null,
   "id": "52f80ac9",
   "metadata": {},
   "outputs": [],
   "source": [
    "name.find(\" \")"
   ]
  },
  {
   "cell_type": "code",
   "execution_count": null,
   "id": "b11b4c7a",
   "metadata": {},
   "outputs": [],
   "source": [
    "name.find(\"z\")"
   ]
  },
  {
   "cell_type": "code",
   "execution_count": null,
   "id": "27b3a2f1",
   "metadata": {},
   "outputs": [],
   "source": [
    "name.count(\"n\")"
   ]
  },
  {
   "cell_type": "code",
   "execution_count": null,
   "id": "c6d4546f",
   "metadata": {},
   "outputs": [],
   "source": [
    "name.replace(\"an\", \"AN\")"
   ]
  },
  {
   "cell_type": "code",
   "execution_count": null,
   "id": "0bd15c25",
   "metadata": {},
   "outputs": [],
   "source": [
    "name.strip()"
   ]
  },
  {
   "cell_type": "code",
   "execution_count": null,
   "id": "856146fa",
   "metadata": {},
   "outputs": [],
   "source": [
    "name = \"zzzzz\" + name.strip() + \"zz\"\n",
    "print(name)\n",
    "name.strip(\"z\")"
   ]
  },
  {
   "cell_type": "markdown",
   "id": "7f58cc3f",
   "metadata": {},
   "source": [
    "Note that if you have string methods that return strings, you can chain them together."
   ]
  },
  {
   "cell_type": "code",
   "execution_count": null,
   "id": "84b8ad56",
   "metadata": {},
   "outputs": [],
   "source": [
    "print(name)\n",
    "print(name.strip(\"z\").lower())"
   ]
  },
  {
   "cell_type": "markdown",
   "id": "0adab290",
   "metadata": {},
   "source": [
    "# Exercise\n",
    "Finish the script below so that it replaces all the vowels in the phrase below with dollar signs where the number of dollar signs is the number of times that vowel appears in the string"
   ]
  },
  {
   "cell_type": "code",
   "execution_count": null,
   "id": "83b568c6",
   "metadata": {},
   "outputs": [],
   "source": [
    "phrase = \"The duck walked up to the lemonade stand.\""
   ]
  },
  {
   "cell_type": "markdown",
   "id": "8c6d3af7",
   "metadata": {},
   "source": [
    "Given the name below, write some code to swap all the e's and a's (lower case only)"
   ]
  },
  {
   "cell_type": "code",
   "execution_count": null,
   "id": "5c2fc3b0",
   "metadata": {},
   "outputs": [],
   "source": [
    "name = \"Elizabeth Sarah LoVerde\""
   ]
  },
  {
   "cell_type": "markdown",
   "id": "28e6e1dc",
   "metadata": {},
   "source": [
    "# String Formatting\n",
    "String formatting gives you an easy way to make pretty outputs to your code.\n",
    "Let's look at some code to calculate the volume and surface area of a sphere."
   ]
  },
  {
   "cell_type": "code",
   "execution_count": null,
   "id": "ba605ba9",
   "metadata": {},
   "outputs": [],
   "source": [
    "pi = 3.14159\n",
    "r = 10.5\n",
    "volume = 4 * pi * pow(r, 3) / 3\n",
    "surface_area = 4 * pi * pow(r, 2)"
   ]
  },
  {
   "cell_type": "markdown",
   "id": "681d0a06",
   "metadata": {},
   "source": [
    "Without string formatting, you could print an answer like this."
   ]
  },
  {
   "cell_type": "code",
   "execution_count": null,
   "id": "19417ef3",
   "metadata": {},
   "outputs": [],
   "source": [
    "print(\"A sphere with radius\", r, \"has a volume of\", volume, \"and a surface area of\", surface_area)"
   ]
  },
  {
   "cell_type": "markdown",
   "id": "56ae9d62",
   "metadata": {},
   "source": [
    "But using the format() method, you can create something much cleaner like this."
   ]
  },
  {
   "cell_type": "code",
   "execution_count": null,
   "id": "4b3f2965",
   "metadata": {},
   "outputs": [],
   "source": [
    "print(\"A sphere with radius {0:.2f} has a volume of {1:.2f} and a surface area of {2:.2f}\".format(r, volume, surface_area))"
   ]
  },
  {
   "cell_type": "markdown",
   "id": "eed2320c",
   "metadata": {},
   "source": [
    "And even cleaner yet..."
   ]
  },
  {
   "cell_type": "code",
   "execution_count": null,
   "id": "8bda9d70",
   "metadata": {},
   "outputs": [],
   "source": [
    "print(\"A sphere with radius {0:.2f} has a volume of {1:,.2f} and a surface area of {2:,.2f}\".format(r, volume, surface_area))"
   ]
  },
  {
   "cell_type": "markdown",
   "id": "6e123d66",
   "metadata": {},
   "source": [
    "The format is easier to read and simpler to print by only using one string. But how does it work? The format() method replaces whatever is in curly brackets {} with the format's input arguments. The color separates the argument number from any special formatting you wish to include. So {0:.2f} means you want to replace that bracket with the first argument rounded to 2 decimal places.\n",
    "\n",
    "https://www.w3schools.com/python/ref_string_format.asp this website has a comprehensive list of all the formatting you can do, but let's demonstrate some of the useful ones."
   ]
  },
  {
   "cell_type": "code",
   "execution_count": null,
   "id": "d67f742d",
   "metadata": {},
   "outputs": [],
   "source": [
    "s = \"I love dogs\"\n",
    "print(\"{:^20}\".format(s))"
   ]
  },
  {
   "cell_type": "markdown",
   "id": "555ceb7a",
   "metadata": {},
   "source": [
    "Note that you don't need the index if you only have one argument or if the order of the arguments match the order you want to display them. You can also fill the blank space with a different character like this."
   ]
  },
  {
   "cell_type": "code",
   "execution_count": null,
   "id": "855a67f6",
   "metadata": {},
   "outputs": [],
   "source": [
    "print(\"{:-^20}\".format(s))\n",
    "print(\"{:*>20}\".format(s))\n",
    "print(\"{:$<20}\".format(s))"
   ]
  },
  {
   "cell_type": "code",
   "execution_count": null,
   "id": "40a766d8",
   "metadata": {},
   "outputs": [],
   "source": [
    "big1 = pow(2, 20)\n",
    "big2 = pow(3, 15)\n",
    "print(\"Is {1:e} bigger than {0:,}?\".format(big1, big2))"
   ]
  },
  {
   "cell_type": "markdown",
   "id": "d172f9f1",
   "metadata": {},
   "source": [
    "You can also combine them like we did earlier. You may just need to be careful with how you order them."
   ]
  },
  {
   "cell_type": "code",
   "execution_count": null,
   "id": "d5cc8861",
   "metadata": {},
   "outputs": [],
   "source": [
    "print(\"{:-^20,}\".format(big1))"
   ]
  },
  {
   "cell_type": "markdown",
   "id": "5a06279e",
   "metadata": {},
   "source": [
    "# Modules\n",
    "Modules are great tools for keeping yourself from having to do more work than you need to. For example, you probably wouldn't want to have to define your own function for taking the cosine of something. So, just use the math module's implementation of cosine."
   ]
  },
  {
   "cell_type": "code",
   "execution_count": null,
   "id": "dae6605a",
   "metadata": {},
   "outputs": [],
   "source": [
    "import math\n",
    "math.cos(2*math.pi)"
   ]
  },
  {
   "cell_type": "markdown",
   "id": "83fc4961",
   "metadata": {},
   "source": [
    "The import statement tells Python that we are going to be interested in using something from the math module, so it keeps it handy for us to use. Let's look at some other ways we can import modules.\n",
    "\n",
    "If you are interested in just one particular function or variable from a module, you can simply just import that function or variable, so you don't have to use the module prefix anymore. "
   ]
  },
  {
   "cell_type": "code",
   "execution_count": null,
   "id": "996d1662",
   "metadata": {},
   "outputs": [],
   "source": [
    "from math import sin\n",
    "sin(3.14159 / 2)"
   ]
  },
  {
   "cell_type": "markdown",
   "id": "f2d95d14",
   "metadata": {},
   "source": [
    "You can import multiple objects like this"
   ]
  },
  {
   "cell_type": "code",
   "execution_count": null,
   "id": "918cf0a6",
   "metadata": {},
   "outputs": [],
   "source": [
    "from math import tan, pi\n",
    "tan(pi / 4)"
   ]
  },
  {
   "cell_type": "markdown",
   "id": "ed89544a",
   "metadata": {},
   "source": [
    "If you don't like the way a module has named something, you can always rename it yourself using the 'as' keyword."
   ]
  },
  {
   "cell_type": "code",
   "execution_count": null,
   "id": "939374ab",
   "metadata": {},
   "outputs": [],
   "source": [
    "from math import asin as arcsin\n",
    "arcsin(1.0)"
   ]
  },
  {
   "cell_type": "markdown",
   "id": "0e76f991",
   "metadata": {},
   "source": [
    "Lastly, you can import all the functions and variables from a module using the following format\n",
    "\n",
    "    from math import *\n",
    "    \n",
    "This isn't usually recommended as it could slow your computer down depending on the size of the module"
   ]
  },
  {
   "cell_type": "markdown",
   "id": "e6984f77",
   "metadata": {},
   "source": [
    "Remember you can always inquire about the functions modules have available using help()"
   ]
  },
  {
   "cell_type": "code",
   "execution_count": null,
   "id": "5c7e3056",
   "metadata": {},
   "outputs": [],
   "source": [
    "help(math)"
   ]
  },
  {
   "cell_type": "markdown",
   "id": "ee039911",
   "metadata": {},
   "source": [
    "As a final note, when you structure your programs, it is often good practice to include all your import statements at the top of your code. For example"
   ]
  },
  {
   "cell_type": "code",
   "execution_count": null,
   "id": "50efea99",
   "metadata": {},
   "outputs": [],
   "source": [
    "from math import sin, pi, sqrt\n",
    "\n",
    "theta = pi / 2\n",
    "x = sin(theta)\n",
    "answer = sqrt(x)\n",
    "print(answer)"
   ]
  }
 ],
 "metadata": {
  "kernelspec": {
   "display_name": "Python 3 (ipykernel)",
   "language": "python",
   "name": "python3"
  },
  "language_info": {
   "codemirror_mode": {
    "name": "ipython",
    "version": 3
   },
   "file_extension": ".py",
   "mimetype": "text/x-python",
   "name": "python",
   "nbconvert_exporter": "python",
   "pygments_lexer": "ipython3",
   "version": "3.9.13"
  }
 },
 "nbformat": 4,
 "nbformat_minor": 5
}
