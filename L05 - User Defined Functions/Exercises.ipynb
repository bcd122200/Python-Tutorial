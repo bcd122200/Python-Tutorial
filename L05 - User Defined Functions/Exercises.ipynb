{
 "cells": [
  {
   "cell_type": "markdown",
   "id": "9d9b7569",
   "metadata": {},
   "source": [
    "# Exercises\n",
    "Write a function that converts Celsius temperatures to Farenheit. Recall that the conversion is 9/5 * C + 32. Your function should create a display showing the conversion as well.\n",
    "\n",
    "    0 -> 32\n",
    "    -40 -> -40"
   ]
  },
  {
   "cell_type": "code",
   "execution_count": null,
   "id": "059ab33c",
   "metadata": {},
   "outputs": [],
   "source": []
  },
  {
   "cell_type": "markdown",
   "id": "0d7c6197",
   "metadata": {},
   "source": [
    "Write a function that frames a string in a character of your choosing. The function should take two arguments, your string and the character you wish to frame it in. For example, framing \"I like coffee\" with \"*\" would look like\n",
    "\n",
    "    *****************\n",
    "    **I like coffee**\n",
    "    *****************"
   ]
  },
  {
   "cell_type": "code",
   "execution_count": null,
   "id": "b9b24738",
   "metadata": {},
   "outputs": [],
   "source": []
  },
  {
   "cell_type": "markdown",
   "id": "d61b398c",
   "metadata": {},
   "source": [
    "Write a function that returns the mean of three input arguments. "
   ]
  },
  {
   "cell_type": "code",
   "execution_count": null,
   "id": "bd44c2cc",
   "metadata": {},
   "outputs": [],
   "source": []
  }
 ],
 "metadata": {
  "kernelspec": {
   "display_name": "Python 3 (ipykernel)",
   "language": "python",
   "name": "python3"
  },
  "language_info": {
   "codemirror_mode": {
    "name": "ipython",
    "version": 3
   },
   "file_extension": ".py",
   "mimetype": "text/x-python",
   "name": "python",
   "nbconvert_exporter": "python",
   "pygments_lexer": "ipython3",
   "version": "3.9.13"
  }
 },
 "nbformat": 4,
 "nbformat_minor": 5
}
