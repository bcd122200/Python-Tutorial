{
 "cells": [
  {
   "cell_type": "markdown",
   "id": "cf956ee4",
   "metadata": {},
   "source": [
    "# L05 - User Defined Functions\n",
    "Writing your own functions allows you to use abstraction to free yourself from the pain of having to rewrite the same code over and over again. This can make trouleshooting and keeping track of your code very difficult. \n",
    "\n",
    "Writing your own functions is very simple. Let's look at one of Python's built-in functions to see exactly what a function needs. "
   ]
  },
  {
   "cell_type": "code",
   "execution_count": null,
   "id": "46d93c4a",
   "metadata": {},
   "outputs": [],
   "source": [
    "len(\"len() is a built-in function\")"
   ]
  },
  {
   "cell_type": "markdown",
   "id": "ed2ade74",
   "metadata": {},
   "source": [
    "You can see the function len has a unique name, an input argument, and a return value. This is generally the three things that make up a function, but as you get better at using functions, you'll learn that this may not always be the case. But that's for another day..."
   ]
  },
  {
   "cell_type": "markdown",
   "id": "fcec5668",
   "metadata": {},
   "source": [
    "Let's look at creating a function to give us the volume of a sphere as an example."
   ]
  },
  {
   "cell_type": "code",
   "execution_count": null,
   "id": "d4af4f5b",
   "metadata": {},
   "outputs": [],
   "source": [
    "def sphere_volume(radius):\n",
    "    pi = 3.14159\n",
    "    volume = 4 * pi * radius ** 3 / 3\n",
    "    return volume"
   ]
  },
  {
   "cell_type": "markdown",
   "id": "fae0ee49",
   "metadata": {},
   "source": [
    "Okay a lot going on here, so let's break it down. The keyword def lets Python know that you are defining a new function of your own design. Following def will be the name of your function with a set of parenthesis. Inside these parenthesis are where we place parameters. You are actually very familiar with the concept of a parameter. Look at math. If you define f(x) = 2x + 3, x is your place holder that you use to define what the function f should compute. It is the exact same thing here. \n",
    "\n",
    "Last thing on this line is you end it with a colon. Colons are used in Python to define scope. Whenever you see a colon, it will always be followed by a new line that is indented one more than the line with the colon. In this case, everything that is indented is in the scope of the function definition. The indentation let's Python know where the function definition is. When the indentation ends, so does the function definition.\n",
    "\n",
    "Inside the body of the function definition, you can essentially do whatever you want. In our example, we create local variables pi and volume. These variables are local because they are defined within the scope of the function definition. We will see how they differ from the global variables you are used to in a minute. Lastly, the function definition ends with the return value. The return keyword is essential because it denotes that you intend to spit the return value back out to the rest of the program. Let's see how this works in action."
   ]
  },
  {
   "cell_type": "code",
   "execution_count": null,
   "id": "223f0f1b",
   "metadata": {},
   "outputs": [],
   "source": [
    "r = 10\n",
    "V = sphere_volume(r)\n",
    "print(V)"
   ]
  },
  {
   "cell_type": "markdown",
   "id": "13ec688b",
   "metadata": {},
   "source": [
    "What's going on here? We created some global variable r. We then passed this global variable into the function we just made as an argument. Note that the name of the global variable does NOT need to match the name of the parameter we used to define our function. Our function call is executed and radius assumes the same value as our argument r, the local variables pi and volume are created, and finally our function spits out the return value. That return value then gets stored in the global variable V which we see when we print V. Notice, however, we never see the value pi. In fact, pi is still undefined. Try printing it below."
   ]
  },
  {
   "cell_type": "code",
   "execution_count": null,
   "id": "e3ed55f9",
   "metadata": {},
   "outputs": [],
   "source": [
    "print(pi)"
   ]
  },
  {
   "cell_type": "markdown",
   "id": "14b93ec0",
   "metadata": {},
   "source": [
    "We can then use this to calculate the volume of many spheres of differing radii."
   ]
  },
  {
   "cell_type": "code",
   "execution_count": null,
   "id": "c1e9a2ce",
   "metadata": {},
   "outputs": [],
   "source": [
    "print(\"Sphere with radius 1 has volume: {:>7.2f}\".format(sphere_volume(1)))\n",
    "print(\"Sphere with radius 2 has volume: {:>7.2f}\".format(sphere_volume(2)))\n",
    "print(\"Sphere with radius 3 has volume: {:>7.2f}\".format(sphere_volume(3)))\n",
    "print(\"Sphere with radius 4 has volume: {:>7.2f}\".format(sphere_volume(4)))\n",
    "print(\"Sphere with radius 5 has volume: {:>7.2f}\".format(sphere_volume(5)))"
   ]
  },
  {
   "cell_type": "markdown",
   "id": "75f267d3",
   "metadata": {},
   "source": [
    "# Exercise\n",
    "Write a function called circle_area that calculates the area of a circle based on the radius."
   ]
  },
  {
   "cell_type": "code",
   "execution_count": null,
   "id": "5977f080",
   "metadata": {},
   "outputs": [],
   "source": [
    "def circle_area(radius):\n",
    "    "
   ]
  },
  {
   "cell_type": "markdown",
   "id": "174af374",
   "metadata": {},
   "source": [
    "Turning things up a notch, we are going to use your function to write another function that returns the volume of a cylinder based on the radius and height."
   ]
  },
  {
   "cell_type": "code",
   "execution_count": null,
   "id": "46414102",
   "metadata": {},
   "outputs": [],
   "source": [
    "def cylinder_volume(radius, height):\n",
    "    base_area = circle_area(radius)\n",
    "    return base_area * height"
   ]
  },
  {
   "cell_type": "markdown",
   "id": "85f8cf15",
   "metadata": {},
   "source": [
    "You can create functions with multiple parameters. Just note that when you call these functions, you must input your arguments in the correct order."
   ]
  },
  {
   "cell_type": "markdown",
   "id": "42909de9",
   "metadata": {},
   "source": [
    "Remember the general structure of a python code includes import statements at the top? Let's add to that to include our function definitions. The order goes\n",
    "\n",
    "    1. General description of the code\n",
    "    2. Module Imports\n",
    "    3. Function definitions\n",
    "    4. Main body of the code"
   ]
  },
  {
   "cell_type": "markdown",
   "id": "801f61af",
   "metadata": {},
   "source": [
    "Some times you may find yourself writing a whole slew of functions. This can be annoying to keep these all in one program where you are trying to write the main body of your code. Luckily, you don't need to do that. You can write your functions in another Python file, store it in the same directory as the file where your main body will go, and import the file containing your functions. For example, say we stored the previous functions, circle_area and circle_volume, in a different file called circle.py. You could then import cylinder and call the functions from that import like so.\n",
    "\n",
    "    import cylinder\n",
    "    cylinder.cylinder_volume(radius, height)\n",
    "    \n",
    "Of course all the same rules about module imports apply meaning you can clean things up in a number of ways.\n",
    "\n",
    "    import cylinder as cyl\n",
    "    cyl.cylinder_volume(radius, height)\n",
    "    \n",
    "    from cylinder import cylinder_volume\n",
    "    cylinder_volume(radius, height)\n",
    "    \n",
    "    from cylinder import cylinder_volume as vol\n",
    "    vol(radius, height)\n",
    "    \n",
    "Now after all that, tell the word cylinder doesn't look wierd. "
   ]
  }
 ],
 "metadata": {
  "kernelspec": {
   "display_name": "Python 3 (ipykernel)",
   "language": "python",
   "name": "python3"
  },
  "language_info": {
   "codemirror_mode": {
    "name": "ipython",
    "version": 3
   },
   "file_extension": ".py",
   "mimetype": "text/x-python",
   "name": "python",
   "nbconvert_exporter": "python",
   "pygments_lexer": "ipython3",
   "version": "3.9.13"
  }
 },
 "nbformat": 4,
 "nbformat_minor": 5
}
