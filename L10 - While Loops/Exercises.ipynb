{
 "cells": [
  {
   "cell_type": "markdown",
   "id": "687265d5",
   "metadata": {},
   "source": [
    "# Exercises\n",
    "Write some code that asks the user for an integer and prints out all the multiples of 3 that are less than the specified number."
   ]
  },
  {
   "cell_type": "code",
   "execution_count": null,
   "id": "5998cb70",
   "metadata": {},
   "outputs": [],
   "source": []
  },
  {
   "cell_type": "markdown",
   "id": "ac5f5a96",
   "metadata": {},
   "source": [
    "Remember the palindrome function? Before the input had to be of length 4. Now, write a palindrome function that will check if a string of any length is a palindrome."
   ]
  },
  {
   "cell_type": "code",
   "execution_count": null,
   "id": "266b2d25",
   "metadata": {},
   "outputs": [],
   "source": [
    "def palindrome(word:str):\n",
    "    \n",
    "    \n",
    "    \n",
    "palindrome(input(\"Input a word ---> \"))"
   ]
  },
  {
   "cell_type": "markdown",
   "id": "e136f79a",
   "metadata": {},
   "source": [
    "Write some code to find the average percentage change from one number to the next, across the whole list. For example, the change from the first to second value is (589 - 340) / 340 * 100 = 73.2% and the change from the second to the third is (959 - 589) / 589 * 100 = 62.8% so the average across just these two decades is 68.0%. "
   ]
  },
  {
   "cell_type": "code",
   "execution_count": null,
   "id": "89cd3545",
   "metadata": {},
   "outputs": [],
   "source": [
    "l = [ 340, 589, 959, 1372, 1918, 2428, 3097, 3880, 4382, 5082, \\\n",
    "            5997, 7268, 9113, 10385, 12588, 13479, 14830, 16782, \\\n",
    "            8236, 17558, 17990, 18976, 19378 ]"
   ]
  },
  {
   "cell_type": "markdown",
   "id": "f65acaa9",
   "metadata": {},
   "source": [
    "Write a program that inputs integer values that the user types until the user types a 0. Each value (other than 0) should be stored in a list. The program should then output the minimum, maximum, average, standard deviation, and median of the values in the list. "
   ]
  },
  {
   "cell_type": "code",
   "execution_count": null,
   "id": "fb7c5c87",
   "metadata": {},
   "outputs": [],
   "source": []
  }
 ],
 "metadata": {
  "kernelspec": {
   "display_name": "Python 3 (ipykernel)",
   "language": "python",
   "name": "python3"
  },
  "language_info": {
   "codemirror_mode": {
    "name": "ipython",
    "version": 3
   },
   "file_extension": ".py",
   "mimetype": "text/x-python",
   "name": "python",
   "nbconvert_exporter": "python",
   "pygments_lexer": "ipython3",
   "version": "3.9.13"
  }
 },
 "nbformat": 4,
 "nbformat_minor": 5
}
