{
 "cells": [
  {
   "cell_type": "markdown",
   "id": "8d157d7e",
   "metadata": {},
   "source": [
    "# L10 - While Loops\n",
    "While loops are deconstructed for loops. Anything you can do with a for loop, you could also do with a while loop. However, while loops have slightly more functionality. \n",
    "\n",
    "While loops are defined using a boolean condition. While that condition holds true, the while loop will loop--hence the name. Let's look at an example."
   ]
  },
  {
   "cell_type": "code",
   "execution_count": null,
   "id": "7201fb12",
   "metadata": {},
   "outputs": [],
   "source": [
    "i = 0\n",
    "while i < 10:\n",
    "    print(i)\n",
    "    i += 1 # without this line the while loop runs indefinitely"
   ]
  },
  {
   "cell_type": "markdown",
   "id": "7a68da3a",
   "metadata": {},
   "source": [
    "There are some similarities here to for loops. We have a looping variable and we want this loop to stop once the variable reaches 10. Notice that unlike a for loop, we have to define and increment the looping variable ourselves. If you forget to increment the looping variable, then your code will get stuck in an infinite loop. In order to escape the infinite loop you have to manually stop the program. In order to do that in Jupyter Notebooks, you need to go to the Kernel tab and click Interrupt or click the stop button in the hot bar.\n",
    "\n",
    "Like for loops, we can use the looping variable to index lists and perform other operations."
   ]
  },
  {
   "cell_type": "code",
   "execution_count": null,
   "id": "b3f9350c",
   "metadata": {},
   "outputs": [],
   "source": [
    "scores = [98, 78, 27, 89, 58, 100]\n",
    "i = 0\n",
    "while i < len(scores):\n",
    "    print(scores[i])\n",
    "    i += 1"
   ]
  },
  {
   "cell_type": "markdown",
   "id": "07746d59",
   "metadata": {},
   "source": [
    "While it is possible to iterate through a list backwards with range(), it's a little easier to understand with a while loop."
   ]
  },
  {
   "cell_type": "code",
   "execution_count": null,
   "id": "c90a857a",
   "metadata": {},
   "outputs": [],
   "source": [
    "i = len(scores) - 1\n",
    "while i >= 0:\n",
    "    print(scores[i])\n",
    "    i -= 1"
   ]
  },
  {
   "cell_type": "markdown",
   "id": "0271880b",
   "metadata": {},
   "source": [
    "You can also see that you can change the step by adjusting how much you change the looping variable by."
   ]
  },
  {
   "cell_type": "code",
   "execution_count": null,
   "id": "b592e1ef",
   "metadata": {},
   "outputs": [],
   "source": [
    "i = len(scores) - 1\n",
    "while i >= 0:\n",
    "    print(scores[i])\n",
    "    i -= 2"
   ]
  },
  {
   "cell_type": "markdown",
   "id": "762b9599",
   "metadata": {},
   "source": [
    "# Practice Problem\n",
    "Recreate this little tree using a while loop\n",
    "\n",
    "        *\n",
    "       ***\n",
    "      *****\n",
    "     *******\n",
    "    *********\n",
    "       ***\n",
    "       ***"
   ]
  },
  {
   "cell_type": "code",
   "execution_count": null,
   "id": "6a400bac",
   "metadata": {},
   "outputs": [],
   "source": []
  },
  {
   "cell_type": "markdown",
   "id": "5afb95b5",
   "metadata": {},
   "source": [
    "# Using new conditions\n",
    "One of the biggest motivations for using while loops is that you can use any boolean as a condition for the while loop to run. "
   ]
  },
  {
   "cell_type": "code",
   "execution_count": null,
   "id": "3968c9d7",
   "metadata": {},
   "outputs": [],
   "source": [
    "import random\n",
    "\n",
    "found = False\n",
    "num = random.randint(1, 10)\n",
    "while not found:\n",
    "    x = int(input(\"Guess a number between 1 and 10 ---> \"))\n",
    "    if x == num:\n",
    "        print(\"Found!\")\n",
    "        found = True\n",
    "    "
   ]
  },
  {
   "cell_type": "markdown",
   "id": "d3c1317a",
   "metadata": {},
   "source": [
    "While you could use a for loop with range having a ridiculously large end value, hopefully you can see that this is a better approach. \n",
    "\n",
    "# Loop Control\n",
    "Since any boolean value is an acceptable condition for a while loop, the following code is valid:\n",
    "\n",
    "    while True:\n",
    "        print(\"Hello World!\")\n",
    "        \n",
    "This would give you an infinite number of 'Hello World!' statements printed out. But what if we wanted to use the while True condition and be able to exit the loop once a certain condition is found. You could keep track of the condition with a boolean variable like above, but you can also use loop control.\n",
    "\n",
    "# break\n",
    "The break keyword will remove you from whatever loop you are currently in. "
   ]
  },
  {
   "cell_type": "code",
   "execution_count": null,
   "id": "4e1fc7dd",
   "metadata": {},
   "outputs": [],
   "source": [
    "password = 'P@ssW0rD'\n",
    "while True:\n",
    "    x = input(\"Password: \")\n",
    "    if x == password:\n",
    "        break\n",
    "print(\"*Hacker Voice*: \\\"I'm in...\\\"\")"
   ]
  },
  {
   "cell_type": "markdown",
   "id": "e7dafc2a",
   "metadata": {},
   "source": [
    "# continue\n",
    "The continue keyword will skip the current iteration of the loop. This is useful for when you want to restart your loop or skip a certain iteration. "
   ]
  },
  {
   "cell_type": "code",
   "execution_count": null,
   "id": "1c9a21b4",
   "metadata": {},
   "outputs": [],
   "source": [
    "s = 'the quick brown fox ran over the lazy dog'\n",
    "print(s)\n",
    "i = 0\n",
    "while i < len(s):\n",
    "    if s[i] == 'a':\n",
    "        s = s[i+1:] + s[:i]\n",
    "        print(s)\n",
    "        i = 0\n",
    "        continue\n",
    "    elif s[i] == 'e':\n",
    "        s = s[:i] + 'a' + s[i+1:]\n",
    "        print(s)\n",
    "        i = 0\n",
    "        continue\n",
    "    elif s[i] == 'i':\n",
    "        s = s.replace('i', 'a')\n",
    "        s = s[::-1]\n",
    "        print(s)\n",
    "        i = 0\n",
    "        continue\n",
    "    elif s[i] == 'o':\n",
    "        s = s[::2] + s[1::2]\n",
    "        x = s.find('o')\n",
    "        s = s[:x] + s[x+1:]\n",
    "        print(s)\n",
    "        i = 0\n",
    "        continue\n",
    "    elif s[i] == 'u':\n",
    "        s = s[1::2] + s[::2]\n",
    "        x = s.find('u')\n",
    "        s = s[:x] + s[x+1:]\n",
    "        print(s)\n",
    "        i = 0\n",
    "        continue\n",
    "    if i % 2 == 0:\n",
    "        s = s.replace(s[i], s[i].upper())\n",
    "    else:\n",
    "        s = s.replace(s[i], s[i].lower())\n",
    "    i += 1\n",
    "print(s)"
   ]
  },
  {
   "cell_type": "markdown",
   "id": "a3cb056e",
   "metadata": {},
   "source": [
    "Loop control also works with for loops."
   ]
  },
  {
   "cell_type": "code",
   "execution_count": null,
   "id": "243bff66",
   "metadata": {},
   "outputs": [],
   "source": [
    "for score in scores:\n",
    "    if score < 70:\n",
    "        print(\"{}% is too terrible... I can't go on\".format(score))\n",
    "        break\n",
    "    else:\n",
    "        print(\"{}% is acceptable\".format(score))"
   ]
  },
  {
   "cell_type": "code",
   "execution_count": null,
   "id": "30e10f47",
   "metadata": {},
   "outputs": [],
   "source": [
    "for score in scores:\n",
    "    if score < 80:\n",
    "        continue\n",
    "    print(\"{}% is a good score!\".format(score))"
   ]
  },
  {
   "cell_type": "markdown",
   "id": "90cc8448",
   "metadata": {},
   "source": [
    "# Nested Loops\n",
    "Like many things in Python, you can create nested loops."
   ]
  },
  {
   "cell_type": "code",
   "execution_count": null,
   "id": "52d1c149",
   "metadata": {},
   "outputs": [],
   "source": [
    "grid = [[0, 0, 0, 0, 0],\n",
    "       [0, 0, 0, 0, 0],\n",
    "       [0, 0, 0, 0, 0],\n",
    "       [0, 0, 0, 0, 0],\n",
    "       [0, 0, 0, 0, 0],]\n",
    "for i in range(len(grid)):\n",
    "    for j in range(len(grid[i])):\n",
    "        grid[i][j] = i + j\n",
    "        \n",
    "for r in grid:\n",
    "    print(r)"
   ]
  },
  {
   "cell_type": "markdown",
   "id": "6391f0b5",
   "metadata": {},
   "source": [
    "Of course this also works with while loops."
   ]
  },
  {
   "cell_type": "code",
   "execution_count": null,
   "id": "ad373b15",
   "metadata": {},
   "outputs": [],
   "source": [
    "L = [2, 21, 12]\n",
    "i = 0\n",
    "while i < len(L):\n",
    "\n",
    "    j = 0\n",
    "    while j < len(L):\n",
    "        print(L[i], L[j])\n",
    "        j += 1\n",
    "\n",
    "    i += 1"
   ]
  }
 ],
 "metadata": {
  "kernelspec": {
   "display_name": "Python 3 (ipykernel)",
   "language": "python",
   "name": "python3"
  },
  "language_info": {
   "codemirror_mode": {
    "name": "ipython",
    "version": 3
   },
   "file_extension": ".py",
   "mimetype": "text/x-python",
   "name": "python",
   "nbconvert_exporter": "python",
   "pygments_lexer": "ipython3",
   "version": "3.9.13"
  }
 },
 "nbformat": 4,
 "nbformat_minor": 5
}
