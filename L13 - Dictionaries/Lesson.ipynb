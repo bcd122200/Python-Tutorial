{
 "cells": [
  {
   "cell_type": "markdown",
   "id": "ba652755",
   "metadata": {},
   "source": [
    "# L13 - Dictionaries\n",
    "Let's introduce a motivating example for the use of a dictionary. We have a text file hanks.txt that contains many different Hanks actors and the movies they are in. We want to count the number of movies each Hanks has done. \n",
    "\n",
    "     Hanks, Jim                          | Goofyfoot                         |            2010\n",
    "     Hanks, Colin                        | High School                       |            2010"
   ]
  },
  {
   "cell_type": "code",
   "execution_count": null,
   "id": "8bafcf70",
   "metadata": {},
   "outputs": [],
   "source": [
    "all_names = []\n",
    "for line in open('hanks.txt', encoding = \"ISO-8859-1\"):\n",
    "    words = line.strip().split('|')\n",
    "    name = words[0].strip()\n",
    "    all_names.append(name)\n",
    "    \n",
    "all_names.sort()\n",
    "counts = []\n",
    "for i in range(len(all_names)):\n",
    "    if i == 0:\n",
    "        counts.append([all_names[i], 1])\n",
    "    elif all_names[i] == all_names[i-1]:\n",
    "        counts[-1][1] += 1\n",
    "    else:\n",
    "        counts.append([all_names[i], 1])\n",
    "        \n",
    "print(counts)"
   ]
  },
  {
   "cell_type": "markdown",
   "id": "97972af7",
   "metadata": {},
   "source": [
    "We can accomplish this using lists, but it was very annoying and inefficient to do so. We had to go through the entire text document to compile all the names, sort the names, then go back through the sorted list and keep track of the counts list. There must be a better way.\n",
    "# Introducing Dictionaries\n",
    "A dictionary is a type that relates keys and values. Keys are commonly strings or numbers, but values can be anything you want."
   ]
  },
  {
   "cell_type": "code",
   "execution_count": null,
   "id": "81b91897",
   "metadata": {},
   "outputs": [],
   "source": [
    "weights = dict() # create empty dictionary\n",
    "weights = {} # also creates an empty dictionary\n",
    "weights['Chihuahua'] = 5.2\n",
    "weights['German Shepherd'] = 62.1\n",
    "weights['Cockapoo'] = 15.2\n",
    "weights['Husky'] = 49.8\n",
    "\n",
    "print(weights)"
   ]
  },
  {
   "cell_type": "markdown",
   "id": "5fcc2cc1",
   "metadata": {},
   "source": [
    "You can add keys and values to dictionaries using square brackets, []. Inside the bracket you put the key, and on the right side of the assignment operator you put the value. If the key does not exist yet in the dictionary, it will be created. If it already exists, the value will be overwritten. Notice the format of the print statement, you can also define dictionaries using that format there."
   ]
  },
  {
   "cell_type": "code",
   "execution_count": null,
   "id": "21feb653",
   "metadata": {},
   "outputs": [],
   "source": [
    "weights = {\n",
    "    'Chihuahua' : 5.2,\n",
    "    'German Shepherd' : 62.1,\n",
    "    'Cockapoo' : 15.2,\n",
    "    'Husky' : 49.8\n",
    "}\n",
    "print(weights)"
   ]
  },
  {
   "cell_type": "markdown",
   "id": "b05f840b",
   "metadata": {},
   "source": [
    "If you are unsure if something exists in a dictionary, you can use the 'in' keyword to check a couple different ways."
   ]
  },
  {
   "cell_type": "code",
   "execution_count": null,
   "id": "4e7c7824",
   "metadata": {},
   "outputs": [],
   "source": [
    "print('Chihuahua' in weights)\n",
    "print('Lab' in weights)\n",
    "print(list(weights.keys()))\n",
    "print('Cockapoo' in weights.keys())"
   ]
  },
  {
   "cell_type": "markdown",
   "id": "4535a866",
   "metadata": {},
   "source": [
    "You can also check to see if certain values exist in the dictionary."
   ]
  },
  {
   "cell_type": "code",
   "execution_count": null,
   "id": "39d22246",
   "metadata": {},
   "outputs": [],
   "source": [
    "print(15.2 in weights)\n",
    "print(15.2 in weights.values())\n",
    "print(list(weights.values()))"
   ]
  },
  {
   "cell_type": "markdown",
   "id": "36dcaa3d",
   "metadata": {},
   "source": [
    "Note that by default, using 'in' on dictionary will query the keys, not the values. \n",
    "\n",
    "Another thing you'll notice is that dictionaries are not ordered. To extract a certain value, you use a key. So it does not matter what the ordering is. This means that in principle, a dictionary without any values is just a set. \n",
    "\n",
    "So how does this help with counting all the different Hanks? You can use the actors' names as keys and their movie total as values. Look how much easier it is with dictionaries."
   ]
  },
  {
   "cell_type": "code",
   "execution_count": null,
   "id": "249db568",
   "metadata": {},
   "outputs": [],
   "source": [
    "actors = dict()\n",
    "for line in open('hanks.txt', encoding = \"ISO-8859-1\"):\n",
    "    words = line.strip().split('|')\n",
    "    name = words[0].strip()\n",
    "    if name in actors.keys():\n",
    "        actors[name] += 1\n",
    "    else:\n",
    "        actors[name] = 1\n",
    "        \n",
    "for actor, num in actors.items():\n",
    "    print(\"{:<18} has been in {:>2} movie(s).\".format(actor, num))"
   ]
  },
  {
   "cell_type": "markdown",
   "id": "5fd0c906",
   "metadata": {},
   "source": [
    "All you need to do is check to see if the name is already a key. If it is, you increase their count, and if not, you give them a starting count. You'll also notice how we iterated through the dictionary using the items() method. This is the best way to iterate through a dictionary. You give two iterating variables, and every iteration the first will take on a new key and the second will take on the corresponding value. The same output can also be achieved by iterating just through the keys. Just access the value where you need to using the dictionary."
   ]
  },
  {
   "cell_type": "code",
   "execution_count": null,
   "id": "f557259f",
   "metadata": {},
   "outputs": [],
   "source": [
    "for actor in actors.keys():\n",
    "    print(\"{:<18} has been in {:>2} movie(s).\".format(actor, actors[actor]))"
   ]
  },
  {
   "cell_type": "markdown",
   "id": "3f781e3b",
   "metadata": {},
   "source": [
    "# More specifications\n",
    "Dictionary keys can be any of the following: strings, ints, floats, booleans, or tuples (although floats and booleans are rarely ever used as keys).\n",
    "\n",
    "Values, however, can be literally anything. This means they can even be lists or other dictionaries. Let's see how this works with the Hanks example."
   ]
  },
  {
   "cell_type": "code",
   "execution_count": null,
   "id": "a45de46e",
   "metadata": {},
   "outputs": [],
   "source": [
    "actors = dict()\n",
    "for line in open('hanks.txt', encoding = \"ISO-8859-1\"):\n",
    "    words = line.strip().split('|')\n",
    "    name = words[0].strip()\n",
    "    if name in actors.keys():\n",
    "        actors[name]['titles'].add((words[1].strip(), int(words[2].strip())))\n",
    "        actors[name]['count'] += 1\n",
    "    else:\n",
    "        actors[name] = {\n",
    "            'titles' : {(words[1].strip(), int(words[2].strip()))},\n",
    "            'count' : 1\n",
    "        }\n",
    "        \n",
    "for actor, details in actors.items():\n",
    "    print(\"{} has been in {:>2} movie(s):\".format(actor, details['count']))\n",
    "    for movie, year in details['titles']:\n",
    "        print('\\t{} in {}'.format(movie, year))"
   ]
  },
  {
   "cell_type": "markdown",
   "id": "1d79e223",
   "metadata": {},
   "source": [
    "Maybe you're starting to pick up on the theme of nesting things, but here it is once again. You can nest as many dictionaries as your computer's memory will allow. Similarly to nested lists, every layer requires another index. Look on line 6. We want to update the current actor's personal dictionary, so that dictionary is returned by the first pair of brackets. The second pair is then needed to access the 'titles' key inside the actor's personal dictionary. Same thing on the next line, except now we want to access the 'count' in that actor's personal dictionary. \n",
    "\n",
    "When we go to print out our findings, notice there are multiple loops now. The first grabes the key-value pairs from the big dictionary of actors where the key is the actor name and the value is their corresponding dictionary called details. To get the actor's movie count we request it from details. And when we want to print out all the movie titles for that particular actor, we access the set containing all the movies and years for that actor using details['titles']. We use two looping variables because each item in the set is a tuple (movie, year).\n",
    "# Removing Values from Sets and Dictionaries\n",
    "There are two ways to remove elements from sets:\n",
    "\n",
    "    discard() method removes specified element and does nothing if it's not there\n",
    "    pop() method removes random element from the set and returns the item removed\n",
    "    \n",
    "The del function removes keys (and subsequently their values) from dictionaries.\n",
    "\n",
    "\n",
    "The clear() method works on both and removes everything."
   ]
  },
  {
   "cell_type": "code",
   "execution_count": null,
   "id": "27856e6e",
   "metadata": {},
   "outputs": [],
   "source": [
    "s = {1, 4, 8, 'dog', 'cat'}\n",
    "s.discard('cat')\n",
    "print(s)"
   ]
  },
  {
   "cell_type": "code",
   "execution_count": null,
   "id": "2a66f25b",
   "metadata": {},
   "outputs": [],
   "source": [
    "s.discard('cat')\n",
    "removed = s.pop()\n",
    "print('Removed', removed)\n",
    "print(s)"
   ]
  },
  {
   "cell_type": "code",
   "execution_count": null,
   "id": "1e12a0a2",
   "metadata": {},
   "outputs": [],
   "source": [
    "print(weights)\n",
    "del weights['Chihuahua']\n",
    "print(weights)"
   ]
  },
  {
   "cell_type": "markdown",
   "id": "d70f7447",
   "metadata": {},
   "source": [
    "Yeah the del function has weird syntax but that's just the way it is.\n",
    "\n",
    "Another useful dictinoary method is update(). This merges two dictionaries."
   ]
  },
  {
   "cell_type": "code",
   "execution_count": null,
   "id": "3ee61ff8",
   "metadata": {},
   "outputs": [],
   "source": [
    "grades_1 = {'Math':98, 'Science':97}\n",
    "grades_2 = {'English':80}\n",
    "grades_1.update(grades_2)\n",
    "print(grades_1)"
   ]
  },
  {
   "cell_type": "markdown",
   "id": "6a5e225a",
   "metadata": {},
   "source": [
    "Lastly, remember that little thing called aliasing? Well it turns out that that happens to dictionaries too. They can get to be pretty big after all. Knowing that dictionaries get aliased, what do you think the output of this code is?"
   ]
  },
  {
   "cell_type": "code",
   "execution_count": null,
   "id": "3e0cab81",
   "metadata": {},
   "outputs": [],
   "source": [
    "d = dict()\n",
    "d[15] = 'hi' \n",
    "L = []\n",
    "L.append(d) \n",
    "d[20] = 'bye' \n",
    "L.append(d.copy()) \n",
    "d[15] = 'hello' \n",
    "del d[20] \n",
    "print(L) "
   ]
  },
  {
   "cell_type": "markdown",
   "id": "aae23524",
   "metadata": {},
   "source": [
    "Kind of a weird result, but something to keep in mind when storing dictionaries in containers. You need to use the copy() method if you want to preserve the original dictionary."
   ]
  }
 ],
 "metadata": {
  "kernelspec": {
   "display_name": "Python 3 (ipykernel)",
   "language": "python",
   "name": "python3"
  },
  "language_info": {
   "codemirror_mode": {
    "name": "ipython",
    "version": 3
   },
   "file_extension": ".py",
   "mimetype": "text/x-python",
   "name": "python",
   "nbconvert_exporter": "python",
   "pygments_lexer": "ipython3",
   "version": "3.9.13"
  }
 },
 "nbformat": 4,
 "nbformat_minor": 5
}
