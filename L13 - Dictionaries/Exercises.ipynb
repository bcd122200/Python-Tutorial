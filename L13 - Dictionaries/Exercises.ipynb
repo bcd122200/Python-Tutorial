{
 "cells": [
  {
   "cell_type": "markdown",
   "id": "0208ee7a",
   "metadata": {},
   "source": [
    "# Exercises\n",
    "The text file declaration.txt is a copy of the Declaration of Independence. Write some code that will tell identify the number of different words used, the most used word (regardless of capitalization) with its count, and the number of words only used once. Note that the formatting is not consistent. Some lines have many sentences, some have a few words, and some are blank. Be sure not to include any punctuation or blank spaces. Punctuation used includes:\n",
    "\n",
    "    '.'\n",
    "    ','\n",
    "    ':'\n",
    "    ';'\n",
    "    '--'"
   ]
  },
  {
   "cell_type": "code",
   "execution_count": 5,
   "id": "7dded5e3",
   "metadata": {},
   "outputs": [
    {
     "name": "stdout",
     "output_type": "stream",
     "text": [
      "541\n",
      "the 78\n",
      "390\n"
     ]
    }
   ],
   "source": []
  },
  {
   "cell_type": "markdown",
   "id": "54b0b205",
   "metadata": {},
   "source": [
    "Using the imdb_data.txt file, write some code that will output the movie that has the most unique actors associated with it and the number of actors and the number of movies that only have two actors associated with it."
   ]
  },
  {
   "cell_type": "code",
   "execution_count": null,
   "id": "208e2690",
   "metadata": {},
   "outputs": [],
   "source": []
  }
 ],
 "metadata": {
  "kernelspec": {
   "display_name": "Python 3 (ipykernel)",
   "language": "python",
   "name": "python3"
  },
  "language_info": {
   "codemirror_mode": {
    "name": "ipython",
    "version": 3
   },
   "file_extension": ".py",
   "mimetype": "text/x-python",
   "name": "python",
   "nbconvert_exporter": "python",
   "pygments_lexer": "ipython3",
   "version": "3.9.13"
  }
 },
 "nbformat": 4,
 "nbformat_minor": 5
}
