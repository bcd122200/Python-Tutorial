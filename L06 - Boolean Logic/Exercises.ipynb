{
 "cells": [
  {
   "cell_type": "markdown",
   "id": "82041ab9",
   "metadata": {},
   "source": [
    "# Exercises\n",
    "Write a short program that asks the user to input two numbers where one of them must be greater than 10 and the other must be less than or equal to 10. It does not matter which is which. If both inputs are greater than 10, the program should output the error message “Both are above 10.” If both are less than or equal 10, the program should output the message “Both are below 10.” If one of the numbers is above 10 and the other is less than or equal to 10, no message should be output. Regardless of any messages, the program should then output the average of the two numbers, accurate to 2 decimals. You should need an if and an elif but no else blocks. "
   ]
  },
  {
   "cell_type": "code",
   "execution_count": null,
   "id": "b4d3031b",
   "metadata": {},
   "outputs": [],
   "source": []
  },
  {
   "cell_type": "markdown",
   "id": "ca1ac325",
   "metadata": {},
   "source": [
    "Below is a program that estimates the value of pi using monte carlo sampling. The program generates N number of points to create coordinates in 0 <= x < 1.0 and 0 <= y < 1.0. This region makes a square with an area of 1.0. If you draw a quarter circle arc through this square from (0, 1) to (1, 0), that quarter circle has a value of pi/4. So if you count the number of random points generated that fall inside the quarter circle and you divide by the number of points used, you get an estimate of the area of the quarter circle. Multiply this by 4 and you get an estimate for pi. The program works except that the function, inside_arc(), used to determine if a point lands inside the quarter circle is not defined. Your job is to finish that function. "
   ]
  },
  {
   "cell_type": "code",
   "execution_count": null,
   "id": "9aa6a20b",
   "metadata": {},
   "outputs": [],
   "source": [
    "import random\n",
    "import numpy as np\n",
    "import matplotlib.pyplot as plt\n",
    "\n",
    "def inside_arc(x, y):\n",
    "    \"\"\"\n",
    "    Define the return statement such that it returns True if the\n",
    "    point (x,y) is inside the quarter circle arc and False otherwise.\n",
    "    \"\"\"\n",
    "    return \n",
    "\n",
    "random.seed(123) # set random seed\n",
    "N = 10000000 # set number of points\n",
    "in_quarter = 0 # count points inside quarter circle\n",
    "xs = np.zeros(N) # hold xs for visualization\n",
    "ys = np.zeros(N) # hold ys for visualization\n",
    "for i in range(N): # we'll get back to for loops\n",
    "    x = random.random() # random number in [0,1.0)\n",
    "    xs[i] = x\n",
    "    y = random.random() # x and y coords\n",
    "    ys[i] = y\n",
    "    if inside_arc(x, y):\n",
    "        in_quarter += 1\n",
    "fraction = in_quarter / N # proportion of points in the quarter circle\n",
    "pi = 4 * fraction # pi estimation\n",
    "\n",
    "plt.scatter(np.random.choice(xs, min(5000,N)), np.random.choice(ys, min(5000,N)), s=1) # plot a subset of points\n",
    "x = np.linspace(0, 1, 100)\n",
    "plt.plot(x, list(map(lambda s: pow(1-s**2, 1/2), x)), 'r-') # plot arc\n",
    "print(\"Estimate of pi using {:,} points: {}\".format(N, pi))"
   ]
  }
 ],
 "metadata": {
  "kernelspec": {
   "display_name": "Python 3 (ipykernel)",
   "language": "python",
   "name": "python3"
  },
  "language_info": {
   "codemirror_mode": {
    "name": "ipython",
    "version": 3
   },
   "file_extension": ".py",
   "mimetype": "text/x-python",
   "name": "python",
   "nbconvert_exporter": "python",
   "pygments_lexer": "ipython3",
   "version": "3.9.13"
  }
 },
 "nbformat": 4,
 "nbformat_minor": 5
}
