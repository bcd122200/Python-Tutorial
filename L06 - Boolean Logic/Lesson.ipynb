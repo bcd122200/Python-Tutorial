{
 "cells": [
  {
   "cell_type": "markdown",
   "id": "22b651cb",
   "metadata": {},
   "source": [
    "# L06 - Boolean Logic\n",
    "Often times you will need to make decisions in your code based on the values of the data you are using. There are mechanisms to help you do this by using boolean logic. You have already seen some built-in functions that use boolean logic to determine which values are greater."
   ]
  },
  {
   "cell_type": "code",
   "execution_count": null,
   "id": "4b77376f",
   "metadata": {},
   "outputs": [],
   "source": [
    "bob_worth = float(input(\"How much money does Bob have? \"))\n",
    "tim_worth = float(input(\"How much money does Tim have? \"))\n",
    "print(\"The greater amount is ${:.2f}\".format(max(bob_worth,tim_worth)))"
   ]
  },
  {
   "cell_type": "markdown",
   "id": "9d96a3b6",
   "metadata": {},
   "source": [
    "But you don't have a way of announcing how has more money? You can only find the greater value amongst them. If you want to announce who has more, you will need an if statement."
   ]
  },
  {
   "cell_type": "code",
   "execution_count": null,
   "id": "58eb8309",
   "metadata": {},
   "outputs": [],
   "source": [
    "bob_worth = float(input(\"How much money does Bob have? \"))\n",
    "tim_worth = float(input(\"How much money does Tim have? \"))\n",
    "if bob_worth > tim_worth:\n",
    "    print(\"Bob has more money!\")\n",
    "else:\n",
    "    print(\"Tim has more money!\")"
   ]
  },
  {
   "cell_type": "markdown",
   "id": "c79ef711",
   "metadata": {},
   "source": [
    "# What is a Boolean\n",
    "Simply put it is a new type that either has the value of True or False. You can assign booleans to variables just like any other type."
   ]
  },
  {
   "cell_type": "code",
   "execution_count": null,
   "id": "a6034b44",
   "metadata": {},
   "outputs": [],
   "source": [
    "value = True\n",
    "print(value)\n",
    "print(type(value))"
   ]
  },
  {
   "cell_type": "markdown",
   "id": "d3ea2d35",
   "metadata": {},
   "source": [
    "Bools will help us introduce new operators like\n",
    "\n",
    "    <\n",
    "    <=\n",
    "    ==\n",
    "    !=\n",
    "    and\n",
    "    or\n",
    "    not\n",
    "    \n",
    "These operators can help you set up conditions in your code and handle different scenarios much easier. Let's look at the relational operators first.\n",
    "# Relational Operators\n",
    "\n",
    "    <\n",
    "    >\n",
    "    <=\n",
    "    >=\n",
    "    == (equal)\n",
    "    != (not equal)\n",
    "    \n",
    "Many of these operators are self explanatory, but generally they compare the values of two of the same type of data. Note that the single = sign is the assignment operator, but the == equals sign is the 'is equal to' relational operator which is more in line with the traditional role of the = symbol. "
   ]
  },
  {
   "cell_type": "code",
   "execution_count": null,
   "id": "46792533",
   "metadata": {},
   "outputs": [],
   "source": [
    "x = 10\n",
    "y = 21\n",
    "z = 21\n",
    "print(x > y)\n",
    "print(y <= z)\n",
    "print(x == z)\n",
    "print(x != z)\n",
    "print(z == y)"
   ]
  },
  {
   "cell_type": "markdown",
   "id": "0f846ceb",
   "metadata": {},
   "source": [
    "While these relational operators intuitively work on float and int types, they actually work on many different data types, including strings"
   ]
  },
  {
   "cell_type": "code",
   "execution_count": null,
   "id": "8f63b704",
   "metadata": {},
   "outputs": [],
   "source": [
    "s0 = 'Duke'\n",
    "s1 = 'Duke'\n",
    "s2 = 'duke'\n",
    "s3 = '123'\n",
    "print(s0 == s1)\n",
    "print(s0 == s2)\n",
    "print(s1 > s2)\n",
    "print(s1 < s2)\n",
    "print(s2 > s3)\n",
    "print(s3 < s0)"
   ]
  },
  {
   "cell_type": "markdown",
   "id": "ee74e706",
   "metadata": {},
   "source": [
    "You may be wondering how one string can be greater than another? With strings the greater and less than operators refer to the ordering of strings in lexicographic ordering rather than alphabetic. In lexicographic ordering, numbers come first, then upper case letters, than lower case letters. So a lower case letter is greater than a number in strings because it is further in the lexicographic ordering. "
   ]
  },
  {
   "cell_type": "markdown",
   "id": "8ec0d68b",
   "metadata": {},
   "source": [
    "# if Statements\n",
    "In its simplist form, an if statement can be used to shield a block of code from being executed unless a specific condition is true.\n",
    "\n",
    "    if condition:\n",
    "        execute\n",
    "        \n",
    "Notice that the if statement has a colon after and then the following code is indented. This is to define the scope of the if statement so Python knows what block of code is protected by the if statement. "
   ]
  },
  {
   "cell_type": "markdown",
   "id": "136e5819",
   "metadata": {},
   "source": [
    "Say you have mutually exlusive options, meaning if one condition is true then something happens, but if the condition is not true, something else should happen. This is the role that the else keyword plays.\n",
    "\n",
    "    if condition:\n",
    "        True execution\n",
    "    else:\n",
    "        False execution\n",
    "        \n",
    "Returning to the earlier example of Bob's and Tim's money, we could write code that works for that without using an else block."
   ]
  },
  {
   "cell_type": "code",
   "execution_count": null,
   "id": "bb6cd8db",
   "metadata": {},
   "outputs": [],
   "source": [
    "bob_worth = float(input(\"How much money does Bob have? \"))\n",
    "tim_worth = float(input(\"How much money does Tim have? \"))\n",
    "if bob_worth > tim_worth:\n",
    "    print(\"Bob has more money!\")\n",
    "if bob_worth <= tim_worth:\n",
    "    print(\"Tim has more money!\")"
   ]
  },
  {
   "cell_type": "markdown",
   "id": "3e3bd35b",
   "metadata": {},
   "source": [
    "But you can see that it is much simpler to just use the else block. But what happens in the case where they have the same amount of money. Even in the case where we use the else block, this won't account for the case where they have the same amount of money because this is new third condition. We could get around that by doing something like this."
   ]
  },
  {
   "cell_type": "code",
   "execution_count": null,
   "id": "ac0392bf",
   "metadata": {},
   "outputs": [],
   "source": [
    "bob_worth = float(input(\"How much money does Bob have? \"))\n",
    "tim_worth = float(input(\"How much money does Tim have? \"))\n",
    "if bob_worth > tim_worth:\n",
    "    print(\"Bob has more money!\")\n",
    "else:\n",
    "    if bob_worth < tim_worth:\n",
    "        print(\"Tim has more money!\")\n",
    "    else:\n",
    "        print(\"Bob and Tim have the same amount of money!\")"
   ]
  },
  {
   "cell_type": "markdown",
   "id": "540c8569",
   "metadata": {},
   "source": [
    "But this is clunky and could get very annoying if you have many different cases. So, we use an elif block instead. This essentially combines the else and following if statement into one keyword. Let's see how it works."
   ]
  },
  {
   "cell_type": "code",
   "execution_count": null,
   "id": "ce951cc4",
   "metadata": {},
   "outputs": [],
   "source": [
    "bob_worth = float(input(\"How much money does Bob have? \"))\n",
    "tim_worth = float(input(\"How much money does Tim have? \"))\n",
    "if bob_worth > tim_worth:\n",
    "    print(\"Bob has more money!\")\n",
    "elif bob_worth < tim_worth:\n",
    "    print(\"Tim has more money!\")\n",
    "else:\n",
    "    print(\"Bob and Tim have the same amount of money!\")"
   ]
  },
  {
   "cell_type": "markdown",
   "id": "765b5a15",
   "metadata": {},
   "source": [
    "The beauty of the elif keyword is that it keeps the scope of all our blocks of code the same. The code is much easier to digest this way and easier to debug as well. Note that exactly one of the blocks will get executed and only one. You also do not even need an else block, so in that case, it could be the case that no blocks of code get executed. "
   ]
  },
  {
   "cell_type": "markdown",
   "id": "20d56b37",
   "metadata": {},
   "source": [
    "# Making if statements more complicated\n",
    "Sometimes you need to check multiple conditions in one if statement. So you will need to include some boolean operators. Let's take a look at an example to illustrate this."
   ]
  },
  {
   "cell_type": "code",
   "execution_count": null,
   "id": "2456f0f7",
   "metadata": {},
   "outputs": [],
   "source": [
    "temp = float(input(\"What's the temperature in F? \"))\n",
    "humidity = input('Is the humidity \"high\" or \"low\"? ')\n",
    "if humidity == 'high' and temp >= 90:\n",
    "    print(\"Liz will go outside but only to tan.\")\n",
    "elif humidity == 'high' and temp >= 60:\n",
    "    print(\"Liz might go outside.\")\n",
    "elif temp < 60 or humidity == 'high':\n",
    "    print(\"Liz will not go outside.\")\n",
    "else:\n",
    "    print(\"Liz will go outside\")"
   ]
  },
  {
   "cell_type": "markdown",
   "id": "14635063",
   "metadata": {},
   "source": [
    "# Boolean Logic Operators\n",
    "Boolean Logic operators work between bool types. \n",
    "# or\n",
    "will return true if any of the bool values are true.\n",
    "\n",
    "    True or True -> True\n",
    "    True or False -> True\n",
    "    False or True -> True\n",
    "    False or False -> False\n",
    "    \n",
    "# and\n",
    "will return true if both bools values are true.\n",
    "\n",
    "    True and True -> True\n",
    "    True and False -> False\n",
    "    False and True -> False\n",
    "    False and False -> False\n",
    "    \n",
    "# not\n",
    "will return the negation of a single bool value\n",
    "\n",
    "    not True -> False\n",
    "    not False -> True    "
   ]
  }
 ],
 "metadata": {
  "kernelspec": {
   "display_name": "Python 3 (ipykernel)",
   "language": "python",
   "name": "python3"
  },
  "language_info": {
   "codemirror_mode": {
    "name": "ipython",
    "version": 3
   },
   "file_extension": ".py",
   "mimetype": "text/x-python",
   "name": "python",
   "nbconvert_exporter": "python",
   "pygments_lexer": "ipython3",
   "version": "3.9.13"
  }
 },
 "nbformat": 4,
 "nbformat_minor": 5
}
